{
  "nbformat": 4,
  "nbformat_minor": 0,
  "metadata": {
    "colab": {
      "name": "UTS_AryaMaulanaI_2101202079.ipynb",
      "provenance": [],
      "collapsed_sections": [],
      "authorship_tag": "ABX9TyOWsFWGVXpMf0iPsLT38PtP",
      "include_colab_link": true
    },
    "kernelspec": {
      "name": "python3",
      "display_name": "Python 3"
    },
    "language_info": {
      "name": "python"
    },
    "accelerator": "GPU"
  },
  "cells": [
    {
      "cell_type": "markdown",
      "metadata": {
        "id": "view-in-github",
        "colab_type": "text"
      },
      "source": [
        "<a href=\"https://colab.research.google.com/github/ami29839/slo2k21/blob/main/UTS_AryaMaulanaI_2101202079(4).ipynb\" target=\"_parent\"><img src=\"https://colab.research.google.com/assets/colab-badge.svg\" alt=\"Open In Colab\"/></a>"
      ]
    },
    {
      "cell_type": "code",
      "metadata": {
        "colab": {
          "base_uri": "https://localhost:8080/"
        },
        "id": "h6Atl4-ff-VP",
        "outputId": "9540c248-7cac-4370-98ea-137e54212675"
      },
      "source": [
        "from google.colab import drive\n",
        "drive.mount('/content/drive')"
      ],
      "execution_count": 1,
      "outputs": [
        {
          "output_type": "stream",
          "text": [
            "Drive already mounted at /content/drive; to attempt to forcibly remount, call drive.mount(\"/content/drive\", force_remount=True).\n"
          ],
          "name": "stdout"
        }
      ]
    },
    {
      "cell_type": "code",
      "metadata": {
        "colab": {
          "base_uri": "https://localhost:8080/"
        },
        "id": "5ewU6PzPgALp",
        "outputId": "45bc1270-5324-4eec-d251-26a275996576"
      },
      "source": [
        "cd /content/drive/MyDrive/Colab"
      ],
      "execution_count": 2,
      "outputs": [
        {
          "output_type": "stream",
          "text": [
            "/content/drive/MyDrive/Colab\n"
          ],
          "name": "stdout"
        }
      ]
    },
    {
      "cell_type": "code",
      "metadata": {
        "id": "HcQ_0LGugAkP"
      },
      "source": [
        "from keras.models import Sequential\n",
        "from keras.layers.core import Activation\n",
        "from keras.layers.core import Flatten\n",
        "from keras.layers.core import Dense\n",
        "from keras.optimizers import Adam\n",
        "from sklearn.preprocessing import LabelBinarizer\n",
        "from sklearn.model_selection import train_test_split\n",
        "from sklearn.metrics import classification_report\n",
        "from PIL import Image\n",
        "from PIL import ImageFilter\n",
        "from imutils import paths\n",
        "import numpy as np\n",
        "import os"
      ],
      "execution_count": 3,
      "outputs": []
    },
    {
      "cell_type": "code",
      "metadata": {
        "colab": {
          "base_uri": "https://localhost:8080/"
        },
        "id": "7DK5hvDVgDJH",
        "outputId": "77adee0c-753a-4853-c3ef-fed095839289"
      },
      "source": [
        "print(\"(INFO) loading images...\")\n",
        "imagePaths=paths.list_images(\"3scene\")\n",
        "data=[]\n",
        "labels=[]"
      ],
      "execution_count": 4,
      "outputs": [
        {
          "output_type": "stream",
          "text": [
            "(INFO) loading images...\n"
          ],
          "name": "stdout"
        }
      ]
    },
    {
      "cell_type": "code",
      "metadata": {
        "id": "pTIVcLYygEwq"
      },
      "source": [
        "for imagePath in imagePaths:\n",
        "  image=Image.open(imagePath)\n",
        "  image=image.filter(ImageFilter.SMOOTH)\n",
        "  image = image.filter(ImageFilter.SMOOTH_MORE)\n",
        "  image=np.array(image.resize((128,128))) / 255.0\n",
        "  data.append(image)\n",
        "  label=imagePath.split(os.path.sep)[-2]\n",
        "  labels.append(label)"
      ],
      "execution_count": 5,
      "outputs": []
    },
    {
      "cell_type": "code",
      "metadata": {
        "id": "UbeJzyrqhwQC",
        "colab": {
          "base_uri": "https://localhost:8080/"
        },
        "outputId": "71b5e8a4-05c4-4f38-be84-6fe9152dadd7"
      },
      "source": [
        "print(labels)"
      ],
      "execution_count": 6,
      "outputs": [
        {
          "output_type": "stream",
          "text": [
            "['coast', 'coast', 'coast', 'coast', 'coast', 'coast', 'coast', 'coast', 'coast', 'coast', 'coast', 'coast', 'coast', 'coast', 'coast', 'coast', 'coast', 'coast', 'coast', 'coast', 'coast', 'coast', 'coast', 'coast', 'coast', 'coast', 'coast', 'coast', 'coast', 'coast', 'coast', 'coast', 'coast', 'coast', 'coast', 'coast', 'coast', 'coast', 'coast', 'coast', 'coast', 'coast', 'coast', 'coast', 'coast', 'coast', 'coast', 'coast', 'coast', 'coast', 'coast', 'coast', 'coast', 'coast', 'coast', 'coast', 'coast', 'coast', 'coast', 'coast', 'coast', 'coast', 'coast', 'coast', 'coast', 'coast', 'coast', 'coast', 'coast', 'coast', 'coast', 'coast', 'coast', 'coast', 'coast', 'coast', 'coast', 'coast', 'coast', 'coast', 'coast', 'coast', 'coast', 'coast', 'coast', 'coast', 'coast', 'coast', 'coast', 'coast', 'coast', 'coast', 'coast', 'coast', 'coast', 'coast', 'coast', 'coast', 'coast', 'coast', 'coast', 'coast', 'coast', 'coast', 'coast', 'coast', 'coast', 'coast', 'coast', 'coast', 'coast', 'coast', 'coast', 'coast', 'coast', 'coast', 'coast', 'coast', 'coast', 'coast', 'coast', 'coast', 'coast', 'coast', 'coast', 'coast', 'coast', 'coast', 'coast', 'coast', 'coast', 'coast', 'coast', 'coast', 'coast', 'coast', 'coast', 'coast', 'coast', 'coast', 'coast', 'coast', 'coast', 'coast', 'coast', 'coast', 'coast', 'coast', 'coast', 'coast', 'coast', 'coast', 'coast', 'coast', 'coast', 'coast', 'coast', 'coast', 'coast', 'coast', 'coast', 'coast', 'coast', 'coast', 'coast', 'coast', 'coast', 'coast', 'coast', 'coast', 'coast', 'coast', 'coast', 'coast', 'coast', 'coast', 'coast', 'coast', 'coast', 'coast', 'coast', 'coast', 'coast', 'coast', 'coast', 'coast', 'coast', 'coast', 'coast', 'coast', 'coast', 'coast', 'coast', 'coast', 'coast', 'coast', 'coast', 'coast', 'coast', 'coast', 'coast', 'coast', 'coast', 'coast', 'coast', 'coast', 'coast', 'coast', 'coast', 'coast', 'coast', 'coast', 'coast', 'coast', 'coast', 'coast', 'coast', 'coast', 'coast', 'coast', 'coast', 'coast', 'coast', 'coast', 'coast', 'coast', 'coast', 'coast', 'coast', 'coast', 'coast', 'coast', 'coast', 'coast', 'coast', 'coast', 'coast', 'coast', 'coast', 'coast', 'coast', 'coast', 'coast', 'coast', 'coast', 'coast', 'coast', 'coast', 'coast', 'coast', 'coast', 'coast', 'coast', 'coast', 'coast', 'coast', 'coast', 'coast', 'coast', 'coast', 'coast', 'coast', 'coast', 'coast', 'coast', 'coast', 'coast', 'coast', 'coast', 'coast', 'coast', 'coast', 'coast', 'coast', 'coast', 'coast', 'coast', 'coast', 'coast', 'coast', 'coast', 'coast', 'coast', 'coast', 'coast', 'coast', 'coast', 'coast', 'coast', 'coast', 'coast', 'coast', 'coast', 'coast', 'coast', 'coast', 'coast', 'coast', 'coast', 'coast', 'coast', 'coast', 'coast', 'coast', 'coast', 'coast', 'coast', 'coast', 'coast', 'coast', 'coast', 'coast', 'coast', 'coast', 'coast', 'coast', 'coast', 'coast', 'coast', 'coast', 'coast', 'coast', 'coast', 'coast', 'coast', 'coast', 'coast', 'coast', 'coast', 'coast', 'coast', 'coast', 'coast', 'coast', 'coast', 'coast', 'coast', 'coast', 'coast', 'coast', 'coast', 'coast', 'coast', 'coast', 'coast', 'coast', 'coast', 'coast', 'coast', 'coast', 'coast', 'coast', 'coast', 'coast', 'coast', 'coast', 'coast', 'coast', 'coast', 'coast', 'highway', 'highway', 'highway', 'highway', 'highway', 'highway', 'highway', 'highway', 'highway', 'highway', 'highway', 'highway', 'highway', 'highway', 'highway', 'highway', 'highway', 'highway', 'highway', 'highway', 'highway', 'highway', 'highway', 'highway', 'highway', 'highway', 'highway', 'highway', 'highway', 'highway', 'highway', 'highway', 'highway', 'highway', 'highway', 'highway', 'highway', 'highway', 'highway', 'highway', 'highway', 'highway', 'highway', 'highway', 'highway', 'highway', 'highway', 'highway', 'highway', 'highway', 'highway', 'highway', 'highway', 'highway', 'highway', 'highway', 'highway', 'highway', 'highway', 'highway', 'highway', 'highway', 'highway', 'highway', 'highway', 'highway', 'highway', 'highway', 'highway', 'highway', 'highway', 'highway', 'highway', 'highway', 'highway', 'highway', 'highway', 'highway', 'highway', 'highway', 'highway', 'highway', 'highway', 'highway', 'highway', 'highway', 'highway', 'highway', 'highway', 'highway', 'highway', 'highway', 'highway', 'highway', 'highway', 'highway', 'highway', 'highway', 'highway', 'highway', 'highway', 'highway', 'highway', 'highway', 'highway', 'highway', 'highway', 'highway', 'highway', 'highway', 'highway', 'highway', 'highway', 'highway', 'highway', 'highway', 'highway', 'highway', 'highway', 'highway', 'highway', 'highway', 'highway', 'highway', 'highway', 'highway', 'highway', 'highway', 'highway', 'highway', 'highway', 'highway', 'highway', 'highway', 'highway', 'highway', 'highway', 'highway', 'highway', 'highway', 'highway', 'highway', 'highway', 'highway', 'highway', 'highway', 'highway', 'highway', 'highway', 'highway', 'highway', 'highway', 'highway', 'highway', 'highway', 'highway', 'highway', 'highway', 'highway', 'highway', 'highway', 'highway', 'highway', 'highway', 'highway', 'highway', 'highway', 'highway', 'highway', 'highway', 'highway', 'highway', 'highway', 'highway', 'highway', 'highway', 'highway', 'highway', 'highway', 'highway', 'highway', 'highway', 'highway', 'highway', 'highway', 'highway', 'highway', 'highway', 'highway', 'highway', 'highway', 'highway', 'highway', 'highway', 'highway', 'highway', 'highway', 'highway', 'highway', 'highway', 'highway', 'highway', 'highway', 'highway', 'highway', 'highway', 'highway', 'highway', 'highway', 'highway', 'highway', 'highway', 'highway', 'highway', 'highway', 'highway', 'highway', 'highway', 'highway', 'highway', 'highway', 'highway', 'highway', 'highway', 'highway', 'highway', 'highway', 'highway', 'highway', 'highway', 'highway', 'highway', 'highway', 'highway', 'highway', 'highway', 'highway', 'highway', 'highway', 'highway', 'highway', 'highway', 'highway', 'highway', 'highway', 'highway', 'highway', 'highway', 'highway', 'highway', 'highway', 'highway', 'highway', 'highway', 'highway', 'highway', 'highway', 'highway', 'highway', 'highway', 'forest', 'forest', 'forest', 'forest', 'forest', 'forest', 'forest', 'forest', 'forest', 'forest', 'forest', 'forest', 'forest', 'forest', 'forest', 'forest', 'forest', 'forest', 'forest', 'forest', 'forest', 'forest', 'forest', 'forest', 'forest', 'forest', 'forest', 'forest', 'forest', 'forest', 'forest', 'forest', 'forest', 'forest', 'forest', 'forest', 'forest', 'forest', 'forest', 'forest', 'forest', 'forest', 'forest', 'forest', 'forest', 'forest', 'forest', 'forest', 'forest', 'forest', 'forest', 'forest', 'forest', 'forest', 'forest', 'forest', 'forest', 'forest', 'forest', 'forest', 'forest', 'forest', 'forest', 'forest', 'forest', 'forest', 'forest', 'forest', 'forest', 'forest', 'forest', 'forest', 'forest', 'forest', 'forest', 'forest', 'forest', 'forest', 'forest', 'forest', 'forest', 'forest', 'forest', 'forest', 'forest', 'forest', 'forest', 'forest', 'forest', 'forest', 'forest', 'forest', 'forest', 'forest', 'forest', 'forest', 'forest', 'forest', 'forest', 'forest', 'forest', 'forest', 'forest', 'forest', 'forest', 'forest', 'forest', 'forest', 'forest', 'forest', 'forest', 'forest', 'forest', 'forest', 'forest', 'forest', 'forest', 'forest', 'forest', 'forest', 'forest', 'forest', 'forest', 'forest', 'forest', 'forest', 'forest', 'forest', 'forest', 'forest', 'forest', 'forest', 'forest', 'forest', 'forest', 'forest', 'forest', 'forest', 'forest', 'forest', 'forest', 'forest', 'forest', 'forest', 'forest', 'forest', 'forest', 'forest', 'forest', 'forest', 'forest', 'forest', 'forest', 'forest', 'forest', 'forest', 'forest', 'forest', 'forest', 'forest', 'forest', 'forest', 'forest', 'forest', 'forest', 'forest', 'forest', 'forest', 'forest', 'forest', 'forest', 'forest', 'forest', 'forest', 'forest', 'forest', 'forest', 'forest', 'forest', 'forest', 'forest', 'forest', 'forest', 'forest', 'forest', 'forest', 'forest', 'forest', 'forest', 'forest', 'forest', 'forest', 'forest', 'forest', 'forest', 'forest', 'forest', 'forest', 'forest', 'forest', 'forest', 'forest', 'forest', 'forest', 'forest', 'forest', 'forest', 'forest', 'forest', 'forest', 'forest', 'forest', 'forest', 'forest', 'forest', 'forest', 'forest', 'forest', 'forest', 'forest', 'forest', 'forest', 'forest', 'forest', 'forest', 'forest', 'forest', 'forest', 'forest', 'forest', 'forest', 'forest', 'forest', 'forest', 'forest', 'forest', 'forest', 'forest', 'forest', 'forest', 'forest', 'forest', 'forest', 'forest', 'forest', 'forest', 'forest', 'forest', 'forest', 'forest', 'forest', 'forest', 'forest', 'forest', 'forest', 'forest', 'forest', 'forest', 'forest', 'forest', 'forest', 'forest', 'forest', 'forest', 'forest', 'forest', 'forest', 'forest', 'forest', 'forest', 'forest', 'forest', 'forest', 'forest', 'forest', 'forest', 'forest', 'forest', 'forest', 'forest', 'forest', 'forest', 'forest', 'forest', 'forest', 'forest', 'forest', 'forest', 'forest', 'forest', 'forest', 'forest', 'forest', 'forest', 'forest', 'forest', 'forest', 'forest', 'forest', 'forest', 'forest', 'forest', 'forest', 'forest', 'forest', 'forest', 'forest', 'forest', 'forest', 'forest', 'forest', 'forest', 'forest', 'forest', 'forest', 'forest', 'forest', 'forest', 'forest', 'forest', 'forest', 'forest', 'forest', 'forest', 'forest', 'forest', 'forest', 'forest']\n"
          ],
          "name": "stdout"
        }
      ]
    },
    {
      "cell_type": "code",
      "metadata": {
        "id": "l-W_gkkyh4b4"
      },
      "source": [
        "lb=LabelBinarizer()\n",
        "labels=lb.fit_transform(labels)"
      ],
      "execution_count": 7,
      "outputs": []
    },
    {
      "cell_type": "code",
      "metadata": {
        "id": "I1BIYSgKjdkD",
        "colab": {
          "base_uri": "https://localhost:8080/"
        },
        "outputId": "6accb3f3-7a82-4355-d7b7-e24954481d75"
      },
      "source": [
        "print(labels)"
      ],
      "execution_count": 8,
      "outputs": [
        {
          "output_type": "stream",
          "text": [
            "[[1 0 0]\n",
            " [1 0 0]\n",
            " [1 0 0]\n",
            " ...\n",
            " [0 1 0]\n",
            " [0 1 0]\n",
            " [0 1 0]]\n"
          ],
          "name": "stdout"
        }
      ]
    },
    {
      "cell_type": "code",
      "metadata": {
        "id": "4zZP9QpZjqIz",
        "colab": {
          "base_uri": "https://localhost:8080/"
        },
        "outputId": "37fcd224-a3d4-454d-e5b9-5c3d345cf00c"
      },
      "source": [
        "print(np.array(data).shape)"
      ],
      "execution_count": 9,
      "outputs": [
        {
          "output_type": "stream",
          "text": [
            "(948, 128, 128, 3)\n"
          ],
          "name": "stdout"
        }
      ]
    },
    {
      "cell_type": "code",
      "metadata": {
        "id": "nW3kNy5Oj4Ce",
        "colab": {
          "base_uri": "https://localhost:8080/"
        },
        "outputId": "d96b4a48-3fa6-4510-af9c-7a68b4971919"
      },
      "source": [
        "(trainX, testX, trainY, testY)=train_test_split(np.array(data), np.array(labels), test_size=0.25)\n",
        "print(trainX.shape)\n",
        "print(testX.shape)"
      ],
      "execution_count": 10,
      "outputs": [
        {
          "output_type": "stream",
          "text": [
            "(711, 128, 128, 3)\n",
            "(237, 128, 128, 3)\n"
          ],
          "name": "stdout"
        }
      ]
    },
    {
      "cell_type": "code",
      "metadata": {
        "id": "OoDliYHtkdhB"
      },
      "source": [
        "from keras.models import Sequential\n",
        "from keras.layers.core import Flatten\n",
        "from keras.layers.core import Dense, Dropout\n",
        "from keras.layers import Conv2D, MaxPooling2D\n",
        "model=Sequential(\n",
        "    [\n",
        "     Conv2D(64, (3, 3), input_shape = (128, 128, 3), activation = 'relu'),\n",
        "     MaxPooling2D(2, 2),\n",
        "     Flatten(),\n",
        "     #Flatten(input_shape=(128*128*3,)),\n",
        "     #Dense(2048, activation=\"relu\"),\n",
        "     #Dropout(0.5),\n",
        "     Dense(1024, activation=\"relu\"),\n",
        "     Dropout(0.3),\n",
        "     Dense(512, activation=\"relu\"),\n",
        "     Dropout(0.2),\n",
        "     Dense(256, activation=\"relu\"),\n",
        "     Dropout(0.2),\n",
        "     Dense(128, activation=\"relu\"),\n",
        "     Dropout(0.2),\n",
        "     Dense(64, activation=\"relu\"),\n",
        "     Dropout(0.2),\n",
        "     Dense(32, activation=\"relu\"),\n",
        "     Dropout(0.2),\n",
        "     #Dense(16, activation=\"relu\"),\n",
        "     #Dropout(0.2),\n",
        "     #Dense(8, activation=\"relu\"),\n",
        "     #Dropout(0.2),\n",
        "     #Dense(4, activation=\"relu\"),\n",
        "     Dense(3, activation=\"softmax\"),\n",
        "    ]\n",
        ")"
      ],
      "execution_count": 11,
      "outputs": []
    },
    {
      "cell_type": "code",
      "metadata": {
        "id": "b_WeSv7nl1Ou",
        "colab": {
          "base_uri": "https://localhost:8080/"
        },
        "outputId": "23a697ed-d8a5-48cb-b086-8e3f04d30d09"
      },
      "source": [
        "model.summary()"
      ],
      "execution_count": 12,
      "outputs": [
        {
          "output_type": "stream",
          "text": [
            "Model: \"sequential\"\n",
            "_________________________________________________________________\n",
            "Layer (type)                 Output Shape              Param #   \n",
            "=================================================================\n",
            "conv2d (Conv2D)              (None, 126, 126, 64)      1792      \n",
            "_________________________________________________________________\n",
            "max_pooling2d (MaxPooling2D) (None, 63, 63, 64)        0         \n",
            "_________________________________________________________________\n",
            "flatten (Flatten)            (None, 254016)            0         \n",
            "_________________________________________________________________\n",
            "dense (Dense)                (None, 1024)              260113408 \n",
            "_________________________________________________________________\n",
            "dropout (Dropout)            (None, 1024)              0         \n",
            "_________________________________________________________________\n",
            "dense_1 (Dense)              (None, 512)               524800    \n",
            "_________________________________________________________________\n",
            "dropout_1 (Dropout)          (None, 512)               0         \n",
            "_________________________________________________________________\n",
            "dense_2 (Dense)              (None, 256)               131328    \n",
            "_________________________________________________________________\n",
            "dropout_2 (Dropout)          (None, 256)               0         \n",
            "_________________________________________________________________\n",
            "dense_3 (Dense)              (None, 128)               32896     \n",
            "_________________________________________________________________\n",
            "dropout_3 (Dropout)          (None, 128)               0         \n",
            "_________________________________________________________________\n",
            "dense_4 (Dense)              (None, 64)                8256      \n",
            "_________________________________________________________________\n",
            "dropout_4 (Dropout)          (None, 64)                0         \n",
            "_________________________________________________________________\n",
            "dense_5 (Dense)              (None, 32)                2080      \n",
            "_________________________________________________________________\n",
            "dropout_5 (Dropout)          (None, 32)                0         \n",
            "_________________________________________________________________\n",
            "dense_6 (Dense)              (None, 3)                 99        \n",
            "=================================================================\n",
            "Total params: 260,814,659\n",
            "Trainable params: 260,814,659\n",
            "Non-trainable params: 0\n",
            "_________________________________________________________________\n"
          ],
          "name": "stdout"
        }
      ]
    },
    {
      "cell_type": "code",
      "metadata": {
        "id": "r-WsWlFSmBLv",
        "colab": {
          "base_uri": "https://localhost:8080/"
        },
        "outputId": "8b2d39c3-cce9-4e41-d25f-147eef722600"
      },
      "source": [
        "print(\"(INFO) training network.....\")\n",
        "opt = Adam(lr=1e-3, decay=1e-3 )\n",
        "model.compile(loss=\"categorical_crossentropy\", optimizer=opt,\n",
        "    metrics=[\"accuracy\"])\n",
        "H = model.fit(trainX, trainY, validation_data=(testX, testY), epochs=100, batch_size=200)"
      ],
      "execution_count": 13,
      "outputs": [
        {
          "output_type": "stream",
          "text": [
            "(INFO) training network.....\n",
            "Epoch 1/100\n",
            "4/4 [==============================] - 5s 485ms/step - loss: 4.9575 - accuracy: 0.3618 - val_loss: 1.3680 - val_accuracy: 0.3122\n",
            "Epoch 2/100\n",
            "4/4 [==============================] - 1s 202ms/step - loss: 2.9227 - accuracy: 0.3466 - val_loss: 1.1457 - val_accuracy: 0.3840\n",
            "Epoch 3/100\n",
            "4/4 [==============================] - 1s 192ms/step - loss: 1.7379 - accuracy: 0.3962 - val_loss: 1.0807 - val_accuracy: 0.4135\n",
            "Epoch 4/100\n",
            "4/4 [==============================] - 1s 204ms/step - loss: 1.5318 - accuracy: 0.3115 - val_loss: 1.1126 - val_accuracy: 0.3755\n",
            "Epoch 5/100\n",
            "4/4 [==============================] - 1s 202ms/step - loss: 1.2264 - accuracy: 0.3366 - val_loss: 1.0867 - val_accuracy: 0.3840\n",
            "Epoch 6/100\n",
            "4/4 [==============================] - 1s 200ms/step - loss: 1.1338 - accuracy: 0.3468 - val_loss: 1.0803 - val_accuracy: 0.3713\n",
            "Epoch 7/100\n",
            "4/4 [==============================] - 1s 199ms/step - loss: 1.1087 - accuracy: 0.3464 - val_loss: 1.0825 - val_accuracy: 0.3840\n",
            "Epoch 8/100\n",
            "4/4 [==============================] - 1s 203ms/step - loss: 1.1014 - accuracy: 0.3733 - val_loss: 1.0844 - val_accuracy: 0.4684\n",
            "Epoch 9/100\n",
            "4/4 [==============================] - 1s 202ms/step - loss: 1.0915 - accuracy: 0.3601 - val_loss: 1.0830 - val_accuracy: 0.5907\n",
            "Epoch 10/100\n",
            "4/4 [==============================] - 1s 202ms/step - loss: 1.0819 - accuracy: 0.3971 - val_loss: 1.0450 - val_accuracy: 0.5992\n",
            "Epoch 11/100\n",
            "4/4 [==============================] - 1s 202ms/step - loss: 1.0611 - accuracy: 0.4431 - val_loss: 0.9610 - val_accuracy: 0.6160\n",
            "Epoch 12/100\n",
            "4/4 [==============================] - 1s 212ms/step - loss: 1.0244 - accuracy: 0.4862 - val_loss: 0.8853 - val_accuracy: 0.6076\n",
            "Epoch 13/100\n",
            "4/4 [==============================] - 1s 202ms/step - loss: 0.9722 - accuracy: 0.5317 - val_loss: 0.7951 - val_accuracy: 0.6203\n",
            "Epoch 14/100\n",
            "4/4 [==============================] - 1s 204ms/step - loss: 0.9208 - accuracy: 0.5716 - val_loss: 0.7508 - val_accuracy: 0.6203\n",
            "Epoch 15/100\n",
            "4/4 [==============================] - 1s 202ms/step - loss: 0.8605 - accuracy: 0.6085 - val_loss: 0.6758 - val_accuracy: 0.6414\n",
            "Epoch 16/100\n",
            "4/4 [==============================] - 1s 202ms/step - loss: 0.7751 - accuracy: 0.6471 - val_loss: 0.6560 - val_accuracy: 0.6371\n",
            "Epoch 17/100\n",
            "4/4 [==============================] - 1s 201ms/step - loss: 0.7751 - accuracy: 0.6342 - val_loss: 0.5807 - val_accuracy: 0.6624\n",
            "Epoch 18/100\n",
            "4/4 [==============================] - 1s 204ms/step - loss: 0.7275 - accuracy: 0.6586 - val_loss: 0.6446 - val_accuracy: 0.6540\n",
            "Epoch 19/100\n",
            "4/4 [==============================] - 1s 205ms/step - loss: 0.7346 - accuracy: 0.6642 - val_loss: 0.6049 - val_accuracy: 0.6414\n",
            "Epoch 20/100\n",
            "4/4 [==============================] - 1s 205ms/step - loss: 0.7297 - accuracy: 0.6629 - val_loss: 0.5323 - val_accuracy: 0.6751\n",
            "Epoch 21/100\n",
            "4/4 [==============================] - 1s 208ms/step - loss: 0.6068 - accuracy: 0.7455 - val_loss: 0.4898 - val_accuracy: 0.7848\n",
            "Epoch 22/100\n",
            "4/4 [==============================] - 1s 209ms/step - loss: 0.6010 - accuracy: 0.7588 - val_loss: 0.4153 - val_accuracy: 0.8987\n",
            "Epoch 23/100\n",
            "4/4 [==============================] - 1s 205ms/step - loss: 0.5396 - accuracy: 0.7935 - val_loss: 0.3611 - val_accuracy: 0.8903\n",
            "Epoch 24/100\n",
            "4/4 [==============================] - 1s 205ms/step - loss: 0.5157 - accuracy: 0.8027 - val_loss: 0.3522 - val_accuracy: 0.8861\n",
            "Epoch 25/100\n",
            "4/4 [==============================] - 1s 207ms/step - loss: 0.4282 - accuracy: 0.8516 - val_loss: 0.3159 - val_accuracy: 0.8945\n",
            "Epoch 26/100\n",
            "4/4 [==============================] - 1s 209ms/step - loss: 0.3945 - accuracy: 0.8771 - val_loss: 0.2616 - val_accuracy: 0.9072\n",
            "Epoch 27/100\n",
            "4/4 [==============================] - 1s 210ms/step - loss: 0.3417 - accuracy: 0.8836 - val_loss: 0.2602 - val_accuracy: 0.9114\n",
            "Epoch 28/100\n",
            "4/4 [==============================] - 1s 209ms/step - loss: 0.3288 - accuracy: 0.9015 - val_loss: 0.2555 - val_accuracy: 0.9198\n",
            "Epoch 29/100\n",
            "4/4 [==============================] - 1s 209ms/step - loss: 0.2958 - accuracy: 0.9047 - val_loss: 0.2648 - val_accuracy: 0.9241\n",
            "Epoch 30/100\n",
            "4/4 [==============================] - 1s 209ms/step - loss: 0.2933 - accuracy: 0.9023 - val_loss: 0.2030 - val_accuracy: 0.9367\n",
            "Epoch 31/100\n",
            "4/4 [==============================] - 1s 209ms/step - loss: 0.2408 - accuracy: 0.9337 - val_loss: 0.2308 - val_accuracy: 0.9156\n",
            "Epoch 32/100\n",
            "4/4 [==============================] - 1s 212ms/step - loss: 0.2344 - accuracy: 0.9310 - val_loss: 0.2083 - val_accuracy: 0.9367\n",
            "Epoch 33/100\n",
            "4/4 [==============================] - 1s 207ms/step - loss: 0.1616 - accuracy: 0.9516 - val_loss: 0.2050 - val_accuracy: 0.9283\n",
            "Epoch 34/100\n",
            "4/4 [==============================] - 1s 212ms/step - loss: 0.1508 - accuracy: 0.9621 - val_loss: 0.1969 - val_accuracy: 0.9283\n",
            "Epoch 35/100\n",
            "4/4 [==============================] - 1s 210ms/step - loss: 0.1487 - accuracy: 0.9611 - val_loss: 0.2199 - val_accuracy: 0.9325\n",
            "Epoch 36/100\n",
            "4/4 [==============================] - 1s 207ms/step - loss: 0.1095 - accuracy: 0.9760 - val_loss: 0.2333 - val_accuracy: 0.9367\n",
            "Epoch 37/100\n",
            "4/4 [==============================] - 1s 209ms/step - loss: 0.0954 - accuracy: 0.9705 - val_loss: 0.2173 - val_accuracy: 0.9409\n",
            "Epoch 38/100\n",
            "4/4 [==============================] - 1s 212ms/step - loss: 0.0963 - accuracy: 0.9683 - val_loss: 0.1939 - val_accuracy: 0.9620\n",
            "Epoch 39/100\n",
            "4/4 [==============================] - 1s 210ms/step - loss: 0.0738 - accuracy: 0.9786 - val_loss: 0.2439 - val_accuracy: 0.9494\n",
            "Epoch 40/100\n",
            "4/4 [==============================] - 1s 208ms/step - loss: 0.0679 - accuracy: 0.9876 - val_loss: 0.4200 - val_accuracy: 0.9072\n",
            "Epoch 41/100\n",
            "4/4 [==============================] - 1s 207ms/step - loss: 0.1162 - accuracy: 0.9745 - val_loss: 0.2200 - val_accuracy: 0.9536\n",
            "Epoch 42/100\n",
            "4/4 [==============================] - 1s 211ms/step - loss: 0.0491 - accuracy: 0.9874 - val_loss: 0.3067 - val_accuracy: 0.9367\n",
            "Epoch 43/100\n",
            "4/4 [==============================] - 1s 207ms/step - loss: 0.0448 - accuracy: 0.9924 - val_loss: 0.2479 - val_accuracy: 0.9367\n",
            "Epoch 44/100\n",
            "4/4 [==============================] - 1s 210ms/step - loss: 0.0380 - accuracy: 0.9904 - val_loss: 0.2435 - val_accuracy: 0.9494\n",
            "Epoch 45/100\n",
            "4/4 [==============================] - 1s 209ms/step - loss: 0.0253 - accuracy: 0.9982 - val_loss: 0.2582 - val_accuracy: 0.9367\n",
            "Epoch 46/100\n",
            "4/4 [==============================] - 1s 208ms/step - loss: 0.0296 - accuracy: 0.9946 - val_loss: 0.2618 - val_accuracy: 0.9409\n",
            "Epoch 47/100\n",
            "4/4 [==============================] - 1s 213ms/step - loss: 0.0290 - accuracy: 0.9941 - val_loss: 0.3262 - val_accuracy: 0.9241\n",
            "Epoch 48/100\n",
            "4/4 [==============================] - 1s 213ms/step - loss: 0.0215 - accuracy: 0.9927 - val_loss: 0.3309 - val_accuracy: 0.9283\n",
            "Epoch 49/100\n",
            "4/4 [==============================] - 1s 210ms/step - loss: 0.0239 - accuracy: 0.9971 - val_loss: 0.4193 - val_accuracy: 0.9198\n",
            "Epoch 50/100\n",
            "4/4 [==============================] - 1s 207ms/step - loss: 0.0326 - accuracy: 0.9943 - val_loss: 0.4579 - val_accuracy: 0.8945\n",
            "Epoch 51/100\n",
            "4/4 [==============================] - 1s 211ms/step - loss: 0.0362 - accuracy: 0.9935 - val_loss: 0.4837 - val_accuracy: 0.9198\n",
            "Epoch 52/100\n",
            "4/4 [==============================] - 1s 211ms/step - loss: 0.0294 - accuracy: 0.9939 - val_loss: 0.4543 - val_accuracy: 0.9241\n",
            "Epoch 53/100\n",
            "4/4 [==============================] - 1s 207ms/step - loss: 0.0242 - accuracy: 0.9952 - val_loss: 0.3924 - val_accuracy: 0.9367\n",
            "Epoch 54/100\n",
            "4/4 [==============================] - 1s 208ms/step - loss: 0.0104 - accuracy: 0.9967 - val_loss: 0.3766 - val_accuracy: 0.9283\n",
            "Epoch 55/100\n",
            "4/4 [==============================] - 1s 209ms/step - loss: 0.0194 - accuracy: 0.9972 - val_loss: 0.4176 - val_accuracy: 0.9114\n",
            "Epoch 56/100\n",
            "4/4 [==============================] - 1s 208ms/step - loss: 0.0090 - accuracy: 0.9991 - val_loss: 0.3555 - val_accuracy: 0.9325\n",
            "Epoch 57/100\n",
            "4/4 [==============================] - 1s 208ms/step - loss: 0.0109 - accuracy: 0.9986 - val_loss: 0.4113 - val_accuracy: 0.9283\n",
            "Epoch 58/100\n",
            "4/4 [==============================] - 1s 205ms/step - loss: 0.0175 - accuracy: 0.9962 - val_loss: 0.3877 - val_accuracy: 0.9451\n",
            "Epoch 59/100\n",
            "4/4 [==============================] - 1s 205ms/step - loss: 0.0141 - accuracy: 0.9971 - val_loss: 0.6907 - val_accuracy: 0.9114\n",
            "Epoch 60/100\n",
            "4/4 [==============================] - 1s 211ms/step - loss: 0.1393 - accuracy: 0.9721 - val_loss: 0.6615 - val_accuracy: 0.8734\n",
            "Epoch 61/100\n",
            "4/4 [==============================] - 1s 209ms/step - loss: 0.0479 - accuracy: 0.9863 - val_loss: 0.4101 - val_accuracy: 0.9072\n",
            "Epoch 62/100\n",
            "4/4 [==============================] - 1s 206ms/step - loss: 0.0606 - accuracy: 0.9865 - val_loss: 0.3858 - val_accuracy: 0.9030\n",
            "Epoch 63/100\n",
            "4/4 [==============================] - 1s 211ms/step - loss: 0.0771 - accuracy: 0.9881 - val_loss: 0.2932 - val_accuracy: 0.9114\n",
            "Epoch 64/100\n",
            "4/4 [==============================] - 1s 208ms/step - loss: 0.0483 - accuracy: 0.9926 - val_loss: 0.2461 - val_accuracy: 0.9367\n",
            "Epoch 65/100\n",
            "4/4 [==============================] - 1s 205ms/step - loss: 0.0446 - accuracy: 0.9931 - val_loss: 0.3451 - val_accuracy: 0.9156\n",
            "Epoch 66/100\n",
            "4/4 [==============================] - 1s 207ms/step - loss: 0.0596 - accuracy: 0.9849 - val_loss: 0.2276 - val_accuracy: 0.9536\n",
            "Epoch 67/100\n",
            "4/4 [==============================] - 1s 206ms/step - loss: 0.0259 - accuracy: 0.9941 - val_loss: 0.3409 - val_accuracy: 0.9283\n",
            "Epoch 68/100\n",
            "4/4 [==============================] - 1s 207ms/step - loss: 0.0248 - accuracy: 0.9963 - val_loss: 0.3356 - val_accuracy: 0.9325\n",
            "Epoch 69/100\n",
            "4/4 [==============================] - 1s 203ms/step - loss: 0.0235 - accuracy: 0.9953 - val_loss: 0.3201 - val_accuracy: 0.9283\n",
            "Epoch 70/100\n",
            "4/4 [==============================] - 1s 207ms/step - loss: 0.0142 - accuracy: 0.9977 - val_loss: 0.3534 - val_accuracy: 0.9409\n",
            "Epoch 71/100\n",
            "4/4 [==============================] - 1s 208ms/step - loss: 0.0073 - accuracy: 0.9980 - val_loss: 0.4067 - val_accuracy: 0.9409\n",
            "Epoch 72/100\n",
            "4/4 [==============================] - 1s 204ms/step - loss: 0.0047 - accuracy: 1.0000 - val_loss: 0.4291 - val_accuracy: 0.9325\n",
            "Epoch 73/100\n",
            "4/4 [==============================] - 1s 207ms/step - loss: 0.0031 - accuracy: 1.0000 - val_loss: 0.4511 - val_accuracy: 0.9409\n",
            "Epoch 74/100\n",
            "4/4 [==============================] - 1s 205ms/step - loss: 0.0125 - accuracy: 0.9962 - val_loss: 0.4030 - val_accuracy: 0.9325\n",
            "Epoch 75/100\n",
            "4/4 [==============================] - 1s 206ms/step - loss: 0.0027 - accuracy: 1.0000 - val_loss: 0.4933 - val_accuracy: 0.9283\n",
            "Epoch 76/100\n",
            "4/4 [==============================] - 1s 209ms/step - loss: 0.0036 - accuracy: 1.0000 - val_loss: 0.5195 - val_accuracy: 0.9241\n",
            "Epoch 77/100\n",
            "4/4 [==============================] - 1s 204ms/step - loss: 0.0036 - accuracy: 1.0000 - val_loss: 0.4673 - val_accuracy: 0.9283\n",
            "Epoch 78/100\n",
            "4/4 [==============================] - 1s 207ms/step - loss: 0.0126 - accuracy: 0.9962 - val_loss: 0.4114 - val_accuracy: 0.9325\n",
            "Epoch 79/100\n",
            "4/4 [==============================] - 1s 204ms/step - loss: 0.0179 - accuracy: 0.9976 - val_loss: 0.4241 - val_accuracy: 0.9325\n",
            "Epoch 80/100\n",
            "4/4 [==============================] - 1s 203ms/step - loss: 0.0044 - accuracy: 1.0000 - val_loss: 0.4730 - val_accuracy: 0.9283\n",
            "Epoch 81/100\n",
            "4/4 [==============================] - 1s 205ms/step - loss: 0.0023 - accuracy: 1.0000 - val_loss: 0.6468 - val_accuracy: 0.9114\n",
            "Epoch 82/100\n",
            "4/4 [==============================] - 1s 207ms/step - loss: 0.0282 - accuracy: 0.9956 - val_loss: 0.6731 - val_accuracy: 0.9072\n",
            "Epoch 83/100\n",
            "4/4 [==============================] - 1s 204ms/step - loss: 0.0702 - accuracy: 0.9845 - val_loss: 1.4334 - val_accuracy: 0.8143\n",
            "Epoch 84/100\n",
            "4/4 [==============================] - 1s 202ms/step - loss: 0.2951 - accuracy: 0.9501 - val_loss: 0.8731 - val_accuracy: 0.8650\n",
            "Epoch 85/100\n",
            "4/4 [==============================] - 1s 208ms/step - loss: 0.1544 - accuracy: 0.9746 - val_loss: 0.7266 - val_accuracy: 0.8523\n",
            "Epoch 86/100\n",
            "4/4 [==============================] - 1s 206ms/step - loss: 0.1214 - accuracy: 0.9673 - val_loss: 0.3542 - val_accuracy: 0.9030\n",
            "Epoch 87/100\n",
            "4/4 [==============================] - 1s 203ms/step - loss: 0.0816 - accuracy: 0.9791 - val_loss: 0.2532 - val_accuracy: 0.9283\n",
            "Epoch 88/100\n",
            "4/4 [==============================] - 1s 203ms/step - loss: 0.0289 - accuracy: 0.9971 - val_loss: 0.3686 - val_accuracy: 0.9156\n",
            "Epoch 89/100\n",
            "4/4 [==============================] - 1s 199ms/step - loss: 0.0334 - accuracy: 0.9948 - val_loss: 0.3193 - val_accuracy: 0.9367\n",
            "Epoch 90/100\n",
            "4/4 [==============================] - 1s 202ms/step - loss: 0.0218 - accuracy: 0.9961 - val_loss: 0.4630 - val_accuracy: 0.9283\n",
            "Epoch 91/100\n",
            "4/4 [==============================] - 1s 204ms/step - loss: 0.0267 - accuracy: 0.9944 - val_loss: 0.3482 - val_accuracy: 0.9494\n",
            "Epoch 92/100\n",
            "4/4 [==============================] - 1s 202ms/step - loss: 0.0165 - accuracy: 0.9942 - val_loss: 0.4911 - val_accuracy: 0.9072\n",
            "Epoch 93/100\n",
            "4/4 [==============================] - 1s 202ms/step - loss: 0.0206 - accuracy: 0.9972 - val_loss: 0.4360 - val_accuracy: 0.9156\n",
            "Epoch 94/100\n",
            "4/4 [==============================] - 1s 203ms/step - loss: 0.0135 - accuracy: 0.9962 - val_loss: 0.4675 - val_accuracy: 0.9156\n",
            "Epoch 95/100\n",
            "4/4 [==============================] - 1s 204ms/step - loss: 0.0099 - accuracy: 0.9986 - val_loss: 0.4622 - val_accuracy: 0.9072\n",
            "Epoch 96/100\n",
            "4/4 [==============================] - 1s 201ms/step - loss: 0.0057 - accuracy: 1.0000 - val_loss: 0.4854 - val_accuracy: 0.9156\n",
            "Epoch 97/100\n",
            "4/4 [==============================] - 1s 200ms/step - loss: 0.0057 - accuracy: 1.0000 - val_loss: 0.5312 - val_accuracy: 0.9156\n",
            "Epoch 98/100\n",
            "4/4 [==============================] - 1s 203ms/step - loss: 0.0032 - accuracy: 1.0000 - val_loss: 0.5608 - val_accuracy: 0.9283\n",
            "Epoch 99/100\n",
            "4/4 [==============================] - 1s 207ms/step - loss: 0.0017 - accuracy: 1.0000 - val_loss: 0.5793 - val_accuracy: 0.9283\n",
            "Epoch 100/100\n",
            "4/4 [==============================] - 1s 202ms/step - loss: 0.0032 - accuracy: 0.9991 - val_loss: 0.5653 - val_accuracy: 0.9241\n"
          ],
          "name": "stdout"
        }
      ]
    },
    {
      "cell_type": "code",
      "metadata": {
        "id": "AAcheQE6nCeZ",
        "colab": {
          "base_uri": "https://localhost:8080/",
          "height": 590
        },
        "outputId": "2b8387d1-a15c-42a0-e436-0675d20e67c6"
      },
      "source": [
        "import matplotlib.pyplot as plt\n",
        "\n",
        "print(H.history.keys())\n",
        "# summarize history for accuracy\n",
        "plt.plot(H.history['accuracy'])\n",
        "plt.plot(H.history['val_accuracy'])\n",
        "plt.title('model accuracy')\n",
        "plt.ylabel('accuracy')\n",
        "plt.xlabel('epoch')\n",
        "plt.legend(['train', 'test'], loc='upper left')\n",
        "plt.show()\n",
        "# summarize history for loss\n",
        "plt.plot(H.history['loss'])\n",
        "plt.plot(H.history['val_loss'])\n",
        "plt.title('model loss')\n",
        "plt.ylabel('loss')\n",
        "plt.xlabel('epoch')\n",
        "plt.legend(['train', 'test'], loc='upper left')\n",
        "plt.show()"
      ],
      "execution_count": 14,
      "outputs": [
        {
          "output_type": "stream",
          "text": [
            "dict_keys(['loss', 'accuracy', 'val_loss', 'val_accuracy'])\n"
          ],
          "name": "stdout"
        },
        {
          "output_type": "display_data",
          "data": {
            "image/png": "[encoded data removed]",
            "text/plain": [
              "<Figure size 432x288 with 1 Axes>"
            ]
          },
          "metadata": {
            "tags": [],
            "needs_background": "light"
          }
        },
        {
          "output_type": "display_data",
          "data": {
            "image/png": "[encoded data removed]",
            "text/plain": [
              "<Figure size 432x288 with 1 Axes>"
            ]
          },
          "metadata": {
            "tags": [],
            "needs_background": "light"
          }
        }
      ]
    },
    {
      "cell_type": "code",
      "metadata": {
        "colab": {
          "base_uri": "https://localhost:8080/"
        },
        "id": "rzEe_ys4bUhj",
        "outputId": "d0c7262c-d69c-4972-b6ff-828f33b85ef4"
      },
      "source": [
        "# evaluate the network\n",
        "print(\"[INFO] evaluating network...\")\n",
        "predictions = model.predict(testX, batch_size=32)\n",
        "print(classification_report(testY.argmax(axis=1),\n",
        "\tpredictions.argmax(axis=1), target_names=lb.classes_))"
      ],
      "execution_count": 15,
      "outputs": [
        {
          "output_type": "stream",
          "text": [
            "[INFO] evaluating network...\n",
            "              precision    recall  f1-score   support\n",
            "\n",
            "       coast       0.94      0.88      0.91        91\n",
            "      forest       0.95      1.00      0.97        72\n",
            "     highway       0.88      0.91      0.89        74\n",
            "\n",
            "    accuracy                           0.92       237\n",
            "   macro avg       0.92      0.93      0.93       237\n",
            "weighted avg       0.92      0.92      0.92       237\n",
            "\n"
          ],
          "name": "stdout"
        }
      ]
    }
  ]
}
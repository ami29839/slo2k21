{
  "nbformat": 4,
  "nbformat_minor": 0,
  "metadata": {
    "colab": {
      "name": "UTS_AryaMaulanaI_2101202079.ipynb",
      "provenance": [],
      "collapsed_sections": [],
      "authorship_tag": "ABX9TyOLiec2oqL1G1vnuLXsYKFW",
      "include_colab_link": true
    },
    "kernelspec": {
      "name": "python3",
      "display_name": "Python 3"
    },
    "language_info": {
      "name": "python"
    },
    "accelerator": "GPU"
  },
  "cells": [
    {
      "cell_type": "markdown",
      "metadata": {
        "id": "view-in-github",
        "colab_type": "text"
      },
      "source": [
        "<a href=\"https://colab.research.google.com/github/ami29839/slo2k21/blob/main/UTS_AryaMaulanaI_2101202079_2.ipynb\" target=\"_parent\"><img src=\"https://colab.research.google.com/assets/colab-badge.svg\" alt=\"Open In Colab\"/></a>"
      ]
    },
    {
      "cell_type": "code",
      "metadata": {
        "colab": {
          "base_uri": "https://localhost:8080/"
        },
        "id": "h6Atl4-ff-VP",
        "outputId": "14fead47-cdec-4364-8205-652ce760a8e7"
      },
      "source": [
        "from google.colab import drive\n",
        "drive.mount('/content/drive')"
      ],
      "execution_count": 1,
      "outputs": [
        {
          "output_type": "stream",
          "text": [
            "Drive already mounted at /content/drive; to attempt to forcibly remount, call drive.mount(\"/content/drive\", force_remount=True).\n"
          ],
          "name": "stdout"
        }
      ]
    },
    {
      "cell_type": "code",
      "metadata": {
        "colab": {
          "base_uri": "https://localhost:8080/"
        },
        "id": "5ewU6PzPgALp",
        "outputId": "0ab15308-df3b-4b61-87b1-971c8f129dad"
      },
      "source": [
        "cd /content/drive/MyDrive/Colab"
      ],
      "execution_count": 2,
      "outputs": [
        {
          "output_type": "stream",
          "text": [
            "/content/drive/MyDrive/Colab\n"
          ],
          "name": "stdout"
        }
      ]
    },
    {
      "cell_type": "code",
      "metadata": {
        "id": "HcQ_0LGugAkP"
      },
      "source": [
        "from keras.models import Sequential\n",
        "from keras.layers.core import Activation\n",
        "from keras.layers.core import Flatten\n",
        "from keras.layers.core import Dense\n",
        "from keras.optimizers import Adam\n",
        "from sklearn.preprocessing import LabelBinarizer\n",
        "from sklearn.model_selection import train_test_split\n",
        "from sklearn.metrics import classification_report\n",
        "from PIL import Image\n",
        "from PIL import ImageFilter\n",
        "from imutils import paths\n",
        "import numpy as np\n",
        "import os"
      ],
      "execution_count": 3,
      "outputs": []
    },
    {
      "cell_type": "code",
      "metadata": {
        "colab": {
          "base_uri": "https://localhost:8080/"
        },
        "id": "7DK5hvDVgDJH",
        "outputId": "99c662df-a7be-4aaa-f3c0-465e13c99cfe"
      },
      "source": [
        "print(\"(INFO) loading images...\")\n",
        "imagePaths=paths.list_images(\"3scene\")\n",
        "data=[]\n",
        "labels=[]"
      ],
      "execution_count": 4,
      "outputs": [
        {
          "output_type": "stream",
          "text": [
            "(INFO) loading images...\n"
          ],
          "name": "stdout"
        }
      ]
    },
    {
      "cell_type": "code",
      "metadata": {
        "id": "pTIVcLYygEwq"
      },
      "source": [
        "for imagePath in imagePaths:\n",
        "  image=Image.open(imagePath)\n",
        "  image=image.filter(ImageFilter.SMOOTH)\n",
        "  image = image.filter(ImageFilter.SMOOTH_MORE)\n",
        "  image=np.array(image.resize((128,128))) / 255.0\n",
        "  data.append(image)\n",
        "  label=imagePath.split(os.path.sep)[-2]\n",
        "  labels.append(label)"
      ],
      "execution_count": 5,
      "outputs": []
    },
    {
      "cell_type": "code",
      "metadata": {
        "id": "UbeJzyrqhwQC",
        "colab": {
          "base_uri": "https://localhost:8080/"
        },
        "outputId": "2b40a95c-0ede-40e8-b706-58080b666170"
      },
      "source": [
        "print(labels)"
      ],
      "execution_count": 6,
      "outputs": [
        {
          "output_type": "stream",
          "text": [
            "['coast', 'coast', 'coast', 'coast', 'coast', 'coast', 'coast', 'coast', 'coast', 'coast', 'coast', 'coast', 'coast', 'coast', 'coast', 'coast', 'coast', 'coast', 'coast', 'coast', 'coast', 'coast', 'coast', 'coast', 'coast', 'coast', 'coast', 'coast', 'coast', 'coast', 'coast', 'coast', 'coast', 'coast', 'coast', 'coast', 'coast', 'coast', 'coast', 'coast', 'coast', 'coast', 'coast', 'coast', 'coast', 'coast', 'coast', 'coast', 'coast', 'coast', 'coast', 'coast', 'coast', 'coast', 'coast', 'coast', 'coast', 'coast', 'coast', 'coast', 'coast', 'coast', 'coast', 'coast', 'coast', 'coast', 'coast', 'coast', 'coast', 'coast', 'coast', 'coast', 'coast', 'coast', 'coast', 'coast', 'coast', 'coast', 'coast', 'coast', 'coast', 'coast', 'coast', 'coast', 'coast', 'coast', 'coast', 'coast', 'coast', 'coast', 'coast', 'coast', 'coast', 'coast', 'coast', 'coast', 'coast', 'coast', 'coast', 'coast', 'coast', 'coast', 'coast', 'coast', 'coast', 'coast', 'coast', 'coast', 'coast', 'coast', 'coast', 'coast', 'coast', 'coast', 'coast', 'coast', 'coast', 'coast', 'coast', 'coast', 'coast', 'coast', 'coast', 'coast', 'coast', 'coast', 'coast', 'coast', 'coast', 'coast', 'coast', 'coast', 'coast', 'coast', 'coast', 'coast', 'coast', 'coast', 'coast', 'coast', 'coast', 'coast', 'coast', 'coast', 'coast', 'coast', 'coast', 'coast', 'coast', 'coast', 'coast', 'coast', 'coast', 'coast', 'coast', 'coast', 'coast', 'coast', 'coast', 'coast', 'coast', 'coast', 'coast', 'coast', 'coast', 'coast', 'coast', 'coast', 'coast', 'coast', 'coast', 'coast', 'coast', 'coast', 'coast', 'coast', 'coast', 'coast', 'coast', 'coast', 'coast', 'coast', 'coast', 'coast', 'coast', 'coast', 'coast', 'coast', 'coast', 'coast', 'coast', 'coast', 'coast', 'coast', 'coast', 'coast', 'coast', 'coast', 'coast', 'coast', 'coast', 'coast', 'coast', 'coast', 'coast', 'coast', 'coast', 'coast', 'coast', 'coast', 'coast', 'coast', 'coast', 'coast', 'coast', 'coast', 'coast', 'coast', 'coast', 'coast', 'coast', 'coast', 'coast', 'coast', 'coast', 'coast', 'coast', 'coast', 'coast', 'coast', 'coast', 'coast', 'coast', 'coast', 'coast', 'coast', 'coast', 'coast', 'coast', 'coast', 'coast', 'coast', 'coast', 'coast', 'coast', 'coast', 'coast', 'coast', 'coast', 'coast', 'coast', 'coast', 'coast', 'coast', 'coast', 'coast', 'coast', 'coast', 'coast', 'coast', 'coast', 'coast', 'coast', 'coast', 'coast', 'coast', 'coast', 'coast', 'coast', 'coast', 'coast', 'coast', 'coast', 'coast', 'coast', 'coast', 'coast', 'coast', 'coast', 'coast', 'coast', 'coast', 'coast', 'coast', 'coast', 'coast', 'coast', 'coast', 'coast', 'coast', 'coast', 'coast', 'coast', 'coast', 'coast', 'coast', 'coast', 'coast', 'coast', 'coast', 'coast', 'coast', 'coast', 'coast', 'coast', 'coast', 'coast', 'coast', 'coast', 'coast', 'coast', 'coast', 'coast', 'coast', 'coast', 'coast', 'coast', 'coast', 'coast', 'coast', 'coast', 'coast', 'coast', 'coast', 'coast', 'coast', 'coast', 'coast', 'coast', 'coast', 'coast', 'coast', 'coast', 'coast', 'coast', 'coast', 'coast', 'coast', 'coast', 'coast', 'coast', 'coast', 'coast', 'coast', 'coast', 'coast', 'coast', 'coast', 'coast', 'coast', 'coast', 'coast', 'coast', 'coast', 'coast', 'coast', 'coast', 'coast', 'coast', 'coast', 'highway', 'highway', 'highway', 'highway', 'highway', 'highway', 'highway', 'highway', 'highway', 'highway', 'highway', 'highway', 'highway', 'highway', 'highway', 'highway', 'highway', 'highway', 'highway', 'highway', 'highway', 'highway', 'highway', 'highway', 'highway', 'highway', 'highway', 'highway', 'highway', 'highway', 'highway', 'highway', 'highway', 'highway', 'highway', 'highway', 'highway', 'highway', 'highway', 'highway', 'highway', 'highway', 'highway', 'highway', 'highway', 'highway', 'highway', 'highway', 'highway', 'highway', 'highway', 'highway', 'highway', 'highway', 'highway', 'highway', 'highway', 'highway', 'highway', 'highway', 'highway', 'highway', 'highway', 'highway', 'highway', 'highway', 'highway', 'highway', 'highway', 'highway', 'highway', 'highway', 'highway', 'highway', 'highway', 'highway', 'highway', 'highway', 'highway', 'highway', 'highway', 'highway', 'highway', 'highway', 'highway', 'highway', 'highway', 'highway', 'highway', 'highway', 'highway', 'highway', 'highway', 'highway', 'highway', 'highway', 'highway', 'highway', 'highway', 'highway', 'highway', 'highway', 'highway', 'highway', 'highway', 'highway', 'highway', 'highway', 'highway', 'highway', 'highway', 'highway', 'highway', 'highway', 'highway', 'highway', 'highway', 'highway', 'highway', 'highway', 'highway', 'highway', 'highway', 'highway', 'highway', 'highway', 'highway', 'highway', 'highway', 'highway', 'highway', 'highway', 'highway', 'highway', 'highway', 'highway', 'highway', 'highway', 'highway', 'highway', 'highway', 'highway', 'highway', 'highway', 'highway', 'highway', 'highway', 'highway', 'highway', 'highway', 'highway', 'highway', 'highway', 'highway', 'highway', 'highway', 'highway', 'highway', 'highway', 'highway', 'highway', 'highway', 'highway', 'highway', 'highway', 'highway', 'highway', 'highway', 'highway', 'highway', 'highway', 'highway', 'highway', 'highway', 'highway', 'highway', 'highway', 'highway', 'highway', 'highway', 'highway', 'highway', 'highway', 'highway', 'highway', 'highway', 'highway', 'highway', 'highway', 'highway', 'highway', 'highway', 'highway', 'highway', 'highway', 'highway', 'highway', 'highway', 'highway', 'highway', 'highway', 'highway', 'highway', 'highway', 'highway', 'highway', 'highway', 'highway', 'highway', 'highway', 'highway', 'highway', 'highway', 'highway', 'highway', 'highway', 'highway', 'highway', 'highway', 'highway', 'highway', 'highway', 'highway', 'highway', 'highway', 'highway', 'highway', 'highway', 'highway', 'highway', 'highway', 'highway', 'highway', 'highway', 'highway', 'highway', 'highway', 'highway', 'highway', 'highway', 'highway', 'highway', 'highway', 'highway', 'highway', 'highway', 'highway', 'highway', 'highway', 'highway', 'highway', 'highway', 'highway', 'highway', 'highway', 'highway', 'highway', 'highway', 'highway', 'highway', 'forest', 'forest', 'forest', 'forest', 'forest', 'forest', 'forest', 'forest', 'forest', 'forest', 'forest', 'forest', 'forest', 'forest', 'forest', 'forest', 'forest', 'forest', 'forest', 'forest', 'forest', 'forest', 'forest', 'forest', 'forest', 'forest', 'forest', 'forest', 'forest', 'forest', 'forest', 'forest', 'forest', 'forest', 'forest', 'forest', 'forest', 'forest', 'forest', 'forest', 'forest', 'forest', 'forest', 'forest', 'forest', 'forest', 'forest', 'forest', 'forest', 'forest', 'forest', 'forest', 'forest', 'forest', 'forest', 'forest', 'forest', 'forest', 'forest', 'forest', 'forest', 'forest', 'forest', 'forest', 'forest', 'forest', 'forest', 'forest', 'forest', 'forest', 'forest', 'forest', 'forest', 'forest', 'forest', 'forest', 'forest', 'forest', 'forest', 'forest', 'forest', 'forest', 'forest', 'forest', 'forest', 'forest', 'forest', 'forest', 'forest', 'forest', 'forest', 'forest', 'forest', 'forest', 'forest', 'forest', 'forest', 'forest', 'forest', 'forest', 'forest', 'forest', 'forest', 'forest', 'forest', 'forest', 'forest', 'forest', 'forest', 'forest', 'forest', 'forest', 'forest', 'forest', 'forest', 'forest', 'forest', 'forest', 'forest', 'forest', 'forest', 'forest', 'forest', 'forest', 'forest', 'forest', 'forest', 'forest', 'forest', 'forest', 'forest', 'forest', 'forest', 'forest', 'forest', 'forest', 'forest', 'forest', 'forest', 'forest', 'forest', 'forest', 'forest', 'forest', 'forest', 'forest', 'forest', 'forest', 'forest', 'forest', 'forest', 'forest', 'forest', 'forest', 'forest', 'forest', 'forest', 'forest', 'forest', 'forest', 'forest', 'forest', 'forest', 'forest', 'forest', 'forest', 'forest', 'forest', 'forest', 'forest', 'forest', 'forest', 'forest', 'forest', 'forest', 'forest', 'forest', 'forest', 'forest', 'forest', 'forest', 'forest', 'forest', 'forest', 'forest', 'forest', 'forest', 'forest', 'forest', 'forest', 'forest', 'forest', 'forest', 'forest', 'forest', 'forest', 'forest', 'forest', 'forest', 'forest', 'forest', 'forest', 'forest', 'forest', 'forest', 'forest', 'forest', 'forest', 'forest', 'forest', 'forest', 'forest', 'forest', 'forest', 'forest', 'forest', 'forest', 'forest', 'forest', 'forest', 'forest', 'forest', 'forest', 'forest', 'forest', 'forest', 'forest', 'forest', 'forest', 'forest', 'forest', 'forest', 'forest', 'forest', 'forest', 'forest', 'forest', 'forest', 'forest', 'forest', 'forest', 'forest', 'forest', 'forest', 'forest', 'forest', 'forest', 'forest', 'forest', 'forest', 'forest', 'forest', 'forest', 'forest', 'forest', 'forest', 'forest', 'forest', 'forest', 'forest', 'forest', 'forest', 'forest', 'forest', 'forest', 'forest', 'forest', 'forest', 'forest', 'forest', 'forest', 'forest', 'forest', 'forest', 'forest', 'forest', 'forest', 'forest', 'forest', 'forest', 'forest', 'forest', 'forest', 'forest', 'forest', 'forest', 'forest', 'forest', 'forest', 'forest', 'forest', 'forest', 'forest', 'forest', 'forest', 'forest', 'forest', 'forest', 'forest', 'forest', 'forest', 'forest', 'forest', 'forest', 'forest', 'forest', 'forest', 'forest', 'forest', 'forest', 'forest', 'forest', 'forest', 'forest', 'forest', 'forest', 'forest', 'forest', 'forest', 'forest', 'forest', 'forest', 'forest', 'forest', 'forest', 'forest', 'forest', 'forest']\n"
          ],
          "name": "stdout"
        }
      ]
    },
    {
      "cell_type": "code",
      "metadata": {
        "id": "l-W_gkkyh4b4"
      },
      "source": [
        "lb=LabelBinarizer()\n",
        "labels=lb.fit_transform(labels)"
      ],
      "execution_count": 7,
      "outputs": []
    },
    {
      "cell_type": "code",
      "metadata": {
        "id": "I1BIYSgKjdkD",
        "colab": {
          "base_uri": "https://localhost:8080/"
        },
        "outputId": "16e06fc5-46c0-47c5-a85e-c96e88f52ee0"
      },
      "source": [
        "print(labels)"
      ],
      "execution_count": 8,
      "outputs": [
        {
          "output_type": "stream",
          "text": [
            "[[1 0 0]\n",
            " [1 0 0]\n",
            " [1 0 0]\n",
            " ...\n",
            " [0 1 0]\n",
            " [0 1 0]\n",
            " [0 1 0]]\n"
          ],
          "name": "stdout"
        }
      ]
    },
    {
      "cell_type": "code",
      "metadata": {
        "id": "4zZP9QpZjqIz",
        "colab": {
          "base_uri": "https://localhost:8080/"
        },
        "outputId": "0e917e1d-0ae1-480a-d06c-e4040a3f070c"
      },
      "source": [
        "print(np.array(data).shape)"
      ],
      "execution_count": 9,
      "outputs": [
        {
          "output_type": "stream",
          "text": [
            "(948, 128, 128, 3)\n"
          ],
          "name": "stdout"
        }
      ]
    },
    {
      "cell_type": "code",
      "metadata": {
        "id": "nW3kNy5Oj4Ce",
        "colab": {
          "base_uri": "https://localhost:8080/"
        },
        "outputId": "8617651d-e9c2-48b0-cb9e-3b1101993ec9"
      },
      "source": [
        "(trainX, testX, trainY, testY)=train_test_split(np.array(data), np.array(labels), test_size=0.25)\n",
        "print(trainX.shape)\n",
        "print(testX.shape)"
      ],
      "execution_count": 10,
      "outputs": [
        {
          "output_type": "stream",
          "text": [
            "(711, 128, 128, 3)\n",
            "(237, 128, 128, 3)\n"
          ],
          "name": "stdout"
        }
      ]
    },
    {
      "cell_type": "code",
      "metadata": {
        "id": "OoDliYHtkdhB"
      },
      "source": [
        "from keras.models import Sequential\n",
        "from keras.layers.core import Flatten\n",
        "from keras.layers.core import Dense, Dropout\n",
        "model=Sequential(\n",
        "    [\n",
        "     Flatten(input_shape=(128*128*3,)),\n",
        "     Dense(1024, activation=\"relu\"),\n",
        "     Dropout(0.2),\n",
        "     Dense(512, activation=\"relu\"),\n",
        "     Dropout(0.2),\n",
        "     Dense(256, activation=\"relu\"),\n",
        "     Dropout(0.2),\n",
        "     Dense(128, activation=\"relu\"),\n",
        "     Dropout(0.2),\n",
        "     Dense(64, activation=\"relu\"),\n",
        "     Dropout(0.2),\n",
        "     Dense(32, activation=\"relu\"),\n",
        "     #Dropout(0.2),\n",
        "     #Dense(16, activation=\"relu\"),\n",
        "     #Dropout(0.2),\n",
        "     #Dense(8, activation=\"relu\"),\n",
        "     #Dropout(0.2),\n",
        "     #Dense(4, activation=\"relu\"),\n",
        "     Dense(3, activation=\"softmax\"),\n",
        "    ]\n",
        ")"
      ],
      "execution_count": 11,
      "outputs": []
    },
    {
      "cell_type": "code",
      "metadata": {
        "id": "b_WeSv7nl1Ou",
        "colab": {
          "base_uri": "https://localhost:8080/"
        },
        "outputId": "dbcf69ba-8a27-478b-ddf8-f0b3e627d1d5"
      },
      "source": [
        "model.summary()"
      ],
      "execution_count": 12,
      "outputs": [
        {
          "output_type": "stream",
          "text": [
            "Model: \"sequential\"\n",
            "_________________________________________________________________\n",
            "Layer (type)                 Output Shape              Param #   \n",
            "=================================================================\n",
            "flatten (Flatten)            (None, 49152)             0         \n",
            "_________________________________________________________________\n",
            "dense (Dense)                (None, 1024)              50332672  \n",
            "_________________________________________________________________\n",
            "dropout (Dropout)            (None, 1024)              0         \n",
            "_________________________________________________________________\n",
            "dense_1 (Dense)              (None, 512)               524800    \n",
            "_________________________________________________________________\n",
            "dropout_1 (Dropout)          (None, 512)               0         \n",
            "_________________________________________________________________\n",
            "dense_2 (Dense)              (None, 256)               131328    \n",
            "_________________________________________________________________\n",
            "dropout_2 (Dropout)          (None, 256)               0         \n",
            "_________________________________________________________________\n",
            "dense_3 (Dense)              (None, 128)               32896     \n",
            "_________________________________________________________________\n",
            "dropout_3 (Dropout)          (None, 128)               0         \n",
            "_________________________________________________________________\n",
            "dense_4 (Dense)              (None, 64)                8256      \n",
            "_________________________________________________________________\n",
            "dropout_4 (Dropout)          (None, 64)                0         \n",
            "_________________________________________________________________\n",
            "dense_5 (Dense)              (None, 32)                2080      \n",
            "_________________________________________________________________\n",
            "dense_6 (Dense)              (None, 3)                 99        \n",
            "=================================================================\n",
            "Total params: 51,032,131\n",
            "Trainable params: 51,032,131\n",
            "Non-trainable params: 0\n",
            "_________________________________________________________________\n"
          ],
          "name": "stdout"
        }
      ]
    },
    {
      "cell_type": "code",
      "metadata": {
        "id": "r-WsWlFSmBLv",
        "colab": {
          "base_uri": "https://localhost:8080/"
        },
        "outputId": "0a01e235-1914-435e-8063-01cb8934e658"
      },
      "source": [
        "print(\"(INFO) training network.....\")\n",
        "opt = Adam(lr=1e-3, decay=1e-3 )\n",
        "model.compile(loss=\"categorical_crossentropy\", optimizer=opt,\n",
        "    metrics=[\"accuracy\"])\n",
        "H = model.fit(trainX, trainY, validation_data=(testX, testY), epochs=200, batch_size=195)"
      ],
      "execution_count": 13,
      "outputs": [
        {
          "output_type": "stream",
          "text": [
            "(INFO) training network.....\n",
            "Epoch 1/200\n",
            "WARNING:tensorflow:Model was constructed with shape (None, 49152) for input KerasTensor(type_spec=TensorSpec(shape=(None, 49152), dtype=tf.float32, name='flatten_input'), name='flatten_input', description=\"created by layer 'flatten_input'\"), but it was called on an input with incompatible shape (None, 128, 128, 3).\n",
            "WARNING:tensorflow:Model was constructed with shape (None, 49152) for input KerasTensor(type_spec=TensorSpec(shape=(None, 49152), dtype=tf.float32, name='flatten_input'), name='flatten_input', description=\"created by layer 'flatten_input'\"), but it was called on an input with incompatible shape (None, 128, 128, 3).\n",
            "3/4 [=====================>........] - ETA: 0s - loss: 3.5196 - accuracy: 0.3274WARNING:tensorflow:Model was constructed with shape (None, 49152) for input KerasTensor(type_spec=TensorSpec(shape=(None, 49152), dtype=tf.float32, name='flatten_input'), name='flatten_input', description=\"created by layer 'flatten_input'\"), but it was called on an input with incompatible shape (None, 128, 128, 3).\n",
            "4/4 [==============================] - 2s 269ms/step - loss: 4.4643 - accuracy: 0.3258 - val_loss: 2.2282 - val_accuracy: 0.3333\n",
            "Epoch 2/200\n",
            "4/4 [==============================] - 0s 85ms/step - loss: 4.1843 - accuracy: 0.3182 - val_loss: 1.6018 - val_accuracy: 0.2954\n",
            "Epoch 3/200\n",
            "4/4 [==============================] - 0s 77ms/step - loss: 2.9250 - accuracy: 0.3550 - val_loss: 1.0695 - val_accuracy: 0.3291\n",
            "Epoch 4/200\n",
            "4/4 [==============================] - 0s 79ms/step - loss: 2.3162 - accuracy: 0.3331 - val_loss: 1.0954 - val_accuracy: 0.3882\n",
            "Epoch 5/200\n",
            "4/4 [==============================] - 0s 77ms/step - loss: 1.7903 - accuracy: 0.3506 - val_loss: 1.1451 - val_accuracy: 0.2068\n",
            "Epoch 6/200\n",
            "4/4 [==============================] - 0s 84ms/step - loss: 1.4537 - accuracy: 0.3371 - val_loss: 1.1217 - val_accuracy: 0.2700\n",
            "Epoch 7/200\n",
            "4/4 [==============================] - 0s 73ms/step - loss: 1.3421 - accuracy: 0.3450 - val_loss: 1.0980 - val_accuracy: 0.3038\n",
            "Epoch 8/200\n",
            "4/4 [==============================] - 0s 78ms/step - loss: 1.2774 - accuracy: 0.3595 - val_loss: 1.0633 - val_accuracy: 0.4641\n",
            "Epoch 9/200\n",
            "4/4 [==============================] - 0s 73ms/step - loss: 1.2322 - accuracy: 0.3687 - val_loss: 1.0574 - val_accuracy: 0.4135\n",
            "Epoch 10/200\n",
            "4/4 [==============================] - 0s 78ms/step - loss: 1.1807 - accuracy: 0.3782 - val_loss: 1.0592 - val_accuracy: 0.4051\n",
            "Epoch 11/200\n",
            "4/4 [==============================] - 0s 81ms/step - loss: 1.0939 - accuracy: 0.4103 - val_loss: 1.0809 - val_accuracy: 0.4388\n",
            "Epoch 12/200\n",
            "4/4 [==============================] - 0s 81ms/step - loss: 1.1152 - accuracy: 0.3977 - val_loss: 1.0827 - val_accuracy: 0.4599\n",
            "Epoch 13/200\n",
            "4/4 [==============================] - 0s 76ms/step - loss: 1.1075 - accuracy: 0.3906 - val_loss: 1.0767 - val_accuracy: 0.4768\n",
            "Epoch 14/200\n",
            "4/4 [==============================] - 0s 80ms/step - loss: 1.1061 - accuracy: 0.3931 - val_loss: 1.0678 - val_accuracy: 0.4684\n",
            "Epoch 15/200\n",
            "4/4 [==============================] - 0s 82ms/step - loss: 1.0712 - accuracy: 0.4185 - val_loss: 1.0343 - val_accuracy: 0.4810\n",
            "Epoch 16/200\n",
            "4/4 [==============================] - 0s 76ms/step - loss: 1.0789 - accuracy: 0.4433 - val_loss: 1.0248 - val_accuracy: 0.4726\n",
            "Epoch 17/200\n",
            "4/4 [==============================] - 0s 78ms/step - loss: 1.0330 - accuracy: 0.4697 - val_loss: 0.9959 - val_accuracy: 0.5190\n",
            "Epoch 18/200\n",
            "4/4 [==============================] - 0s 79ms/step - loss: 1.0440 - accuracy: 0.4662 - val_loss: 0.9828 - val_accuracy: 0.4810\n",
            "Epoch 19/200\n",
            "4/4 [==============================] - 0s 78ms/step - loss: 1.0448 - accuracy: 0.4537 - val_loss: 0.9961 - val_accuracy: 0.5063\n",
            "Epoch 20/200\n",
            "4/4 [==============================] - 0s 77ms/step - loss: 1.0357 - accuracy: 0.4755 - val_loss: 0.9919 - val_accuracy: 0.5274\n",
            "Epoch 21/200\n",
            "4/4 [==============================] - 0s 79ms/step - loss: 1.0273 - accuracy: 0.4550 - val_loss: 0.9556 - val_accuracy: 0.4895\n",
            "Epoch 22/200\n",
            "4/4 [==============================] - 0s 74ms/step - loss: 1.0158 - accuracy: 0.4865 - val_loss: 0.9307 - val_accuracy: 0.5527\n",
            "Epoch 23/200\n",
            "4/4 [==============================] - 0s 77ms/step - loss: 1.0213 - accuracy: 0.4463 - val_loss: 0.9258 - val_accuracy: 0.6034\n",
            "Epoch 24/200\n",
            "4/4 [==============================] - 0s 76ms/step - loss: 1.0034 - accuracy: 0.4985 - val_loss: 0.9328 - val_accuracy: 0.6034\n",
            "Epoch 25/200\n",
            "4/4 [==============================] - 0s 72ms/step - loss: 0.9964 - accuracy: 0.4765 - val_loss: 0.9123 - val_accuracy: 0.5781\n",
            "Epoch 26/200\n",
            "4/4 [==============================] - 0s 76ms/step - loss: 0.9564 - accuracy: 0.5323 - val_loss: 0.8939 - val_accuracy: 0.5823\n",
            "Epoch 27/200\n",
            "4/4 [==============================] - 0s 75ms/step - loss: 0.9294 - accuracy: 0.5394 - val_loss: 0.8871 - val_accuracy: 0.5274\n",
            "Epoch 28/200\n",
            "4/4 [==============================] - 0s 75ms/step - loss: 0.9520 - accuracy: 0.5247 - val_loss: 0.8829 - val_accuracy: 0.5612\n",
            "Epoch 29/200\n",
            "4/4 [==============================] - 0s 72ms/step - loss: 0.9252 - accuracy: 0.5117 - val_loss: 0.8617 - val_accuracy: 0.5570\n",
            "Epoch 30/200\n",
            "4/4 [==============================] - 0s 76ms/step - loss: 0.9389 - accuracy: 0.5514 - val_loss: 0.8589 - val_accuracy: 0.5696\n",
            "Epoch 31/200\n",
            "4/4 [==============================] - 0s 80ms/step - loss: 0.9262 - accuracy: 0.5408 - val_loss: 0.8332 - val_accuracy: 0.5865\n",
            "Epoch 32/200\n",
            "4/4 [==============================] - 0s 76ms/step - loss: 0.9065 - accuracy: 0.5497 - val_loss: 0.8051 - val_accuracy: 0.5823\n",
            "Epoch 33/200\n",
            "4/4 [==============================] - 0s 79ms/step - loss: 0.8429 - accuracy: 0.5729 - val_loss: 0.7928 - val_accuracy: 0.5865\n",
            "Epoch 34/200\n",
            "4/4 [==============================] - 0s 76ms/step - loss: 0.8395 - accuracy: 0.5894 - val_loss: 0.7829 - val_accuracy: 0.5949\n",
            "Epoch 35/200\n",
            "4/4 [==============================] - 0s 79ms/step - loss: 0.8476 - accuracy: 0.5770 - val_loss: 0.7829 - val_accuracy: 0.5823\n",
            "Epoch 36/200\n",
            "4/4 [==============================] - 0s 80ms/step - loss: 0.7997 - accuracy: 0.5795 - val_loss: 0.7487 - val_accuracy: 0.6076\n",
            "Epoch 37/200\n",
            "4/4 [==============================] - 0s 77ms/step - loss: 0.8296 - accuracy: 0.5951 - val_loss: 0.7132 - val_accuracy: 0.7046\n",
            "Epoch 38/200\n",
            "4/4 [==============================] - 0s 74ms/step - loss: 0.8049 - accuracy: 0.5971 - val_loss: 0.7149 - val_accuracy: 0.6329\n",
            "Epoch 39/200\n",
            "4/4 [==============================] - 0s 75ms/step - loss: 0.7589 - accuracy: 0.6391 - val_loss: 0.7328 - val_accuracy: 0.6287\n",
            "Epoch 40/200\n",
            "4/4 [==============================] - 0s 70ms/step - loss: 0.7687 - accuracy: 0.6265 - val_loss: 0.7039 - val_accuracy: 0.6414\n",
            "Epoch 41/200\n",
            "4/4 [==============================] - 0s 81ms/step - loss: 0.7569 - accuracy: 0.6380 - val_loss: 0.7270 - val_accuracy: 0.6456\n",
            "Epoch 42/200\n",
            "4/4 [==============================] - 0s 77ms/step - loss: 0.7743 - accuracy: 0.6253 - val_loss: 0.6865 - val_accuracy: 0.6667\n",
            "Epoch 43/200\n",
            "4/4 [==============================] - 0s 77ms/step - loss: 0.7136 - accuracy: 0.6597 - val_loss: 0.6724 - val_accuracy: 0.6793\n",
            "Epoch 44/200\n",
            "4/4 [==============================] - 0s 79ms/step - loss: 0.7133 - accuracy: 0.6427 - val_loss: 0.6502 - val_accuracy: 0.7426\n",
            "Epoch 45/200\n",
            "4/4 [==============================] - 0s 75ms/step - loss: 0.7049 - accuracy: 0.6733 - val_loss: 0.6717 - val_accuracy: 0.7511\n",
            "Epoch 46/200\n",
            "4/4 [==============================] - 0s 73ms/step - loss: 0.6643 - accuracy: 0.7100 - val_loss: 0.6237 - val_accuracy: 0.7764\n",
            "Epoch 47/200\n",
            "4/4 [==============================] - 0s 81ms/step - loss: 0.6181 - accuracy: 0.7198 - val_loss: 0.6404 - val_accuracy: 0.7426\n",
            "Epoch 48/200\n",
            "4/4 [==============================] - 0s 76ms/step - loss: 0.6304 - accuracy: 0.7123 - val_loss: 0.6665 - val_accuracy: 0.6835\n",
            "Epoch 49/200\n",
            "4/4 [==============================] - 0s 80ms/step - loss: 0.6447 - accuracy: 0.7053 - val_loss: 0.6771 - val_accuracy: 0.7215\n",
            "Epoch 50/200\n",
            "4/4 [==============================] - 0s 76ms/step - loss: 0.6542 - accuracy: 0.6944 - val_loss: 0.6174 - val_accuracy: 0.7595\n",
            "Epoch 51/200\n",
            "4/4 [==============================] - 0s 75ms/step - loss: 0.5856 - accuracy: 0.7335 - val_loss: 0.6744 - val_accuracy: 0.7764\n",
            "Epoch 52/200\n",
            "4/4 [==============================] - 0s 79ms/step - loss: 0.5897 - accuracy: 0.7580 - val_loss: 0.6000 - val_accuracy: 0.7890\n",
            "Epoch 53/200\n",
            "4/4 [==============================] - 0s 75ms/step - loss: 0.5935 - accuracy: 0.7535 - val_loss: 0.6023 - val_accuracy: 0.8059\n",
            "Epoch 54/200\n",
            "4/4 [==============================] - 0s 80ms/step - loss: 0.5151 - accuracy: 0.7929 - val_loss: 0.6028 - val_accuracy: 0.7679\n",
            "Epoch 55/200\n",
            "4/4 [==============================] - 0s 84ms/step - loss: 0.5188 - accuracy: 0.8057 - val_loss: 0.5845 - val_accuracy: 0.7975\n",
            "Epoch 56/200\n",
            "4/4 [==============================] - 0s 78ms/step - loss: 0.5306 - accuracy: 0.7924 - val_loss: 0.5554 - val_accuracy: 0.8101\n",
            "Epoch 57/200\n",
            "4/4 [==============================] - 0s 79ms/step - loss: 0.4965 - accuracy: 0.7966 - val_loss: 0.5873 - val_accuracy: 0.8101\n",
            "Epoch 58/200\n",
            "4/4 [==============================] - 0s 78ms/step - loss: 0.4918 - accuracy: 0.8249 - val_loss: 0.5922 - val_accuracy: 0.8017\n",
            "Epoch 59/200\n",
            "4/4 [==============================] - 0s 72ms/step - loss: 0.4735 - accuracy: 0.8035 - val_loss: 0.5724 - val_accuracy: 0.8143\n",
            "Epoch 60/200\n",
            "4/4 [==============================] - 0s 76ms/step - loss: 0.4569 - accuracy: 0.8291 - val_loss: 0.5822 - val_accuracy: 0.8059\n",
            "Epoch 61/200\n",
            "4/4 [==============================] - 0s 82ms/step - loss: 0.4882 - accuracy: 0.8216 - val_loss: 0.5930 - val_accuracy: 0.7764\n",
            "Epoch 62/200\n",
            "4/4 [==============================] - 0s 79ms/step - loss: 0.4312 - accuracy: 0.8299 - val_loss: 0.6191 - val_accuracy: 0.7511\n",
            "Epoch 63/200\n",
            "4/4 [==============================] - 0s 78ms/step - loss: 0.4870 - accuracy: 0.7999 - val_loss: 0.6201 - val_accuracy: 0.7764\n",
            "Epoch 64/200\n",
            "4/4 [==============================] - 0s 77ms/step - loss: 0.5298 - accuracy: 0.7934 - val_loss: 0.6627 - val_accuracy: 0.7511\n",
            "Epoch 65/200\n",
            "4/4 [==============================] - 0s 76ms/step - loss: 0.5643 - accuracy: 0.7697 - val_loss: 0.6238 - val_accuracy: 0.7722\n",
            "Epoch 66/200\n",
            "4/4 [==============================] - 0s 77ms/step - loss: 0.5008 - accuracy: 0.8088 - val_loss: 0.5568 - val_accuracy: 0.8101\n",
            "Epoch 67/200\n",
            "4/4 [==============================] - 0s 84ms/step - loss: 0.4134 - accuracy: 0.8498 - val_loss: 0.5812 - val_accuracy: 0.8186\n",
            "Epoch 68/200\n",
            "4/4 [==============================] - 0s 78ms/step - loss: 0.4301 - accuracy: 0.8283 - val_loss: 0.5964 - val_accuracy: 0.8017\n",
            "Epoch 69/200\n",
            "4/4 [==============================] - 0s 75ms/step - loss: 0.3987 - accuracy: 0.8379 - val_loss: 0.6290 - val_accuracy: 0.8017\n",
            "Epoch 70/200\n",
            "4/4 [==============================] - 0s 78ms/step - loss: 0.3825 - accuracy: 0.8616 - val_loss: 0.5995 - val_accuracy: 0.7932\n",
            "Epoch 71/200\n",
            "4/4 [==============================] - 0s 74ms/step - loss: 0.3774 - accuracy: 0.8509 - val_loss: 0.6449 - val_accuracy: 0.7764\n",
            "Epoch 72/200\n",
            "4/4 [==============================] - 0s 75ms/step - loss: 0.4042 - accuracy: 0.8520 - val_loss: 0.6748 - val_accuracy: 0.7173\n",
            "Epoch 73/200\n",
            "4/4 [==============================] - 0s 70ms/step - loss: 0.4901 - accuracy: 0.7914 - val_loss: 0.5367 - val_accuracy: 0.8059\n",
            "Epoch 74/200\n",
            "4/4 [==============================] - 0s 73ms/step - loss: 0.4773 - accuracy: 0.8154 - val_loss: 0.5631 - val_accuracy: 0.8228\n",
            "Epoch 75/200\n",
            "4/4 [==============================] - 0s 75ms/step - loss: 0.4680 - accuracy: 0.8197 - val_loss: 0.6208 - val_accuracy: 0.8228\n",
            "Epoch 76/200\n",
            "4/4 [==============================] - 0s 85ms/step - loss: 0.4296 - accuracy: 0.8473 - val_loss: 0.5493 - val_accuracy: 0.8186\n",
            "Epoch 77/200\n",
            "4/4 [==============================] - 0s 76ms/step - loss: 0.4051 - accuracy: 0.8560 - val_loss: 0.5578 - val_accuracy: 0.8059\n",
            "Epoch 78/200\n",
            "4/4 [==============================] - 0s 76ms/step - loss: 0.3825 - accuracy: 0.8574 - val_loss: 0.6239 - val_accuracy: 0.7848\n",
            "Epoch 79/200\n",
            "4/4 [==============================] - 0s 77ms/step - loss: 0.4006 - accuracy: 0.8475 - val_loss: 0.5555 - val_accuracy: 0.8270\n",
            "Epoch 80/200\n",
            "4/4 [==============================] - 0s 82ms/step - loss: 0.3419 - accuracy: 0.8774 - val_loss: 0.5815 - val_accuracy: 0.8228\n",
            "Epoch 81/200\n",
            "4/4 [==============================] - 0s 79ms/step - loss: 0.3499 - accuracy: 0.8807 - val_loss: 0.6246 - val_accuracy: 0.8101\n",
            "Epoch 82/200\n",
            "4/4 [==============================] - 0s 74ms/step - loss: 0.3522 - accuracy: 0.8808 - val_loss: 0.6687 - val_accuracy: 0.7764\n",
            "Epoch 83/200\n",
            "4/4 [==============================] - 0s 77ms/step - loss: 0.3414 - accuracy: 0.8859 - val_loss: 0.5826 - val_accuracy: 0.8143\n",
            "Epoch 84/200\n",
            "4/4 [==============================] - 0s 77ms/step - loss: 0.3617 - accuracy: 0.8725 - val_loss: 0.6395 - val_accuracy: 0.7764\n",
            "Epoch 85/200\n",
            "4/4 [==============================] - 0s 80ms/step - loss: 0.3978 - accuracy: 0.8576 - val_loss: 0.6385 - val_accuracy: 0.7764\n",
            "Epoch 86/200\n",
            "4/4 [==============================] - 0s 82ms/step - loss: 0.3079 - accuracy: 0.8980 - val_loss: 0.5966 - val_accuracy: 0.8354\n",
            "Epoch 87/200\n",
            "4/4 [==============================] - 0s 77ms/step - loss: 0.3397 - accuracy: 0.8891 - val_loss: 0.6953 - val_accuracy: 0.7806\n",
            "Epoch 88/200\n",
            "4/4 [==============================] - 0s 76ms/step - loss: 0.3931 - accuracy: 0.8567 - val_loss: 0.7155 - val_accuracy: 0.7848\n",
            "Epoch 89/200\n",
            "4/4 [==============================] - 0s 79ms/step - loss: 0.4869 - accuracy: 0.8141 - val_loss: 0.7472 - val_accuracy: 0.6667\n",
            "Epoch 90/200\n",
            "4/4 [==============================] - 0s 83ms/step - loss: 0.4960 - accuracy: 0.7646 - val_loss: 0.6027 - val_accuracy: 0.7764\n",
            "Epoch 91/200\n",
            "4/4 [==============================] - 0s 73ms/step - loss: 0.4245 - accuracy: 0.8303 - val_loss: 0.6246 - val_accuracy: 0.8059\n",
            "Epoch 92/200\n",
            "4/4 [==============================] - 0s 77ms/step - loss: 0.3982 - accuracy: 0.8585 - val_loss: 0.5399 - val_accuracy: 0.8186\n",
            "Epoch 93/200\n",
            "4/4 [==============================] - 0s 82ms/step - loss: 0.3224 - accuracy: 0.8921 - val_loss: 0.5391 - val_accuracy: 0.8143\n",
            "Epoch 94/200\n",
            "4/4 [==============================] - 0s 75ms/step - loss: 0.3617 - accuracy: 0.8681 - val_loss: 0.5854 - val_accuracy: 0.8101\n",
            "Epoch 95/200\n",
            "4/4 [==============================] - 0s 80ms/step - loss: 0.3519 - accuracy: 0.8688 - val_loss: 0.5712 - val_accuracy: 0.8270\n",
            "Epoch 96/200\n",
            "4/4 [==============================] - 0s 77ms/step - loss: 0.3316 - accuracy: 0.8907 - val_loss: 0.5566 - val_accuracy: 0.8186\n",
            "Epoch 97/200\n",
            "4/4 [==============================] - 0s 77ms/step - loss: 0.2941 - accuracy: 0.8813 - val_loss: 0.6158 - val_accuracy: 0.8186\n",
            "Epoch 98/200\n",
            "4/4 [==============================] - 0s 81ms/step - loss: 0.3486 - accuracy: 0.8780 - val_loss: 0.5950 - val_accuracy: 0.7932\n",
            "Epoch 99/200\n",
            "4/4 [==============================] - 0s 75ms/step - loss: 0.3606 - accuracy: 0.8859 - val_loss: 0.6006 - val_accuracy: 0.8186\n",
            "Epoch 100/200\n",
            "4/4 [==============================] - 0s 82ms/step - loss: 0.2635 - accuracy: 0.9137 - val_loss: 0.6449 - val_accuracy: 0.7890\n",
            "Epoch 101/200\n",
            "4/4 [==============================] - 0s 74ms/step - loss: 0.3515 - accuracy: 0.8889 - val_loss: 0.5619 - val_accuracy: 0.8059\n",
            "Epoch 102/200\n",
            "4/4 [==============================] - 0s 81ms/step - loss: 0.2729 - accuracy: 0.9020 - val_loss: 0.6605 - val_accuracy: 0.8143\n",
            "Epoch 103/200\n",
            "4/4 [==============================] - 0s 74ms/step - loss: 0.2849 - accuracy: 0.9054 - val_loss: 0.6098 - val_accuracy: 0.8143\n",
            "Epoch 104/200\n",
            "4/4 [==============================] - 0s 73ms/step - loss: 0.3179 - accuracy: 0.8882 - val_loss: 0.6034 - val_accuracy: 0.7932\n",
            "Epoch 105/200\n",
            "4/4 [==============================] - 0s 76ms/step - loss: 0.3268 - accuracy: 0.8870 - val_loss: 0.6709 - val_accuracy: 0.8270\n",
            "Epoch 106/200\n",
            "4/4 [==============================] - 0s 83ms/step - loss: 0.3138 - accuracy: 0.8796 - val_loss: 0.5694 - val_accuracy: 0.8186\n",
            "Epoch 107/200\n",
            "4/4 [==============================] - 0s 85ms/step - loss: 0.3560 - accuracy: 0.8721 - val_loss: 0.6335 - val_accuracy: 0.8312\n",
            "Epoch 108/200\n",
            "4/4 [==============================] - 0s 77ms/step - loss: 0.3184 - accuracy: 0.8874 - val_loss: 0.6553 - val_accuracy: 0.7679\n",
            "Epoch 109/200\n",
            "4/4 [==============================] - 0s 77ms/step - loss: 0.3185 - accuracy: 0.8835 - val_loss: 0.5783 - val_accuracy: 0.8228\n",
            "Epoch 110/200\n",
            "4/4 [==============================] - 0s 83ms/step - loss: 0.2604 - accuracy: 0.9056 - val_loss: 0.7447 - val_accuracy: 0.7553\n",
            "Epoch 111/200\n",
            "4/4 [==============================] - 0s 70ms/step - loss: 0.3077 - accuracy: 0.8832 - val_loss: 0.6004 - val_accuracy: 0.8059\n",
            "Epoch 112/200\n",
            "4/4 [==============================] - 0s 77ms/step - loss: 0.2639 - accuracy: 0.9138 - val_loss: 0.5433 - val_accuracy: 0.8312\n",
            "Epoch 113/200\n",
            "4/4 [==============================] - 0s 82ms/step - loss: 0.2659 - accuracy: 0.9137 - val_loss: 0.5785 - val_accuracy: 0.8270\n",
            "Epoch 114/200\n",
            "4/4 [==============================] - 0s 86ms/step - loss: 0.2412 - accuracy: 0.9179 - val_loss: 0.5791 - val_accuracy: 0.8186\n",
            "Epoch 115/200\n",
            "4/4 [==============================] - 0s 77ms/step - loss: 0.2586 - accuracy: 0.9031 - val_loss: 0.6083 - val_accuracy: 0.8186\n",
            "Epoch 116/200\n",
            "4/4 [==============================] - 0s 81ms/step - loss: 0.2606 - accuracy: 0.9037 - val_loss: 0.7276 - val_accuracy: 0.8017\n",
            "Epoch 117/200\n",
            "4/4 [==============================] - 0s 81ms/step - loss: 0.2722 - accuracy: 0.9120 - val_loss: 0.6091 - val_accuracy: 0.8186\n",
            "Epoch 118/200\n",
            "4/4 [==============================] - 0s 81ms/step - loss: 0.2589 - accuracy: 0.9174 - val_loss: 0.6060 - val_accuracy: 0.8439\n",
            "Epoch 119/200\n",
            "4/4 [==============================] - 0s 73ms/step - loss: 0.3201 - accuracy: 0.8854 - val_loss: 0.5741 - val_accuracy: 0.8397\n",
            "Epoch 120/200\n",
            "4/4 [==============================] - 0s 79ms/step - loss: 0.3126 - accuracy: 0.8807 - val_loss: 0.5964 - val_accuracy: 0.8101\n",
            "Epoch 121/200\n",
            "4/4 [==============================] - 0s 85ms/step - loss: 0.2701 - accuracy: 0.8931 - val_loss: 0.6037 - val_accuracy: 0.8270\n",
            "Epoch 122/200\n",
            "4/4 [==============================] - 0s 82ms/step - loss: 0.2702 - accuracy: 0.8993 - val_loss: 0.6816 - val_accuracy: 0.8186\n",
            "Epoch 123/200\n",
            "4/4 [==============================] - 0s 80ms/step - loss: 0.2804 - accuracy: 0.8874 - val_loss: 0.6620 - val_accuracy: 0.8101\n",
            "Epoch 124/200\n",
            "4/4 [==============================] - 0s 78ms/step - loss: 0.3119 - accuracy: 0.8676 - val_loss: 0.6600 - val_accuracy: 0.7848\n",
            "Epoch 125/200\n",
            "4/4 [==============================] - 0s 79ms/step - loss: 0.3130 - accuracy: 0.8876 - val_loss: 0.6693 - val_accuracy: 0.7932\n",
            "Epoch 126/200\n",
            "4/4 [==============================] - 0s 79ms/step - loss: 0.2575 - accuracy: 0.9069 - val_loss: 0.7325 - val_accuracy: 0.8059\n",
            "Epoch 127/200\n",
            "4/4 [==============================] - 0s 81ms/step - loss: 0.2926 - accuracy: 0.8840 - val_loss: 0.6916 - val_accuracy: 0.7806\n",
            "Epoch 128/200\n",
            "4/4 [==============================] - 0s 77ms/step - loss: 0.3057 - accuracy: 0.8757 - val_loss: 0.6780 - val_accuracy: 0.7806\n",
            "Epoch 129/200\n",
            "4/4 [==============================] - 0s 76ms/step - loss: 0.3372 - accuracy: 0.8664 - val_loss: 0.6620 - val_accuracy: 0.8059\n",
            "Epoch 130/200\n",
            "4/4 [==============================] - 0s 73ms/step - loss: 0.2670 - accuracy: 0.8986 - val_loss: 1.0161 - val_accuracy: 0.7637\n",
            "Epoch 131/200\n",
            "4/4 [==============================] - 0s 81ms/step - loss: 0.3612 - accuracy: 0.8631 - val_loss: 0.6419 - val_accuracy: 0.8143\n",
            "Epoch 132/200\n",
            "4/4 [==============================] - 0s 72ms/step - loss: 0.3259 - accuracy: 0.8706 - val_loss: 0.6368 - val_accuracy: 0.8143\n",
            "Epoch 133/200\n",
            "4/4 [==============================] - 0s 78ms/step - loss: 0.2717 - accuracy: 0.9054 - val_loss: 0.6967 - val_accuracy: 0.7595\n",
            "Epoch 134/200\n",
            "4/4 [==============================] - 0s 77ms/step - loss: 0.3381 - accuracy: 0.8664 - val_loss: 0.6530 - val_accuracy: 0.7932\n",
            "Epoch 135/200\n",
            "4/4 [==============================] - 0s 79ms/step - loss: 0.2664 - accuracy: 0.9027 - val_loss: 0.5620 - val_accuracy: 0.8270\n",
            "Epoch 136/200\n",
            "4/4 [==============================] - 0s 78ms/step - loss: 0.2783 - accuracy: 0.8971 - val_loss: 0.6202 - val_accuracy: 0.8312\n",
            "Epoch 137/200\n",
            "4/4 [==============================] - 0s 74ms/step - loss: 0.2866 - accuracy: 0.8840 - val_loss: 0.7475 - val_accuracy: 0.7806\n",
            "Epoch 138/200\n",
            "4/4 [==============================] - 0s 82ms/step - loss: 0.3078 - accuracy: 0.8920 - val_loss: 0.6481 - val_accuracy: 0.7932\n",
            "Epoch 139/200\n",
            "4/4 [==============================] - 0s 76ms/step - loss: 0.2606 - accuracy: 0.9027 - val_loss: 0.6257 - val_accuracy: 0.7848\n",
            "Epoch 140/200\n",
            "4/4 [==============================] - 0s 79ms/step - loss: 0.3215 - accuracy: 0.8574 - val_loss: 0.6682 - val_accuracy: 0.7764\n",
            "Epoch 141/200\n",
            "4/4 [==============================] - 0s 81ms/step - loss: 0.3002 - accuracy: 0.8848 - val_loss: 0.7247 - val_accuracy: 0.7890\n",
            "Epoch 142/200\n",
            "4/4 [==============================] - 0s 77ms/step - loss: 0.3047 - accuracy: 0.8915 - val_loss: 0.6288 - val_accuracy: 0.8312\n",
            "Epoch 143/200\n",
            "4/4 [==============================] - 0s 77ms/step - loss: 0.2497 - accuracy: 0.9075 - val_loss: 0.6452 - val_accuracy: 0.8101\n",
            "Epoch 144/200\n",
            "4/4 [==============================] - 0s 80ms/step - loss: 0.2699 - accuracy: 0.8918 - val_loss: 0.6764 - val_accuracy: 0.8059\n",
            "Epoch 145/200\n",
            "4/4 [==============================] - 0s 81ms/step - loss: 0.2685 - accuracy: 0.8973 - val_loss: 0.6481 - val_accuracy: 0.7764\n",
            "Epoch 146/200\n",
            "4/4 [==============================] - 0s 81ms/step - loss: 0.2284 - accuracy: 0.9317 - val_loss: 0.6036 - val_accuracy: 0.8143\n",
            "Epoch 147/200\n",
            "4/4 [==============================] - 0s 75ms/step - loss: 0.2246 - accuracy: 0.9197 - val_loss: 0.6678 - val_accuracy: 0.8186\n",
            "Epoch 148/200\n",
            "4/4 [==============================] - 0s 76ms/step - loss: 0.2181 - accuracy: 0.9147 - val_loss: 0.6465 - val_accuracy: 0.8017\n",
            "Epoch 149/200\n",
            "4/4 [==============================] - 0s 80ms/step - loss: 0.2147 - accuracy: 0.9179 - val_loss: 0.6761 - val_accuracy: 0.8143\n",
            "Epoch 150/200\n",
            "4/4 [==============================] - 0s 75ms/step - loss: 0.2123 - accuracy: 0.9279 - val_loss: 0.7634 - val_accuracy: 0.7806\n",
            "Epoch 151/200\n",
            "4/4 [==============================] - 0s 75ms/step - loss: 0.2769 - accuracy: 0.8968 - val_loss: 0.7251 - val_accuracy: 0.7975\n",
            "Epoch 152/200\n",
            "4/4 [==============================] - 0s 85ms/step - loss: 0.2659 - accuracy: 0.8956 - val_loss: 0.6827 - val_accuracy: 0.7890\n",
            "Epoch 153/200\n",
            "4/4 [==============================] - 0s 79ms/step - loss: 0.3083 - accuracy: 0.8782 - val_loss: 0.6397 - val_accuracy: 0.7975\n",
            "Epoch 154/200\n",
            "4/4 [==============================] - 0s 85ms/step - loss: 0.2829 - accuracy: 0.8723 - val_loss: 0.6690 - val_accuracy: 0.8143\n",
            "Epoch 155/200\n",
            "4/4 [==============================] - 0s 82ms/step - loss: 0.2330 - accuracy: 0.9135 - val_loss: 0.7008 - val_accuracy: 0.8059\n",
            "Epoch 156/200\n",
            "4/4 [==============================] - 0s 81ms/step - loss: 0.2373 - accuracy: 0.9006 - val_loss: 0.6735 - val_accuracy: 0.8186\n",
            "Epoch 157/200\n",
            "4/4 [==============================] - 0s 82ms/step - loss: 0.2140 - accuracy: 0.9156 - val_loss: 0.7316 - val_accuracy: 0.8143\n",
            "Epoch 158/200\n",
            "4/4 [==============================] - 0s 81ms/step - loss: 0.2134 - accuracy: 0.9133 - val_loss: 0.7141 - val_accuracy: 0.8017\n",
            "Epoch 159/200\n",
            "4/4 [==============================] - 0s 84ms/step - loss: 0.2829 - accuracy: 0.8842 - val_loss: 0.6426 - val_accuracy: 0.8228\n",
            "Epoch 160/200\n",
            "4/4 [==============================] - 0s 82ms/step - loss: 0.1812 - accuracy: 0.9310 - val_loss: 0.7151 - val_accuracy: 0.8059\n",
            "Epoch 161/200\n",
            "4/4 [==============================] - 0s 76ms/step - loss: 0.1980 - accuracy: 0.9116 - val_loss: 0.6959 - val_accuracy: 0.8143\n",
            "Epoch 162/200\n",
            "4/4 [==============================] - 0s 82ms/step - loss: 0.2182 - accuracy: 0.9133 - val_loss: 0.6562 - val_accuracy: 0.8101\n",
            "Epoch 163/200\n",
            "4/4 [==============================] - 0s 85ms/step - loss: 0.2242 - accuracy: 0.9114 - val_loss: 0.6609 - val_accuracy: 0.8059\n",
            "Epoch 164/200\n",
            "4/4 [==============================] - 0s 80ms/step - loss: 0.2753 - accuracy: 0.8962 - val_loss: 0.7148 - val_accuracy: 0.8228\n",
            "Epoch 165/200\n",
            "4/4 [==============================] - 0s 85ms/step - loss: 0.2307 - accuracy: 0.8997 - val_loss: 0.6602 - val_accuracy: 0.8270\n",
            "Epoch 166/200\n",
            "4/4 [==============================] - 0s 77ms/step - loss: 0.2520 - accuracy: 0.9076 - val_loss: 0.6494 - val_accuracy: 0.8228\n",
            "Epoch 167/200\n",
            "4/4 [==============================] - 0s 75ms/step - loss: 0.2083 - accuracy: 0.9267 - val_loss: 0.7866 - val_accuracy: 0.8186\n",
            "Epoch 168/200\n",
            "4/4 [==============================] - 0s 80ms/step - loss: 0.2268 - accuracy: 0.9075 - val_loss: 0.6919 - val_accuracy: 0.8143\n",
            "Epoch 169/200\n",
            "4/4 [==============================] - 0s 84ms/step - loss: 0.1582 - accuracy: 0.9391 - val_loss: 0.6878 - val_accuracy: 0.8186\n",
            "Epoch 170/200\n",
            "4/4 [==============================] - 0s 77ms/step - loss: 0.2149 - accuracy: 0.9251 - val_loss: 0.7692 - val_accuracy: 0.8228\n",
            "Epoch 171/200\n",
            "4/4 [==============================] - 0s 79ms/step - loss: 0.2355 - accuracy: 0.9174 - val_loss: 0.7314 - val_accuracy: 0.8059\n",
            "Epoch 172/200\n",
            "4/4 [==============================] - 0s 77ms/step - loss: 0.1855 - accuracy: 0.9315 - val_loss: 0.6940 - val_accuracy: 0.8101\n",
            "Epoch 173/200\n",
            "4/4 [==============================] - 0s 80ms/step - loss: 0.1935 - accuracy: 0.9368 - val_loss: 0.9156 - val_accuracy: 0.8101\n",
            "Epoch 174/200\n",
            "4/4 [==============================] - 0s 71ms/step - loss: 0.2243 - accuracy: 0.9101 - val_loss: 0.7555 - val_accuracy: 0.8270\n",
            "Epoch 175/200\n",
            "4/4 [==============================] - 0s 81ms/step - loss: 0.2412 - accuracy: 0.9112 - val_loss: 0.6817 - val_accuracy: 0.7932\n",
            "Epoch 176/200\n",
            "4/4 [==============================] - 0s 81ms/step - loss: 0.2857 - accuracy: 0.8764 - val_loss: 0.7641 - val_accuracy: 0.8186\n",
            "Epoch 177/200\n",
            "4/4 [==============================] - 0s 83ms/step - loss: 0.2092 - accuracy: 0.9216 - val_loss: 0.9031 - val_accuracy: 0.7848\n",
            "Epoch 178/200\n",
            "4/4 [==============================] - 0s 75ms/step - loss: 0.2714 - accuracy: 0.8993 - val_loss: 0.7295 - val_accuracy: 0.8228\n",
            "Epoch 179/200\n",
            "4/4 [==============================] - 0s 74ms/step - loss: 0.2013 - accuracy: 0.9245 - val_loss: 0.7651 - val_accuracy: 0.7722\n",
            "Epoch 180/200\n",
            "4/4 [==============================] - 0s 79ms/step - loss: 0.2934 - accuracy: 0.9077 - val_loss: 0.7600 - val_accuracy: 0.8186\n",
            "Epoch 181/200\n",
            "4/4 [==============================] - 0s 84ms/step - loss: 0.1810 - accuracy: 0.9193 - val_loss: 0.7685 - val_accuracy: 0.8228\n",
            "Epoch 182/200\n",
            "4/4 [==============================] - 0s 78ms/step - loss: 0.1525 - accuracy: 0.9393 - val_loss: 0.7291 - val_accuracy: 0.8228\n",
            "Epoch 183/200\n",
            "4/4 [==============================] - 0s 78ms/step - loss: 0.1708 - accuracy: 0.9305 - val_loss: 0.6687 - val_accuracy: 0.8186\n",
            "Epoch 184/200\n",
            "4/4 [==============================] - 0s 79ms/step - loss: 0.1693 - accuracy: 0.9458 - val_loss: 0.7923 - val_accuracy: 0.8101\n",
            "Epoch 185/200\n",
            "4/4 [==============================] - 0s 80ms/step - loss: 0.1876 - accuracy: 0.9286 - val_loss: 0.7433 - val_accuracy: 0.7890\n",
            "Epoch 186/200\n",
            "4/4 [==============================] - 0s 82ms/step - loss: 0.2163 - accuracy: 0.9159 - val_loss: 0.7600 - val_accuracy: 0.7890\n",
            "Epoch 187/200\n",
            "4/4 [==============================] - 0s 82ms/step - loss: 0.1836 - accuracy: 0.9247 - val_loss: 0.7563 - val_accuracy: 0.8101\n",
            "Epoch 188/200\n",
            "4/4 [==============================] - 0s 79ms/step - loss: 0.1605 - accuracy: 0.9374 - val_loss: 0.7407 - val_accuracy: 0.8017\n",
            "Epoch 189/200\n",
            "4/4 [==============================] - 0s 81ms/step - loss: 0.2594 - accuracy: 0.8993 - val_loss: 0.7025 - val_accuracy: 0.8270\n",
            "Epoch 190/200\n",
            "4/4 [==============================] - 0s 79ms/step - loss: 0.1819 - accuracy: 0.9360 - val_loss: 0.7749 - val_accuracy: 0.8059\n",
            "Epoch 191/200\n",
            "4/4 [==============================] - 0s 83ms/step - loss: 0.2454 - accuracy: 0.9138 - val_loss: 0.6620 - val_accuracy: 0.8270\n",
            "Epoch 192/200\n",
            "4/4 [==============================] - 0s 72ms/step - loss: 0.1498 - accuracy: 0.9445 - val_loss: 0.7789 - val_accuracy: 0.8186\n",
            "Epoch 193/200\n",
            "4/4 [==============================] - 0s 80ms/step - loss: 0.1653 - accuracy: 0.9323 - val_loss: 0.8766 - val_accuracy: 0.7890\n",
            "Epoch 194/200\n",
            "4/4 [==============================] - 0s 79ms/step - loss: 0.2377 - accuracy: 0.9082 - val_loss: 0.7787 - val_accuracy: 0.7932\n",
            "Epoch 195/200\n",
            "4/4 [==============================] - 0s 80ms/step - loss: 0.1667 - accuracy: 0.9420 - val_loss: 0.8166 - val_accuracy: 0.7975\n",
            "Epoch 196/200\n",
            "4/4 [==============================] - 0s 85ms/step - loss: 0.1642 - accuracy: 0.9419 - val_loss: 0.7392 - val_accuracy: 0.8059\n",
            "Epoch 197/200\n",
            "4/4 [==============================] - 0s 76ms/step - loss: 0.2038 - accuracy: 0.9317 - val_loss: 0.6756 - val_accuracy: 0.8101\n",
            "Epoch 198/200\n",
            "4/4 [==============================] - 0s 75ms/step - loss: 0.1989 - accuracy: 0.9155 - val_loss: 0.7418 - val_accuracy: 0.8312\n",
            "Epoch 199/200\n",
            "4/4 [==============================] - 0s 80ms/step - loss: 0.1635 - accuracy: 0.9366 - val_loss: 0.8890 - val_accuracy: 0.8101\n",
            "Epoch 200/200\n",
            "4/4 [==============================] - 0s 75ms/step - loss: 0.2067 - accuracy: 0.9200 - val_loss: 0.8282 - val_accuracy: 0.8228\n"
          ],
          "name": "stdout"
        }
      ]
    },
    {
      "cell_type": "code",
      "metadata": {
        "id": "AAcheQE6nCeZ",
        "colab": {
          "base_uri": "https://localhost:8080/",
          "height": 498
        },
        "outputId": "c9d3e943-1a6c-4891-92b5-89418edcc3a3"
      },
      "source": [
        "import matplotlib.pyplot as plt\n",
        "\n",
        "print(H.history.keys())\n",
        "# summarize history for accuracy\n",
        "plt.plot(H.history['accuracy'])\n",
        "plt.plot(H.history['val_accuracy'])\n",
        "plt.title('model accuracy')\n",
        "plt.ylabel('accuracy')\n",
        "plt.xlabel('epoch')\n",
        "plt.legend(['train', 'test'], loc='upper left')\n",
        "plt.show()\n",
        "# summarize history for loss\n",
        "plt.plot(H.history['loss'])\n",
        "plt.plot(H.history['val_loss'])\n",
        "plt.title('model loss')\n",
        "plt.ylabel('loss')\n",
        "plt.xlabel('epoch')\n",
        "plt.legend(['train', 'test'], loc='upper left')\n",
        "plt.show()"
      ],
      "execution_count": 14,
      "outputs": [
        {
          "output_type": "stream",
          "text": [
            "dict_keys(['loss', 'accuracy', 'val_loss', 'val_accuracy'])\n"
          ],
          "name": "stdout"
        },
        {
          "output_type": "display_data",
          "data": {
            "image/png": "[encoded data removed]",
            "text/plain": [
              "<Figure size 432x288 with 1 Axes>"
            ]
          },
          "metadata": {
            "tags": [],
            "needs_background": "light"
          }
        },
        {
          "output_type": "display_data",
          "data": {
            "image/png": "[encoded data removed]",
            "text/plain": [
              "<Figure size 432x288 with 1 Axes>"
            ]
          },
          "metadata": {
            "tags": [],
            "needs_background": "light"
          }
        }
      ]
    }
  ]
}
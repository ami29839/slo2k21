{
  "nbformat": 4,
  "nbformat_minor": 0,
  "metadata": {
    "colab": {
      "name": "UTS_AryaMaulanaI_2101202079.ipynb",
      "provenance": [],
      "collapsed_sections": [],
      "authorship_tag": "ABX9TyMHPtBhRQ05WXL5gohv5Utf",
      "include_colab_link": true
    },
    "kernelspec": {
      "name": "python3",
      "display_name": "Python 3"
    },
    "language_info": {
      "name": "python"
    },
    "accelerator": "GPU"
  },
  "cells": [
    {
      "cell_type": "markdown",
      "metadata": {
        "id": "view-in-github",
        "colab_type": "text"
      },
      "source": [
        "<a href=\"https://colab.research.google.com/github/ami29839/slo2k21/blob/main/UTS_AryaMaulanaI_2101202079_1.ipynb\" target=\"_parent\"><img src=\"https://colab.research.google.com/assets/colab-badge.svg\" alt=\"Open In Colab\"/></a>"
      ]
    },
    {
      "cell_type": "code",
      "metadata": {
        "colab": {
          "base_uri": "https://localhost:8080/"
        },
        "id": "h6Atl4-ff-VP",
        "outputId": "bf7fa0e0-42f8-4cdb-aa1c-691af6c65a55"
      },
      "source": [
        "from google.colab import drive\n",
        "drive.mount('/content/drive')"
      ],
      "execution_count": 1,
      "outputs": [
        {
          "output_type": "stream",
          "text": [
            "Drive already mounted at /content/drive; to attempt to forcibly remount, call drive.mount(\"/content/drive\", force_remount=True).\n"
          ],
          "name": "stdout"
        }
      ]
    },
    {
      "cell_type": "code",
      "metadata": {
        "colab": {
          "base_uri": "https://localhost:8080/"
        },
        "id": "5ewU6PzPgALp",
        "outputId": "63dbf638-e7a4-4a97-e9fc-4b811f0fe933"
      },
      "source": [
        "cd /content/drive/MyDrive/Colab"
      ],
      "execution_count": 2,
      "outputs": [
        {
          "output_type": "stream",
          "text": [
            "/content/drive/MyDrive/Colab\n"
          ],
          "name": "stdout"
        }
      ]
    },
    {
      "cell_type": "code",
      "metadata": {
        "id": "HcQ_0LGugAkP"
      },
      "source": [
        "from keras.models import Sequential\n",
        "from keras.layers.core import Activation\n",
        "from keras.layers.core import Flatten\n",
        "from keras.layers.core import Dense\n",
        "from keras.optimizers import Adam\n",
        "from sklearn.preprocessing import LabelBinarizer\n",
        "from sklearn.model_selection import train_test_split\n",
        "from sklearn.metrics import classification_report\n",
        "from PIL import Image\n",
        "from PIL import ImageFilter\n",
        "from imutils import paths\n",
        "import numpy as np\n",
        "import os"
      ],
      "execution_count": 3,
      "outputs": []
    },
    {
      "cell_type": "code",
      "metadata": {
        "colab": {
          "base_uri": "https://localhost:8080/"
        },
        "id": "7DK5hvDVgDJH",
        "outputId": "d0869aee-656a-4cca-eb34-f93c516e6119"
      },
      "source": [
        "print(\"(INFO) loading images...\")\n",
        "imagePaths=paths.list_images(\"3scene\")\n",
        "data=[]\n",
        "labels=[]"
      ],
      "execution_count": 4,
      "outputs": [
        {
          "output_type": "stream",
          "text": [
            "(INFO) loading images...\n"
          ],
          "name": "stdout"
        }
      ]
    },
    {
      "cell_type": "code",
      "metadata": {
        "id": "pTIVcLYygEwq"
      },
      "source": [
        "for imagePath in imagePaths:\n",
        "  image=Image.open(imagePath)\n",
        "  image=image.filter(ImageFilter.SMOOTH)\n",
        "  image = image.filter(ImageFilter.SMOOTH_MORE)\n",
        "  image=np.array(image.resize((128,128))) / 255.0\n",
        "  data.append(image)\n",
        "  label=imagePath.split(os.path.sep)[-2]\n",
        "  labels.append(label)"
      ],
      "execution_count": 5,
      "outputs": []
    },
    {
      "cell_type": "code",
      "metadata": {
        "id": "UbeJzyrqhwQC",
        "colab": {
          "base_uri": "https://localhost:8080/"
        },
        "outputId": "9848cb60-1291-4677-e540-23ffc8141dac"
      },
      "source": [
        "print(labels)"
      ],
      "execution_count": 6,
      "outputs": [
        {
          "output_type": "stream",
          "text": [
            "['coast', 'coast', 'coast', 'coast', 'coast', 'coast', 'coast', 'coast', 'coast', 'coast', 'coast', 'coast', 'coast', 'coast', 'coast', 'coast', 'coast', 'coast', 'coast', 'coast', 'coast', 'coast', 'coast', 'coast', 'coast', 'coast', 'coast', 'coast', 'coast', 'coast', 'coast', 'coast', 'coast', 'coast', 'coast', 'coast', 'coast', 'coast', 'coast', 'coast', 'coast', 'coast', 'coast', 'coast', 'coast', 'coast', 'coast', 'coast', 'coast', 'coast', 'coast', 'coast', 'coast', 'coast', 'coast', 'coast', 'coast', 'coast', 'coast', 'coast', 'coast', 'coast', 'coast', 'coast', 'coast', 'coast', 'coast', 'coast', 'coast', 'coast', 'coast', 'coast', 'coast', 'coast', 'coast', 'coast', 'coast', 'coast', 'coast', 'coast', 'coast', 'coast', 'coast', 'coast', 'coast', 'coast', 'coast', 'coast', 'coast', 'coast', 'coast', 'coast', 'coast', 'coast', 'coast', 'coast', 'coast', 'coast', 'coast', 'coast', 'coast', 'coast', 'coast', 'coast', 'coast', 'coast', 'coast', 'coast', 'coast', 'coast', 'coast', 'coast', 'coast', 'coast', 'coast', 'coast', 'coast', 'coast', 'coast', 'coast', 'coast', 'coast', 'coast', 'coast', 'coast', 'coast', 'coast', 'coast', 'coast', 'coast', 'coast', 'coast', 'coast', 'coast', 'coast', 'coast', 'coast', 'coast', 'coast', 'coast', 'coast', 'coast', 'coast', 'coast', 'coast', 'coast', 'coast', 'coast', 'coast', 'coast', 'coast', 'coast', 'coast', 'coast', 'coast', 'coast', 'coast', 'coast', 'coast', 'coast', 'coast', 'coast', 'coast', 'coast', 'coast', 'coast', 'coast', 'coast', 'coast', 'coast', 'coast', 'coast', 'coast', 'coast', 'coast', 'coast', 'coast', 'coast', 'coast', 'coast', 'coast', 'coast', 'coast', 'coast', 'coast', 'coast', 'coast', 'coast', 'coast', 'coast', 'coast', 'coast', 'coast', 'coast', 'coast', 'coast', 'coast', 'coast', 'coast', 'coast', 'coast', 'coast', 'coast', 'coast', 'coast', 'coast', 'coast', 'coast', 'coast', 'coast', 'coast', 'coast', 'coast', 'coast', 'coast', 'coast', 'coast', 'coast', 'coast', 'coast', 'coast', 'coast', 'coast', 'coast', 'coast', 'coast', 'coast', 'coast', 'coast', 'coast', 'coast', 'coast', 'coast', 'coast', 'coast', 'coast', 'coast', 'coast', 'coast', 'coast', 'coast', 'coast', 'coast', 'coast', 'coast', 'coast', 'coast', 'coast', 'coast', 'coast', 'coast', 'coast', 'coast', 'coast', 'coast', 'coast', 'coast', 'coast', 'coast', 'coast', 'coast', 'coast', 'coast', 'coast', 'coast', 'coast', 'coast', 'coast', 'coast', 'coast', 'coast', 'coast', 'coast', 'coast', 'coast', 'coast', 'coast', 'coast', 'coast', 'coast', 'coast', 'coast', 'coast', 'coast', 'coast', 'coast', 'coast', 'coast', 'coast', 'coast', 'coast', 'coast', 'coast', 'coast', 'coast', 'coast', 'coast', 'coast', 'coast', 'coast', 'coast', 'coast', 'coast', 'coast', 'coast', 'coast', 'coast', 'coast', 'coast', 'coast', 'coast', 'coast', 'coast', 'coast', 'coast', 'coast', 'coast', 'coast', 'coast', 'coast', 'coast', 'coast', 'coast', 'coast', 'coast', 'coast', 'coast', 'coast', 'coast', 'coast', 'coast', 'coast', 'coast', 'coast', 'coast', 'coast', 'coast', 'coast', 'coast', 'coast', 'coast', 'coast', 'coast', 'coast', 'coast', 'coast', 'coast', 'coast', 'coast', 'coast', 'coast', 'coast', 'coast', 'coast', 'coast', 'coast', 'coast', 'coast', 'coast', 'coast', 'highway', 'highway', 'highway', 'highway', 'highway', 'highway', 'highway', 'highway', 'highway', 'highway', 'highway', 'highway', 'highway', 'highway', 'highway', 'highway', 'highway', 'highway', 'highway', 'highway', 'highway', 'highway', 'highway', 'highway', 'highway', 'highway', 'highway', 'highway', 'highway', 'highway', 'highway', 'highway', 'highway', 'highway', 'highway', 'highway', 'highway', 'highway', 'highway', 'highway', 'highway', 'highway', 'highway', 'highway', 'highway', 'highway', 'highway', 'highway', 'highway', 'highway', 'highway', 'highway', 'highway', 'highway', 'highway', 'highway', 'highway', 'highway', 'highway', 'highway', 'highway', 'highway', 'highway', 'highway', 'highway', 'highway', 'highway', 'highway', 'highway', 'highway', 'highway', 'highway', 'highway', 'highway', 'highway', 'highway', 'highway', 'highway', 'highway', 'highway', 'highway', 'highway', 'highway', 'highway', 'highway', 'highway', 'highway', 'highway', 'highway', 'highway', 'highway', 'highway', 'highway', 'highway', 'highway', 'highway', 'highway', 'highway', 'highway', 'highway', 'highway', 'highway', 'highway', 'highway', 'highway', 'highway', 'highway', 'highway', 'highway', 'highway', 'highway', 'highway', 'highway', 'highway', 'highway', 'highway', 'highway', 'highway', 'highway', 'highway', 'highway', 'highway', 'highway', 'highway', 'highway', 'highway', 'highway', 'highway', 'highway', 'highway', 'highway', 'highway', 'highway', 'highway', 'highway', 'highway', 'highway', 'highway', 'highway', 'highway', 'highway', 'highway', 'highway', 'highway', 'highway', 'highway', 'highway', 'highway', 'highway', 'highway', 'highway', 'highway', 'highway', 'highway', 'highway', 'highway', 'highway', 'highway', 'highway', 'highway', 'highway', 'highway', 'highway', 'highway', 'highway', 'highway', 'highway', 'highway', 'highway', 'highway', 'highway', 'highway', 'highway', 'highway', 'highway', 'highway', 'highway', 'highway', 'highway', 'highway', 'highway', 'highway', 'highway', 'highway', 'highway', 'highway', 'highway', 'highway', 'highway', 'highway', 'highway', 'highway', 'highway', 'highway', 'highway', 'highway', 'highway', 'highway', 'highway', 'highway', 'highway', 'highway', 'highway', 'highway', 'highway', 'highway', 'highway', 'highway', 'highway', 'highway', 'highway', 'highway', 'highway', 'highway', 'highway', 'highway', 'highway', 'highway', 'highway', 'highway', 'highway', 'highway', 'highway', 'highway', 'highway', 'highway', 'highway', 'highway', 'highway', 'highway', 'highway', 'highway', 'highway', 'highway', 'highway', 'highway', 'highway', 'highway', 'highway', 'highway', 'highway', 'highway', 'highway', 'highway', 'highway', 'highway', 'highway', 'highway', 'highway', 'highway', 'highway', 'highway', 'highway', 'highway', 'highway', 'highway', 'highway', 'highway', 'highway', 'highway', 'forest', 'forest', 'forest', 'forest', 'forest', 'forest', 'forest', 'forest', 'forest', 'forest', 'forest', 'forest', 'forest', 'forest', 'forest', 'forest', 'forest', 'forest', 'forest', 'forest', 'forest', 'forest', 'forest', 'forest', 'forest', 'forest', 'forest', 'forest', 'forest', 'forest', 'forest', 'forest', 'forest', 'forest', 'forest', 'forest', 'forest', 'forest', 'forest', 'forest', 'forest', 'forest', 'forest', 'forest', 'forest', 'forest', 'forest', 'forest', 'forest', 'forest', 'forest', 'forest', 'forest', 'forest', 'forest', 'forest', 'forest', 'forest', 'forest', 'forest', 'forest', 'forest', 'forest', 'forest', 'forest', 'forest', 'forest', 'forest', 'forest', 'forest', 'forest', 'forest', 'forest', 'forest', 'forest', 'forest', 'forest', 'forest', 'forest', 'forest', 'forest', 'forest', 'forest', 'forest', 'forest', 'forest', 'forest', 'forest', 'forest', 'forest', 'forest', 'forest', 'forest', 'forest', 'forest', 'forest', 'forest', 'forest', 'forest', 'forest', 'forest', 'forest', 'forest', 'forest', 'forest', 'forest', 'forest', 'forest', 'forest', 'forest', 'forest', 'forest', 'forest', 'forest', 'forest', 'forest', 'forest', 'forest', 'forest', 'forest', 'forest', 'forest', 'forest', 'forest', 'forest', 'forest', 'forest', 'forest', 'forest', 'forest', 'forest', 'forest', 'forest', 'forest', 'forest', 'forest', 'forest', 'forest', 'forest', 'forest', 'forest', 'forest', 'forest', 'forest', 'forest', 'forest', 'forest', 'forest', 'forest', 'forest', 'forest', 'forest', 'forest', 'forest', 'forest', 'forest', 'forest', 'forest', 'forest', 'forest', 'forest', 'forest', 'forest', 'forest', 'forest', 'forest', 'forest', 'forest', 'forest', 'forest', 'forest', 'forest', 'forest', 'forest', 'forest', 'forest', 'forest', 'forest', 'forest', 'forest', 'forest', 'forest', 'forest', 'forest', 'forest', 'forest', 'forest', 'forest', 'forest', 'forest', 'forest', 'forest', 'forest', 'forest', 'forest', 'forest', 'forest', 'forest', 'forest', 'forest', 'forest', 'forest', 'forest', 'forest', 'forest', 'forest', 'forest', 'forest', 'forest', 'forest', 'forest', 'forest', 'forest', 'forest', 'forest', 'forest', 'forest', 'forest', 'forest', 'forest', 'forest', 'forest', 'forest', 'forest', 'forest', 'forest', 'forest', 'forest', 'forest', 'forest', 'forest', 'forest', 'forest', 'forest', 'forest', 'forest', 'forest', 'forest', 'forest', 'forest', 'forest', 'forest', 'forest', 'forest', 'forest', 'forest', 'forest', 'forest', 'forest', 'forest', 'forest', 'forest', 'forest', 'forest', 'forest', 'forest', 'forest', 'forest', 'forest', 'forest', 'forest', 'forest', 'forest', 'forest', 'forest', 'forest', 'forest', 'forest', 'forest', 'forest', 'forest', 'forest', 'forest', 'forest', 'forest', 'forest', 'forest', 'forest', 'forest', 'forest', 'forest', 'forest', 'forest', 'forest', 'forest', 'forest', 'forest', 'forest', 'forest', 'forest', 'forest', 'forest', 'forest', 'forest', 'forest', 'forest', 'forest', 'forest', 'forest', 'forest', 'forest', 'forest', 'forest', 'forest', 'forest', 'forest', 'forest', 'forest', 'forest', 'forest', 'forest', 'forest', 'forest', 'forest', 'forest', 'forest', 'forest', 'forest', 'forest', 'forest', 'forest', 'forest', 'forest', 'forest', 'forest', 'forest', 'forest', 'forest']\n"
          ],
          "name": "stdout"
        }
      ]
    },
    {
      "cell_type": "code",
      "metadata": {
        "id": "l-W_gkkyh4b4"
      },
      "source": [
        "lb=LabelBinarizer()\n",
        "labels=lb.fit_transform(labels)"
      ],
      "execution_count": 7,
      "outputs": []
    },
    {
      "cell_type": "code",
      "metadata": {
        "id": "I1BIYSgKjdkD",
        "colab": {
          "base_uri": "https://localhost:8080/"
        },
        "outputId": "9ac1b882-c7f1-41e1-f26c-f8a7e2e1c41f"
      },
      "source": [
        "print(labels)"
      ],
      "execution_count": 8,
      "outputs": [
        {
          "output_type": "stream",
          "text": [
            "[[1 0 0]\n",
            " [1 0 0]\n",
            " [1 0 0]\n",
            " ...\n",
            " [0 1 0]\n",
            " [0 1 0]\n",
            " [0 1 0]]\n"
          ],
          "name": "stdout"
        }
      ]
    },
    {
      "cell_type": "code",
      "metadata": {
        "id": "4zZP9QpZjqIz",
        "colab": {
          "base_uri": "https://localhost:8080/"
        },
        "outputId": "e1a4604f-2a77-4714-f809-68d9c4ba283e"
      },
      "source": [
        "print(np.array(data).shape)"
      ],
      "execution_count": 9,
      "outputs": [
        {
          "output_type": "stream",
          "text": [
            "(948, 128, 128, 3)\n"
          ],
          "name": "stdout"
        }
      ]
    },
    {
      "cell_type": "code",
      "metadata": {
        "id": "nW3kNy5Oj4Ce",
        "colab": {
          "base_uri": "https://localhost:8080/"
        },
        "outputId": "5f88e3e5-0238-400f-8786-2e3b161676d7"
      },
      "source": [
        "(trainX, testX, trainY, testY)=train_test_split(np.array(data), np.array(labels), test_size=0.25)\n",
        "print(trainX.shape)\n",
        "print(testX.shape)"
      ],
      "execution_count": 10,
      "outputs": [
        {
          "output_type": "stream",
          "text": [
            "(711, 128, 128, 3)\n",
            "(237, 128, 128, 3)\n"
          ],
          "name": "stdout"
        }
      ]
    },
    {
      "cell_type": "code",
      "metadata": {
        "id": "OoDliYHtkdhB"
      },
      "source": [
        "from keras.models import Sequential\n",
        "from keras.layers.core import Flatten\n",
        "from keras.layers.core import Dense, Dropout\n",
        "model=Sequential(\n",
        "    [\n",
        "     Flatten(input_shape=(128*128*3,)),\n",
        "     Dense(1024, activation=\"relu\"),\n",
        "     Dropout(0.2),\n",
        "     Dense(512, activation=\"relu\"),\n",
        "     Dropout(0.2),\n",
        "     Dense(256, activation=\"relu\"),\n",
        "     Dropout(0.2),\n",
        "     Dense(128, activation=\"relu\"),\n",
        "     Dropout(0.2),\n",
        "     Dense(64, activation=\"relu\"),\n",
        "     Dropout(0.2),\n",
        "     #Dense(32, activation=\"relu\"),\n",
        "     #Dropout(0.2),\n",
        "     #Dense(16, activation=\"relu\"),\n",
        "     #Dropout(0.2),\n",
        "     #Dense(8, activation=\"relu\"),\n",
        "     #Dropout(0.2),\n",
        "     #Dense(4, activation=\"relu\"),\n",
        "     Dense(3, activation=\"softmax\"),\n",
        "    ]\n",
        ")"
      ],
      "execution_count": 11,
      "outputs": []
    },
    {
      "cell_type": "code",
      "metadata": {
        "id": "b_WeSv7nl1Ou",
        "colab": {
          "base_uri": "https://localhost:8080/"
        },
        "outputId": "bcd3815b-cf15-4c6c-c383-044f1b94c777"
      },
      "source": [
        "model.summary()"
      ],
      "execution_count": 12,
      "outputs": [
        {
          "output_type": "stream",
          "text": [
            "Model: \"sequential\"\n",
            "_________________________________________________________________\n",
            "Layer (type)                 Output Shape              Param #   \n",
            "=================================================================\n",
            "flatten (Flatten)            (None, 49152)             0         \n",
            "_________________________________________________________________\n",
            "dense (Dense)                (None, 1024)              50332672  \n",
            "_________________________________________________________________\n",
            "dropout (Dropout)            (None, 1024)              0         \n",
            "_________________________________________________________________\n",
            "dense_1 (Dense)              (None, 512)               524800    \n",
            "_________________________________________________________________\n",
            "dropout_1 (Dropout)          (None, 512)               0         \n",
            "_________________________________________________________________\n",
            "dense_2 (Dense)              (None, 256)               131328    \n",
            "_________________________________________________________________\n",
            "dropout_2 (Dropout)          (None, 256)               0         \n",
            "_________________________________________________________________\n",
            "dense_3 (Dense)              (None, 128)               32896     \n",
            "_________________________________________________________________\n",
            "dropout_3 (Dropout)          (None, 128)               0         \n",
            "_________________________________________________________________\n",
            "dense_4 (Dense)              (None, 64)                8256      \n",
            "_________________________________________________________________\n",
            "dropout_4 (Dropout)          (None, 64)                0         \n",
            "_________________________________________________________________\n",
            "dense_5 (Dense)              (None, 3)                 195       \n",
            "=================================================================\n",
            "Total params: 51,030,147\n",
            "Trainable params: 51,030,147\n",
            "Non-trainable params: 0\n",
            "_________________________________________________________________\n"
          ],
          "name": "stdout"
        }
      ]
    },
    {
      "cell_type": "code",
      "metadata": {
        "id": "r-WsWlFSmBLv",
        "colab": {
          "base_uri": "https://localhost:8080/"
        },
        "outputId": "c62ec87f-e7f9-488a-e35d-b9e76e27f1cf"
      },
      "source": [
        "print(\"(INFO) training network.....\")\n",
        "opt = Adam(lr=1e-3, decay=1e-3 )\n",
        "model.compile(loss=\"categorical_crossentropy\", optimizer=opt,\n",
        "\tmetrics=[\"accuracy\"])\n",
        "H = model.fit(trainX, trainY, validation_data=(testX, testY), epochs=100, batch_size=195)"
      ],
      "execution_count": 13,
      "outputs": [
        {
          "output_type": "stream",
          "text": [
            "(INFO) training network.....\n",
            "Epoch 1/100\n",
            "WARNING:tensorflow:Model was constructed with shape (None, 49152) for input KerasTensor(type_spec=TensorSpec(shape=(None, 49152), dtype=tf.float32, name='flatten_input'), name='flatten_input', description=\"created by layer 'flatten_input'\"), but it was called on an input with incompatible shape (None, 128, 128, 3).\n",
            "WARNING:tensorflow:Model was constructed with shape (None, 49152) for input KerasTensor(type_spec=TensorSpec(shape=(None, 49152), dtype=tf.float32, name='flatten_input'), name='flatten_input', description=\"created by layer 'flatten_input'\"), but it was called on an input with incompatible shape (None, 128, 128, 3).\n",
            "4/4 [==============================] - ETA: 0s - loss: 6.8316 - accuracy: 0.3300WARNING:tensorflow:Model was constructed with shape (None, 49152) for input KerasTensor(type_spec=TensorSpec(shape=(None, 49152), dtype=tf.float32, name='flatten_input'), name='flatten_input', description=\"created by layer 'flatten_input'\"), but it was called on an input with incompatible shape (None, 128, 128, 3).\n",
            "4/4 [==============================] - 4s 291ms/step - loss: 7.6242 - accuracy: 0.3295 - val_loss: 6.0190 - val_accuracy: 0.3376\n",
            "Epoch 2/100\n",
            "4/4 [==============================] - 0s 91ms/step - loss: 7.9979 - accuracy: 0.3457 - val_loss: 1.3876 - val_accuracy: 0.4008\n",
            "Epoch 3/100\n",
            "4/4 [==============================] - 0s 85ms/step - loss: 4.7066 - accuracy: 0.3496 - val_loss: 1.0104 - val_accuracy: 0.4346\n",
            "Epoch 4/100\n",
            "4/4 [==============================] - 0s 80ms/step - loss: 3.2813 - accuracy: 0.3356 - val_loss: 1.0929 - val_accuracy: 0.2658\n",
            "Epoch 5/100\n",
            "4/4 [==============================] - 0s 84ms/step - loss: 2.3949 - accuracy: 0.3455 - val_loss: 1.1626 - val_accuracy: 0.4008\n",
            "Epoch 6/100\n",
            "4/4 [==============================] - 0s 80ms/step - loss: 1.8053 - accuracy: 0.3751 - val_loss: 1.0818 - val_accuracy: 0.4135\n",
            "Epoch 7/100\n",
            "4/4 [==============================] - 0s 78ms/step - loss: 1.5515 - accuracy: 0.3635 - val_loss: 1.0203 - val_accuracy: 0.4515\n",
            "Epoch 8/100\n",
            "4/4 [==============================] - 0s 80ms/step - loss: 1.3418 - accuracy: 0.3854 - val_loss: 1.0218 - val_accuracy: 0.4135\n",
            "Epoch 9/100\n",
            "4/4 [==============================] - 0s 74ms/step - loss: 1.3021 - accuracy: 0.3859 - val_loss: 0.9992 - val_accuracy: 0.4979\n",
            "Epoch 10/100\n",
            "4/4 [==============================] - 0s 84ms/step - loss: 1.1441 - accuracy: 0.4299 - val_loss: 0.9859 - val_accuracy: 0.5232\n",
            "Epoch 11/100\n",
            "4/4 [==============================] - 0s 74ms/step - loss: 1.1349 - accuracy: 0.4349 - val_loss: 1.0180 - val_accuracy: 0.5232\n",
            "Epoch 12/100\n",
            "4/4 [==============================] - 0s 82ms/step - loss: 1.1080 - accuracy: 0.3959 - val_loss: 1.0021 - val_accuracy: 0.5612\n",
            "Epoch 13/100\n",
            "4/4 [==============================] - 0s 87ms/step - loss: 1.0694 - accuracy: 0.4364 - val_loss: 0.9570 - val_accuracy: 0.5485\n",
            "Epoch 14/100\n",
            "4/4 [==============================] - 0s 79ms/step - loss: 1.0376 - accuracy: 0.4795 - val_loss: 0.9328 - val_accuracy: 0.5021\n",
            "Epoch 15/100\n",
            "4/4 [==============================] - 0s 80ms/step - loss: 1.0867 - accuracy: 0.4557 - val_loss: 0.9440 - val_accuracy: 0.4852\n",
            "Epoch 16/100\n",
            "4/4 [==============================] - 0s 78ms/step - loss: 1.0016 - accuracy: 0.4827 - val_loss: 0.9476 - val_accuracy: 0.5274\n",
            "Epoch 17/100\n",
            "4/4 [==============================] - 0s 83ms/step - loss: 1.0254 - accuracy: 0.4776 - val_loss: 0.9269 - val_accuracy: 0.5232\n",
            "Epoch 18/100\n",
            "4/4 [==============================] - 0s 73ms/step - loss: 0.9735 - accuracy: 0.5018 - val_loss: 0.9254 - val_accuracy: 0.5865\n",
            "Epoch 19/100\n",
            "4/4 [==============================] - 0s 74ms/step - loss: 0.9653 - accuracy: 0.5107 - val_loss: 0.9265 - val_accuracy: 0.5148\n",
            "Epoch 20/100\n",
            "4/4 [==============================] - 0s 75ms/step - loss: 0.9719 - accuracy: 0.4905 - val_loss: 0.9071 - val_accuracy: 0.5232\n",
            "Epoch 21/100\n",
            "4/4 [==============================] - 0s 79ms/step - loss: 0.9182 - accuracy: 0.5670 - val_loss: 0.8802 - val_accuracy: 0.5232\n",
            "Epoch 22/100\n",
            "4/4 [==============================] - 0s 78ms/step - loss: 0.9296 - accuracy: 0.5180 - val_loss: 0.8610 - val_accuracy: 0.5527\n",
            "Epoch 23/100\n",
            "4/4 [==============================] - 0s 76ms/step - loss: 0.9011 - accuracy: 0.5595 - val_loss: 0.8596 - val_accuracy: 0.5738\n",
            "Epoch 24/100\n",
            "4/4 [==============================] - 0s 81ms/step - loss: 0.8783 - accuracy: 0.5599 - val_loss: 0.8366 - val_accuracy: 0.6160\n",
            "Epoch 25/100\n",
            "4/4 [==============================] - 0s 78ms/step - loss: 0.8304 - accuracy: 0.5927 - val_loss: 0.8274 - val_accuracy: 0.5907\n",
            "Epoch 26/100\n",
            "4/4 [==============================] - 0s 83ms/step - loss: 0.8281 - accuracy: 0.5700 - val_loss: 0.8065 - val_accuracy: 0.6245\n",
            "Epoch 27/100\n",
            "4/4 [==============================] - 0s 82ms/step - loss: 0.8201 - accuracy: 0.6237 - val_loss: 0.7844 - val_accuracy: 0.6371\n",
            "Epoch 28/100\n",
            "4/4 [==============================] - 0s 78ms/step - loss: 0.8052 - accuracy: 0.6071 - val_loss: 0.7701 - val_accuracy: 0.6709\n",
            "Epoch 29/100\n",
            "4/4 [==============================] - 0s 76ms/step - loss: 0.7630 - accuracy: 0.6499 - val_loss: 0.7484 - val_accuracy: 0.7173\n",
            "Epoch 30/100\n",
            "4/4 [==============================] - 0s 77ms/step - loss: 0.7510 - accuracy: 0.6500 - val_loss: 0.7477 - val_accuracy: 0.6414\n",
            "Epoch 31/100\n",
            "4/4 [==============================] - 0s 70ms/step - loss: 0.7752 - accuracy: 0.6342 - val_loss: 0.7142 - val_accuracy: 0.7215\n",
            "Epoch 32/100\n",
            "4/4 [==============================] - 0s 75ms/step - loss: 0.7351 - accuracy: 0.6868 - val_loss: 0.7192 - val_accuracy: 0.6751\n",
            "Epoch 33/100\n",
            "4/4 [==============================] - 0s 76ms/step - loss: 0.7338 - accuracy: 0.6954 - val_loss: 0.7101 - val_accuracy: 0.7046\n",
            "Epoch 34/100\n",
            "4/4 [==============================] - 0s 76ms/step - loss: 0.6993 - accuracy: 0.6610 - val_loss: 0.7099 - val_accuracy: 0.7257\n",
            "Epoch 35/100\n",
            "4/4 [==============================] - 0s 79ms/step - loss: 0.6867 - accuracy: 0.6896 - val_loss: 0.6991 - val_accuracy: 0.6414\n",
            "Epoch 36/100\n",
            "4/4 [==============================] - 0s 78ms/step - loss: 0.6485 - accuracy: 0.7041 - val_loss: 0.6689 - val_accuracy: 0.7300\n",
            "Epoch 37/100\n",
            "4/4 [==============================] - 0s 82ms/step - loss: 0.6828 - accuracy: 0.7112 - val_loss: 0.6490 - val_accuracy: 0.7089\n",
            "Epoch 38/100\n",
            "4/4 [==============================] - 0s 75ms/step - loss: 0.6574 - accuracy: 0.7180 - val_loss: 0.6771 - val_accuracy: 0.7215\n",
            "Epoch 39/100\n",
            "4/4 [==============================] - 0s 80ms/step - loss: 0.6282 - accuracy: 0.7005 - val_loss: 0.6652 - val_accuracy: 0.7511\n",
            "Epoch 40/100\n",
            "4/4 [==============================] - 0s 73ms/step - loss: 0.6018 - accuracy: 0.7294 - val_loss: 0.6473 - val_accuracy: 0.7468\n",
            "Epoch 41/100\n",
            "4/4 [==============================] - 0s 79ms/step - loss: 0.5916 - accuracy: 0.7575 - val_loss: 0.6351 - val_accuracy: 0.7257\n",
            "Epoch 42/100\n",
            "4/4 [==============================] - 0s 76ms/step - loss: 0.5737 - accuracy: 0.7707 - val_loss: 0.6223 - val_accuracy: 0.7595\n",
            "Epoch 43/100\n",
            "4/4 [==============================] - 0s 78ms/step - loss: 0.5762 - accuracy: 0.7754 - val_loss: 0.6677 - val_accuracy: 0.7173\n",
            "Epoch 44/100\n",
            "4/4 [==============================] - 0s 78ms/step - loss: 0.5555 - accuracy: 0.7882 - val_loss: 0.6152 - val_accuracy: 0.7511\n",
            "Epoch 45/100\n",
            "4/4 [==============================] - 0s 74ms/step - loss: 0.5388 - accuracy: 0.7823 - val_loss: 0.5965 - val_accuracy: 0.7511\n",
            "Epoch 46/100\n",
            "4/4 [==============================] - 0s 78ms/step - loss: 0.5722 - accuracy: 0.7627 - val_loss: 0.7150 - val_accuracy: 0.7004\n",
            "Epoch 47/100\n",
            "4/4 [==============================] - 0s 75ms/step - loss: 0.5891 - accuracy: 0.7337 - val_loss: 0.6543 - val_accuracy: 0.7384\n",
            "Epoch 48/100\n",
            "4/4 [==============================] - 0s 81ms/step - loss: 0.5669 - accuracy: 0.7800 - val_loss: 0.6484 - val_accuracy: 0.7257\n",
            "Epoch 49/100\n",
            "4/4 [==============================] - 0s 80ms/step - loss: 0.5502 - accuracy: 0.7926 - val_loss: 0.5984 - val_accuracy: 0.7679\n",
            "Epoch 50/100\n",
            "4/4 [==============================] - 0s 75ms/step - loss: 0.5260 - accuracy: 0.8069 - val_loss: 0.6111 - val_accuracy: 0.7595\n",
            "Epoch 51/100\n",
            "4/4 [==============================] - 0s 80ms/step - loss: 0.5062 - accuracy: 0.8076 - val_loss: 0.6318 - val_accuracy: 0.7342\n",
            "Epoch 52/100\n",
            "4/4 [==============================] - 0s 79ms/step - loss: 0.4701 - accuracy: 0.8175 - val_loss: 0.6492 - val_accuracy: 0.7595\n",
            "Epoch 53/100\n",
            "4/4 [==============================] - 0s 86ms/step - loss: 0.4794 - accuracy: 0.8194 - val_loss: 0.6554 - val_accuracy: 0.7257\n",
            "Epoch 54/100\n",
            "4/4 [==============================] - 0s 80ms/step - loss: 0.4944 - accuracy: 0.8296 - val_loss: 0.6418 - val_accuracy: 0.7848\n",
            "Epoch 55/100\n",
            "4/4 [==============================] - 0s 76ms/step - loss: 0.4736 - accuracy: 0.8235 - val_loss: 0.6506 - val_accuracy: 0.7890\n",
            "Epoch 56/100\n",
            "4/4 [==============================] - 0s 80ms/step - loss: 0.3974 - accuracy: 0.8554 - val_loss: 0.6596 - val_accuracy: 0.7932\n",
            "Epoch 57/100\n",
            "4/4 [==============================] - 0s 79ms/step - loss: 0.4355 - accuracy: 0.8407 - val_loss: 0.6261 - val_accuracy: 0.7637\n",
            "Epoch 58/100\n",
            "4/4 [==============================] - 0s 78ms/step - loss: 0.4250 - accuracy: 0.8500 - val_loss: 0.6354 - val_accuracy: 0.7595\n",
            "Epoch 59/100\n",
            "4/4 [==============================] - 0s 75ms/step - loss: 0.4024 - accuracy: 0.8661 - val_loss: 0.6124 - val_accuracy: 0.7722\n",
            "Epoch 60/100\n",
            "4/4 [==============================] - 0s 74ms/step - loss: 0.3983 - accuracy: 0.8711 - val_loss: 0.6866 - val_accuracy: 0.7468\n",
            "Epoch 61/100\n",
            "4/4 [==============================] - 0s 79ms/step - loss: 0.4381 - accuracy: 0.8391 - val_loss: 1.0569 - val_accuracy: 0.7173\n",
            "Epoch 62/100\n",
            "4/4 [==============================] - 0s 82ms/step - loss: 0.7016 - accuracy: 0.7438 - val_loss: 0.5956 - val_accuracy: 0.7553\n",
            "Epoch 63/100\n",
            "4/4 [==============================] - 0s 79ms/step - loss: 0.5078 - accuracy: 0.8229 - val_loss: 0.6204 - val_accuracy: 0.7511\n",
            "Epoch 64/100\n",
            "4/4 [==============================] - 0s 75ms/step - loss: 0.4895 - accuracy: 0.8122 - val_loss: 0.6612 - val_accuracy: 0.7426\n",
            "Epoch 65/100\n",
            "4/4 [==============================] - 0s 80ms/step - loss: 0.4505 - accuracy: 0.8334 - val_loss: 0.6151 - val_accuracy: 0.7679\n",
            "Epoch 66/100\n",
            "4/4 [==============================] - 0s 81ms/step - loss: 0.4576 - accuracy: 0.8427 - val_loss: 0.6598 - val_accuracy: 0.8143\n",
            "Epoch 67/100\n",
            "4/4 [==============================] - 0s 89ms/step - loss: 0.4168 - accuracy: 0.8577 - val_loss: 0.6904 - val_accuracy: 0.7722\n",
            "Epoch 68/100\n",
            "4/4 [==============================] - 0s 76ms/step - loss: 0.4138 - accuracy: 0.8500 - val_loss: 0.6265 - val_accuracy: 0.7384\n",
            "Epoch 69/100\n",
            "4/4 [==============================] - 0s 77ms/step - loss: 0.4280 - accuracy: 0.8359 - val_loss: 0.6511 - val_accuracy: 0.7848\n",
            "Epoch 70/100\n",
            "4/4 [==============================] - 0s 78ms/step - loss: 0.3889 - accuracy: 0.8588 - val_loss: 0.6815 - val_accuracy: 0.7890\n",
            "Epoch 71/100\n",
            "4/4 [==============================] - 0s 79ms/step - loss: 0.3709 - accuracy: 0.8634 - val_loss: 0.6493 - val_accuracy: 0.7848\n",
            "Epoch 72/100\n",
            "4/4 [==============================] - 0s 80ms/step - loss: 0.4034 - accuracy: 0.8491 - val_loss: 0.6182 - val_accuracy: 0.8017\n",
            "Epoch 73/100\n",
            "4/4 [==============================] - 0s 81ms/step - loss: 0.3132 - accuracy: 0.8838 - val_loss: 0.5886 - val_accuracy: 0.7932\n",
            "Epoch 74/100\n",
            "4/4 [==============================] - 0s 80ms/step - loss: 0.3295 - accuracy: 0.8827 - val_loss: 0.6157 - val_accuracy: 0.7595\n",
            "Epoch 75/100\n",
            "4/4 [==============================] - 0s 83ms/step - loss: 0.3695 - accuracy: 0.8657 - val_loss: 0.6050 - val_accuracy: 0.7848\n",
            "Epoch 76/100\n",
            "4/4 [==============================] - 0s 85ms/step - loss: 0.3366 - accuracy: 0.8802 - val_loss: 0.7767 - val_accuracy: 0.7384\n",
            "Epoch 77/100\n",
            "4/4 [==============================] - 0s 80ms/step - loss: 0.4385 - accuracy: 0.8499 - val_loss: 0.6740 - val_accuracy: 0.8017\n",
            "Epoch 78/100\n",
            "4/4 [==============================] - 0s 75ms/step - loss: 0.3533 - accuracy: 0.8708 - val_loss: 0.6586 - val_accuracy: 0.7848\n",
            "Epoch 79/100\n",
            "4/4 [==============================] - 0s 80ms/step - loss: 0.3173 - accuracy: 0.8863 - val_loss: 0.6469 - val_accuracy: 0.8059\n",
            "Epoch 80/100\n",
            "4/4 [==============================] - 0s 82ms/step - loss: 0.2990 - accuracy: 0.8991 - val_loss: 0.6526 - val_accuracy: 0.8143\n",
            "Epoch 81/100\n",
            "4/4 [==============================] - 0s 81ms/step - loss: 0.3144 - accuracy: 0.8887 - val_loss: 0.6428 - val_accuracy: 0.8143\n",
            "Epoch 82/100\n",
            "4/4 [==============================] - 0s 77ms/step - loss: 0.2805 - accuracy: 0.8986 - val_loss: 0.6631 - val_accuracy: 0.8143\n",
            "Epoch 83/100\n",
            "4/4 [==============================] - 0s 75ms/step - loss: 0.2959 - accuracy: 0.8788 - val_loss: 0.6493 - val_accuracy: 0.8143\n",
            "Epoch 84/100\n",
            "4/4 [==============================] - 0s 84ms/step - loss: 0.2561 - accuracy: 0.9118 - val_loss: 0.6589 - val_accuracy: 0.8186\n",
            "Epoch 85/100\n",
            "4/4 [==============================] - 0s 77ms/step - loss: 0.3146 - accuracy: 0.8866 - val_loss: 0.6763 - val_accuracy: 0.7890\n",
            "Epoch 86/100\n",
            "4/4 [==============================] - 0s 79ms/step - loss: 0.2956 - accuracy: 0.8864 - val_loss: 0.7756 - val_accuracy: 0.7848\n",
            "Epoch 87/100\n",
            "4/4 [==============================] - 0s 75ms/step - loss: 0.3468 - accuracy: 0.8774 - val_loss: 0.6972 - val_accuracy: 0.8017\n",
            "Epoch 88/100\n",
            "4/4 [==============================] - 0s 81ms/step - loss: 0.3081 - accuracy: 0.8903 - val_loss: 0.6301 - val_accuracy: 0.7932\n",
            "Epoch 89/100\n",
            "4/4 [==============================] - 0s 78ms/step - loss: 0.3198 - accuracy: 0.8763 - val_loss: 0.6557 - val_accuracy: 0.8017\n",
            "Epoch 90/100\n",
            "4/4 [==============================] - 0s 77ms/step - loss: 0.2773 - accuracy: 0.8946 - val_loss: 0.6108 - val_accuracy: 0.7932\n",
            "Epoch 91/100\n",
            "4/4 [==============================] - 0s 71ms/step - loss: 0.3206 - accuracy: 0.8821 - val_loss: 0.5849 - val_accuracy: 0.7848\n",
            "Epoch 92/100\n",
            "4/4 [==============================] - 0s 78ms/step - loss: 0.3119 - accuracy: 0.8919 - val_loss: 0.7949 - val_accuracy: 0.7848\n",
            "Epoch 93/100\n",
            "4/4 [==============================] - 0s 77ms/step - loss: 0.2912 - accuracy: 0.8911 - val_loss: 0.8088 - val_accuracy: 0.7806\n",
            "Epoch 94/100\n",
            "4/4 [==============================] - 0s 80ms/step - loss: 0.3348 - accuracy: 0.8699 - val_loss: 0.7536 - val_accuracy: 0.7553\n",
            "Epoch 95/100\n",
            "4/4 [==============================] - 0s 75ms/step - loss: 0.2971 - accuracy: 0.8863 - val_loss: 0.7607 - val_accuracy: 0.8017\n",
            "Epoch 96/100\n",
            "4/4 [==============================] - 0s 77ms/step - loss: 0.2816 - accuracy: 0.8851 - val_loss: 0.8716 - val_accuracy: 0.7932\n",
            "Epoch 97/100\n",
            "4/4 [==============================] - 0s 80ms/step - loss: 0.3059 - accuracy: 0.8875 - val_loss: 0.8472 - val_accuracy: 0.7722\n",
            "Epoch 98/100\n",
            "4/4 [==============================] - 0s 77ms/step - loss: 0.3282 - accuracy: 0.8777 - val_loss: 0.6813 - val_accuracy: 0.8017\n",
            "Epoch 99/100\n",
            "4/4 [==============================] - 0s 79ms/step - loss: 0.2951 - accuracy: 0.8968 - val_loss: 0.7486 - val_accuracy: 0.8186\n",
            "Epoch 100/100\n",
            "4/4 [==============================] - 0s 76ms/step - loss: 0.2863 - accuracy: 0.8879 - val_loss: 0.7260 - val_accuracy: 0.8059\n"
          ],
          "name": "stdout"
        }
      ]
    },
    {
      "cell_type": "code",
      "metadata": {
        "id": "AAcheQE6nCeZ",
        "colab": {
          "base_uri": "https://localhost:8080/",
          "height": 590
        },
        "outputId": "8805579c-69fa-44fb-c96c-f79fc46e05c0"
      },
      "source": [
        "import matplotlib.pyplot as plt\n",
        "\n",
        "print(H.history.keys())\n",
        "# summarize history for accuracy\n",
        "plt.plot(H.history['accuracy'])\n",
        "plt.plot(H.history['val_accuracy'])\n",
        "plt.title('model accuracy')\n",
        "plt.ylabel('accuracy')\n",
        "plt.xlabel('epoch')\n",
        "plt.legend(['train', 'test'], loc='upper left')\n",
        "plt.show()\n",
        "# summarize history for loss\n",
        "plt.plot(H.history['loss'])\n",
        "plt.plot(H.history['val_loss'])\n",
        "plt.title('model loss')\n",
        "plt.ylabel('loss')\n",
        "plt.xlabel('epoch')\n",
        "plt.legend(['train', 'test'], loc='upper left')\n",
        "plt.show()"
      ],
      "execution_count": 14,
      "outputs": [
        {
          "output_type": "stream",
          "text": [
            "dict_keys(['loss', 'accuracy', 'val_loss', 'val_accuracy'])\n"
          ],
          "name": "stdout"
        },
        {
          "output_type": "display_data",
          "data": {
            "image/png": "[encoded data removed]",
            "text/plain": [
              "<Figure size 432x288 with 1 Axes>"
            ]
          },
          "metadata": {
            "tags": [],
            "needs_background": "light"
          }
        },
        {
          "output_type": "display_data",
          "data": {
            "image/png": "[encoded data removed]",
            "text/plain": [
              "<Figure size 432x288 with 1 Axes>"
            ]
          },
          "metadata": {
            "tags": [],
            "needs_background": "light"
          }
        }
      ]
    }
  ]
}
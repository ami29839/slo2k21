{
  "nbformat": 4,
  "nbformat_minor": 0,
  "metadata": {
    "colab": {
      "name": "UTS_AryaMaulanaI_2101202079.ipynb",
      "provenance": [],
      "collapsed_sections": [],
      "authorship_tag": "ABX9TyMuUphM7LRlBZxZO6hoVN0u",
      "include_colab_link": true
    },
    "kernelspec": {
      "name": "python3",
      "display_name": "Python 3"
    },
    "language_info": {
      "name": "python"
    },
    "accelerator": "GPU"
  },
  "cells": [
    {
      "cell_type": "markdown",
      "metadata": {
        "id": "view-in-github",
        "colab_type": "text"
      },
      "source": [
        "<a href=\"https://colab.research.google.com/github/ami29839/slo2k21/blob/main/UTS_AryaMaulanaI_2101202079(3).ipynb\" target=\"_parent\"><img src=\"https://colab.research.google.com/assets/colab-badge.svg\" alt=\"Open In Colab\"/></a>"
      ]
    },
    {
      "cell_type": "code",
      "metadata": {
        "colab": {
          "base_uri": "https://localhost:8080/"
        },
        "id": "h6Atl4-ff-VP",
        "outputId": "b3015bcf-8bfc-49b7-b38d-5c82b5784e26"
      },
      "source": [
        "from google.colab import drive\n",
        "drive.mount('/content/drive')"
      ],
      "execution_count": 16,
      "outputs": [
        {
          "output_type": "stream",
          "text": [
            "Drive already mounted at /content/drive; to attempt to forcibly remount, call drive.mount(\"/content/drive\", force_remount=True).\n"
          ],
          "name": "stdout"
        }
      ]
    },
    {
      "cell_type": "code",
      "metadata": {
        "colab": {
          "base_uri": "https://localhost:8080/"
        },
        "id": "5ewU6PzPgALp",
        "outputId": "bda1f940-eb8e-411a-8b55-746a1de8b740"
      },
      "source": [
        "cd /content/drive/MyDrive/Colab"
      ],
      "execution_count": 17,
      "outputs": [
        {
          "output_type": "stream",
          "text": [
            "/content/drive/MyDrive/Colab\n"
          ],
          "name": "stdout"
        }
      ]
    },
    {
      "cell_type": "code",
      "metadata": {
        "id": "HcQ_0LGugAkP"
      },
      "source": [
        "from keras.models import Sequential\n",
        "from keras.layers.core import Activation\n",
        "from keras.layers.core import Flatten\n",
        "from keras.layers.core import Dense\n",
        "from keras.optimizers import Adam\n",
        "from sklearn.preprocessing import LabelBinarizer\n",
        "from sklearn.model_selection import train_test_split\n",
        "from sklearn.metrics import classification_report\n",
        "from PIL import Image\n",
        "from PIL import ImageFilter\n",
        "from imutils import paths\n",
        "import numpy as np\n",
        "import os"
      ],
      "execution_count": 18,
      "outputs": []
    },
    {
      "cell_type": "code",
      "metadata": {
        "colab": {
          "base_uri": "https://localhost:8080/"
        },
        "id": "7DK5hvDVgDJH",
        "outputId": "cbda6fd6-a353-4f2a-aa3a-01339560006f"
      },
      "source": [
        "print(\"(INFO) loading images...\")\n",
        "imagePaths=paths.list_images(\"3scene\")\n",
        "data=[]\n",
        "labels=[]"
      ],
      "execution_count": 19,
      "outputs": [
        {
          "output_type": "stream",
          "text": [
            "(INFO) loading images...\n"
          ],
          "name": "stdout"
        }
      ]
    },
    {
      "cell_type": "code",
      "metadata": {
        "id": "pTIVcLYygEwq"
      },
      "source": [
        "for imagePath in imagePaths:\n",
        "  image=Image.open(imagePath)\n",
        "  image=image.filter(ImageFilter.SMOOTH)\n",
        "  image = image.filter(ImageFilter.SMOOTH_MORE)\n",
        "  image=np.array(image.resize((128,128))) / 255.0\n",
        "  data.append(image)\n",
        "  label=imagePath.split(os.path.sep)[-2]\n",
        "  labels.append(label)"
      ],
      "execution_count": 20,
      "outputs": []
    },
    {
      "cell_type": "code",
      "metadata": {
        "id": "UbeJzyrqhwQC",
        "colab": {
          "base_uri": "https://localhost:8080/"
        },
        "outputId": "94940337-ebe4-4ba0-9aac-8ac644ec1a75"
      },
      "source": [
        "print(labels)"
      ],
      "execution_count": 21,
      "outputs": [
        {
          "output_type": "stream",
          "text": [
            "['coast', 'coast', 'coast', 'coast', 'coast', 'coast', 'coast', 'coast', 'coast', 'coast', 'coast', 'coast', 'coast', 'coast', 'coast', 'coast', 'coast', 'coast', 'coast', 'coast', 'coast', 'coast', 'coast', 'coast', 'coast', 'coast', 'coast', 'coast', 'coast', 'coast', 'coast', 'coast', 'coast', 'coast', 'coast', 'coast', 'coast', 'coast', 'coast', 'coast', 'coast', 'coast', 'coast', 'coast', 'coast', 'coast', 'coast', 'coast', 'coast', 'coast', 'coast', 'coast', 'coast', 'coast', 'coast', 'coast', 'coast', 'coast', 'coast', 'coast', 'coast', 'coast', 'coast', 'coast', 'coast', 'coast', 'coast', 'coast', 'coast', 'coast', 'coast', 'coast', 'coast', 'coast', 'coast', 'coast', 'coast', 'coast', 'coast', 'coast', 'coast', 'coast', 'coast', 'coast', 'coast', 'coast', 'coast', 'coast', 'coast', 'coast', 'coast', 'coast', 'coast', 'coast', 'coast', 'coast', 'coast', 'coast', 'coast', 'coast', 'coast', 'coast', 'coast', 'coast', 'coast', 'coast', 'coast', 'coast', 'coast', 'coast', 'coast', 'coast', 'coast', 'coast', 'coast', 'coast', 'coast', 'coast', 'coast', 'coast', 'coast', 'coast', 'coast', 'coast', 'coast', 'coast', 'coast', 'coast', 'coast', 'coast', 'coast', 'coast', 'coast', 'coast', 'coast', 'coast', 'coast', 'coast', 'coast', 'coast', 'coast', 'coast', 'coast', 'coast', 'coast', 'coast', 'coast', 'coast', 'coast', 'coast', 'coast', 'coast', 'coast', 'coast', 'coast', 'coast', 'coast', 'coast', 'coast', 'coast', 'coast', 'coast', 'coast', 'coast', 'coast', 'coast', 'coast', 'coast', 'coast', 'coast', 'coast', 'coast', 'coast', 'coast', 'coast', 'coast', 'coast', 'coast', 'coast', 'coast', 'coast', 'coast', 'coast', 'coast', 'coast', 'coast', 'coast', 'coast', 'coast', 'coast', 'coast', 'coast', 'coast', 'coast', 'coast', 'coast', 'coast', 'coast', 'coast', 'coast', 'coast', 'coast', 'coast', 'coast', 'coast', 'coast', 'coast', 'coast', 'coast', 'coast', 'coast', 'coast', 'coast', 'coast', 'coast', 'coast', 'coast', 'coast', 'coast', 'coast', 'coast', 'coast', 'coast', 'coast', 'coast', 'coast', 'coast', 'coast', 'coast', 'coast', 'coast', 'coast', 'coast', 'coast', 'coast', 'coast', 'coast', 'coast', 'coast', 'coast', 'coast', 'coast', 'coast', 'coast', 'coast', 'coast', 'coast', 'coast', 'coast', 'coast', 'coast', 'coast', 'coast', 'coast', 'coast', 'coast', 'coast', 'coast', 'coast', 'coast', 'coast', 'coast', 'coast', 'coast', 'coast', 'coast', 'coast', 'coast', 'coast', 'coast', 'coast', 'coast', 'coast', 'coast', 'coast', 'coast', 'coast', 'coast', 'coast', 'coast', 'coast', 'coast', 'coast', 'coast', 'coast', 'coast', 'coast', 'coast', 'coast', 'coast', 'coast', 'coast', 'coast', 'coast', 'coast', 'coast', 'coast', 'coast', 'coast', 'coast', 'coast', 'coast', 'coast', 'coast', 'coast', 'coast', 'coast', 'coast', 'coast', 'coast', 'coast', 'coast', 'coast', 'coast', 'coast', 'coast', 'coast', 'coast', 'coast', 'coast', 'coast', 'coast', 'coast', 'coast', 'coast', 'coast', 'coast', 'coast', 'coast', 'coast', 'coast', 'coast', 'coast', 'coast', 'coast', 'coast', 'coast', 'coast', 'coast', 'coast', 'coast', 'coast', 'coast', 'coast', 'coast', 'coast', 'coast', 'coast', 'coast', 'coast', 'coast', 'coast', 'coast', 'coast', 'coast', 'coast', 'coast', 'coast', 'coast', 'coast', 'highway', 'highway', 'highway', 'highway', 'highway', 'highway', 'highway', 'highway', 'highway', 'highway', 'highway', 'highway', 'highway', 'highway', 'highway', 'highway', 'highway', 'highway', 'highway', 'highway', 'highway', 'highway', 'highway', 'highway', 'highway', 'highway', 'highway', 'highway', 'highway', 'highway', 'highway', 'highway', 'highway', 'highway', 'highway', 'highway', 'highway', 'highway', 'highway', 'highway', 'highway', 'highway', 'highway', 'highway', 'highway', 'highway', 'highway', 'highway', 'highway', 'highway', 'highway', 'highway', 'highway', 'highway', 'highway', 'highway', 'highway', 'highway', 'highway', 'highway', 'highway', 'highway', 'highway', 'highway', 'highway', 'highway', 'highway', 'highway', 'highway', 'highway', 'highway', 'highway', 'highway', 'highway', 'highway', 'highway', 'highway', 'highway', 'highway', 'highway', 'highway', 'highway', 'highway', 'highway', 'highway', 'highway', 'highway', 'highway', 'highway', 'highway', 'highway', 'highway', 'highway', 'highway', 'highway', 'highway', 'highway', 'highway', 'highway', 'highway', 'highway', 'highway', 'highway', 'highway', 'highway', 'highway', 'highway', 'highway', 'highway', 'highway', 'highway', 'highway', 'highway', 'highway', 'highway', 'highway', 'highway', 'highway', 'highway', 'highway', 'highway', 'highway', 'highway', 'highway', 'highway', 'highway', 'highway', 'highway', 'highway', 'highway', 'highway', 'highway', 'highway', 'highway', 'highway', 'highway', 'highway', 'highway', 'highway', 'highway', 'highway', 'highway', 'highway', 'highway', 'highway', 'highway', 'highway', 'highway', 'highway', 'highway', 'highway', 'highway', 'highway', 'highway', 'highway', 'highway', 'highway', 'highway', 'highway', 'highway', 'highway', 'highway', 'highway', 'highway', 'highway', 'highway', 'highway', 'highway', 'highway', 'highway', 'highway', 'highway', 'highway', 'highway', 'highway', 'highway', 'highway', 'highway', 'highway', 'highway', 'highway', 'highway', 'highway', 'highway', 'highway', 'highway', 'highway', 'highway', 'highway', 'highway', 'highway', 'highway', 'highway', 'highway', 'highway', 'highway', 'highway', 'highway', 'highway', 'highway', 'highway', 'highway', 'highway', 'highway', 'highway', 'highway', 'highway', 'highway', 'highway', 'highway', 'highway', 'highway', 'highway', 'highway', 'highway', 'highway', 'highway', 'highway', 'highway', 'highway', 'highway', 'highway', 'highway', 'highway', 'highway', 'highway', 'highway', 'highway', 'highway', 'highway', 'highway', 'highway', 'highway', 'highway', 'highway', 'highway', 'highway', 'highway', 'highway', 'highway', 'highway', 'highway', 'highway', 'highway', 'highway', 'highway', 'highway', 'highway', 'highway', 'highway', 'highway', 'highway', 'highway', 'highway', 'highway', 'highway', 'highway', 'highway', 'highway', 'highway', 'forest', 'forest', 'forest', 'forest', 'forest', 'forest', 'forest', 'forest', 'forest', 'forest', 'forest', 'forest', 'forest', 'forest', 'forest', 'forest', 'forest', 'forest', 'forest', 'forest', 'forest', 'forest', 'forest', 'forest', 'forest', 'forest', 'forest', 'forest', 'forest', 'forest', 'forest', 'forest', 'forest', 'forest', 'forest', 'forest', 'forest', 'forest', 'forest', 'forest', 'forest', 'forest', 'forest', 'forest', 'forest', 'forest', 'forest', 'forest', 'forest', 'forest', 'forest', 'forest', 'forest', 'forest', 'forest', 'forest', 'forest', 'forest', 'forest', 'forest', 'forest', 'forest', 'forest', 'forest', 'forest', 'forest', 'forest', 'forest', 'forest', 'forest', 'forest', 'forest', 'forest', 'forest', 'forest', 'forest', 'forest', 'forest', 'forest', 'forest', 'forest', 'forest', 'forest', 'forest', 'forest', 'forest', 'forest', 'forest', 'forest', 'forest', 'forest', 'forest', 'forest', 'forest', 'forest', 'forest', 'forest', 'forest', 'forest', 'forest', 'forest', 'forest', 'forest', 'forest', 'forest', 'forest', 'forest', 'forest', 'forest', 'forest', 'forest', 'forest', 'forest', 'forest', 'forest', 'forest', 'forest', 'forest', 'forest', 'forest', 'forest', 'forest', 'forest', 'forest', 'forest', 'forest', 'forest', 'forest', 'forest', 'forest', 'forest', 'forest', 'forest', 'forest', 'forest', 'forest', 'forest', 'forest', 'forest', 'forest', 'forest', 'forest', 'forest', 'forest', 'forest', 'forest', 'forest', 'forest', 'forest', 'forest', 'forest', 'forest', 'forest', 'forest', 'forest', 'forest', 'forest', 'forest', 'forest', 'forest', 'forest', 'forest', 'forest', 'forest', 'forest', 'forest', 'forest', 'forest', 'forest', 'forest', 'forest', 'forest', 'forest', 'forest', 'forest', 'forest', 'forest', 'forest', 'forest', 'forest', 'forest', 'forest', 'forest', 'forest', 'forest', 'forest', 'forest', 'forest', 'forest', 'forest', 'forest', 'forest', 'forest', 'forest', 'forest', 'forest', 'forest', 'forest', 'forest', 'forest', 'forest', 'forest', 'forest', 'forest', 'forest', 'forest', 'forest', 'forest', 'forest', 'forest', 'forest', 'forest', 'forest', 'forest', 'forest', 'forest', 'forest', 'forest', 'forest', 'forest', 'forest', 'forest', 'forest', 'forest', 'forest', 'forest', 'forest', 'forest', 'forest', 'forest', 'forest', 'forest', 'forest', 'forest', 'forest', 'forest', 'forest', 'forest', 'forest', 'forest', 'forest', 'forest', 'forest', 'forest', 'forest', 'forest', 'forest', 'forest', 'forest', 'forest', 'forest', 'forest', 'forest', 'forest', 'forest', 'forest', 'forest', 'forest', 'forest', 'forest', 'forest', 'forest', 'forest', 'forest', 'forest', 'forest', 'forest', 'forest', 'forest', 'forest', 'forest', 'forest', 'forest', 'forest', 'forest', 'forest', 'forest', 'forest', 'forest', 'forest', 'forest', 'forest', 'forest', 'forest', 'forest', 'forest', 'forest', 'forest', 'forest', 'forest', 'forest', 'forest', 'forest', 'forest', 'forest', 'forest', 'forest', 'forest', 'forest', 'forest', 'forest', 'forest', 'forest', 'forest', 'forest', 'forest', 'forest', 'forest', 'forest', 'forest', 'forest', 'forest', 'forest', 'forest', 'forest', 'forest', 'forest', 'forest', 'forest', 'forest', 'forest', 'forest', 'forest', 'forest', 'forest', 'forest', 'forest', 'forest']\n"
          ],
          "name": "stdout"
        }
      ]
    },
    {
      "cell_type": "code",
      "metadata": {
        "id": "l-W_gkkyh4b4"
      },
      "source": [
        "lb=LabelBinarizer()\n",
        "labels=lb.fit_transform(labels)"
      ],
      "execution_count": 22,
      "outputs": []
    },
    {
      "cell_type": "code",
      "metadata": {
        "id": "I1BIYSgKjdkD",
        "colab": {
          "base_uri": "https://localhost:8080/"
        },
        "outputId": "804f5033-94f1-4cee-8048-ff9b6546e315"
      },
      "source": [
        "print(labels)"
      ],
      "execution_count": 23,
      "outputs": [
        {
          "output_type": "stream",
          "text": [
            "[[1 0 0]\n",
            " [1 0 0]\n",
            " [1 0 0]\n",
            " ...\n",
            " [0 1 0]\n",
            " [0 1 0]\n",
            " [0 1 0]]\n"
          ],
          "name": "stdout"
        }
      ]
    },
    {
      "cell_type": "code",
      "metadata": {
        "id": "4zZP9QpZjqIz",
        "colab": {
          "base_uri": "https://localhost:8080/"
        },
        "outputId": "84a55236-c00d-4ee7-cc5f-3d4bdb87b2e8"
      },
      "source": [
        "print(np.array(data).shape)"
      ],
      "execution_count": 24,
      "outputs": [
        {
          "output_type": "stream",
          "text": [
            "(948, 128, 128, 3)\n"
          ],
          "name": "stdout"
        }
      ]
    },
    {
      "cell_type": "code",
      "metadata": {
        "id": "nW3kNy5Oj4Ce",
        "colab": {
          "base_uri": "https://localhost:8080/"
        },
        "outputId": "94b5fbb8-faa1-42cd-8608-6b7855b26735"
      },
      "source": [
        "(trainX, testX, trainY, testY)=train_test_split(np.array(data), np.array(labels), test_size=0.25)\n",
        "print(trainX.shape)\n",
        "print(testX.shape)"
      ],
      "execution_count": 25,
      "outputs": [
        {
          "output_type": "stream",
          "text": [
            "(711, 128, 128, 3)\n",
            "(237, 128, 128, 3)\n"
          ],
          "name": "stdout"
        }
      ]
    },
    {
      "cell_type": "code",
      "metadata": {
        "id": "OoDliYHtkdhB"
      },
      "source": [
        "from keras.models import Sequential\n",
        "from keras.layers.core import Flatten\n",
        "from keras.layers.core import Dense, Dropout\n",
        "model=Sequential(\n",
        "    [\n",
        "     Flatten(input_shape=(128*128*3,)),\n",
        "     Dense(2048, activation=\"relu\"),\n",
        "     Dropout(0.5),\n",
        "     Dense(1024, activation=\"relu\"),\n",
        "     Dropout(0.2),\n",
        "     Dense(512, activation=\"relu\"),\n",
        "     #Dropout(0.2),\n",
        "     Dense(256, activation=\"relu\"),\n",
        "     #Dropout(0.2),\n",
        "     Dense(128, activation=\"relu\"),\n",
        "     #Dropout(0.2),\n",
        "     Dense(64, activation=\"relu\"),\n",
        "     #Dropout(0.2),\n",
        "     Dense(32, activation=\"relu\"),\n",
        "     #Dropout(0.2),\n",
        "     Dense(16, activation=\"relu\"),\n",
        "     #Dropout(0.2),\n",
        "     #Dense(8, activation=\"relu\"),\n",
        "     #Dropout(0.2),\n",
        "     #Dense(4, activation=\"relu\"),\n",
        "     Dense(3, activation=\"softmax\"),\n",
        "    ]\n",
        ")"
      ],
      "execution_count": 26,
      "outputs": []
    },
    {
      "cell_type": "code",
      "metadata": {
        "id": "b_WeSv7nl1Ou",
        "colab": {
          "base_uri": "https://localhost:8080/"
        },
        "outputId": "73bffc69-d8ac-4be6-94bd-a593f6feadf7"
      },
      "source": [
        "model.summary()"
      ],
      "execution_count": 27,
      "outputs": [
        {
          "output_type": "stream",
          "text": [
            "Model: \"sequential_1\"\n",
            "_________________________________________________________________\n",
            "Layer (type)                 Output Shape              Param #   \n",
            "=================================================================\n",
            "flatten_1 (Flatten)          (None, 49152)             0         \n",
            "_________________________________________________________________\n",
            "dense_9 (Dense)              (None, 2048)              100665344 \n",
            "_________________________________________________________________\n",
            "dropout_2 (Dropout)          (None, 2048)              0         \n",
            "_________________________________________________________________\n",
            "dense_10 (Dense)             (None, 1024)              2098176   \n",
            "_________________________________________________________________\n",
            "dropout_3 (Dropout)          (None, 1024)              0         \n",
            "_________________________________________________________________\n",
            "dense_11 (Dense)             (None, 512)               524800    \n",
            "_________________________________________________________________\n",
            "dense_12 (Dense)             (None, 256)               131328    \n",
            "_________________________________________________________________\n",
            "dense_13 (Dense)             (None, 128)               32896     \n",
            "_________________________________________________________________\n",
            "dense_14 (Dense)             (None, 64)                8256      \n",
            "_________________________________________________________________\n",
            "dense_15 (Dense)             (None, 32)                2080      \n",
            "_________________________________________________________________\n",
            "dense_16 (Dense)             (None, 16)                528       \n",
            "_________________________________________________________________\n",
            "dense_17 (Dense)             (None, 3)                 51        \n",
            "=================================================================\n",
            "Total params: 103,463,459\n",
            "Trainable params: 103,463,459\n",
            "Non-trainable params: 0\n",
            "_________________________________________________________________\n"
          ],
          "name": "stdout"
        }
      ]
    },
    {
      "cell_type": "code",
      "metadata": {
        "id": "r-WsWlFSmBLv",
        "colab": {
          "base_uri": "https://localhost:8080/"
        },
        "outputId": "376c8b6f-fc2b-46c4-8b70-7696c4815ead"
      },
      "source": [
        "print(\"(INFO) training network.....\")\n",
        "opt = Adam(lr=1e-3, decay=1e-3 )\n",
        "model.compile(loss=\"categorical_crossentropy\", optimizer=opt,\n",
        "    metrics=[\"accuracy\"])\n",
        "H = model.fit(trainX, trainY, validation_data=(testX, testY), epochs=200, batch_size=900)"
      ],
      "execution_count": 28,
      "outputs": [
        {
          "output_type": "stream",
          "text": [
            "(INFO) training network.....\n",
            "Epoch 1/200\n",
            "WARNING:tensorflow:Model was constructed with shape (None, 49152) for input KerasTensor(type_spec=TensorSpec(shape=(None, 49152), dtype=tf.float32, name='flatten_1_input'), name='flatten_1_input', description=\"created by layer 'flatten_1_input'\"), but it was called on an input with incompatible shape (None, 128, 128, 3).\n",
            "WARNING:tensorflow:Model was constructed with shape (None, 49152) for input KerasTensor(type_spec=TensorSpec(shape=(None, 49152), dtype=tf.float32, name='flatten_1_input'), name='flatten_1_input', description=\"created by layer 'flatten_1_input'\"), but it was called on an input with incompatible shape (None, 128, 128, 3).\n",
            "1/1 [==============================] - ETA: 0s - loss: 1.1216 - accuracy: 0.3586WARNING:tensorflow:Model was constructed with shape (None, 49152) for input KerasTensor(type_spec=TensorSpec(shape=(None, 49152), dtype=tf.float32, name='flatten_1_input'), name='flatten_1_input', description=\"created by layer 'flatten_1_input'\"), but it was called on an input with incompatible shape (None, 128, 128, 3).\n",
            "1/1 [==============================] - 1s 957ms/step - loss: 1.1216 - accuracy: 0.3586 - val_loss: 2.0445 - val_accuracy: 0.3966\n",
            "Epoch 2/200\n",
            "1/1 [==============================] - 0s 202ms/step - loss: 2.3561 - accuracy: 0.3769 - val_loss: 3.7490 - val_accuracy: 0.3249\n",
            "Epoch 3/200\n",
            "1/1 [==============================] - 0s 171ms/step - loss: 4.3901 - accuracy: 0.3699 - val_loss: 17.4764 - val_accuracy: 0.3249\n",
            "Epoch 4/200\n",
            "1/1 [==============================] - 0s 176ms/step - loss: 17.5169 - accuracy: 0.3530 - val_loss: 10.6817 - val_accuracy: 0.3966\n",
            "Epoch 5/200\n",
            "1/1 [==============================] - 0s 171ms/step - loss: 11.3014 - accuracy: 0.3741 - val_loss: 2.8190 - val_accuracy: 0.3249\n",
            "Epoch 6/200\n",
            "1/1 [==============================] - 0s 183ms/step - loss: 3.2858 - accuracy: 0.3615 - val_loss: 1.2294 - val_accuracy: 0.3249\n",
            "Epoch 7/200\n",
            "1/1 [==============================] - 0s 191ms/step - loss: 1.4108 - accuracy: 0.3305 - val_loss: 1.2343 - val_accuracy: 0.3966\n",
            "Epoch 8/200\n",
            "1/1 [==============================] - 0s 169ms/step - loss: 1.3678 - accuracy: 0.3530 - val_loss: 1.1997 - val_accuracy: 0.2785\n",
            "Epoch 9/200\n",
            "1/1 [==============================] - 0s 179ms/step - loss: 1.3336 - accuracy: 0.3150 - val_loss: 1.1598 - val_accuracy: 0.2785\n",
            "Epoch 10/200\n",
            "1/1 [==============================] - 0s 189ms/step - loss: 1.2129 - accuracy: 0.2940 - val_loss: 1.1383 - val_accuracy: 0.3966\n",
            "Epoch 11/200\n",
            "1/1 [==============================] - 0s 165ms/step - loss: 1.2044 - accuracy: 0.3741 - val_loss: 1.1627 - val_accuracy: 0.3966\n",
            "Epoch 12/200\n",
            "1/1 [==============================] - 0s 167ms/step - loss: 1.2293 - accuracy: 0.3657 - val_loss: 1.0765 - val_accuracy: 0.3966\n",
            "Epoch 13/200\n",
            "1/1 [==============================] - 0s 166ms/step - loss: 1.1607 - accuracy: 0.3418 - val_loss: 1.1389 - val_accuracy: 0.2785\n",
            "Epoch 14/200\n",
            "1/1 [==============================] - 0s 191ms/step - loss: 1.2467 - accuracy: 0.2940 - val_loss: 1.1279 - val_accuracy: 0.3966\n",
            "Epoch 15/200\n",
            "1/1 [==============================] - 0s 174ms/step - loss: 1.2027 - accuracy: 0.3516 - val_loss: 1.2048 - val_accuracy: 0.3249\n",
            "Epoch 16/200\n",
            "1/1 [==============================] - 0s 169ms/step - loss: 1.2263 - accuracy: 0.3783 - val_loss: 1.2043 - val_accuracy: 0.3966\n",
            "Epoch 17/200\n",
            "1/1 [==============================] - 0s 176ms/step - loss: 1.2796 - accuracy: 0.3840 - val_loss: 1.1840 - val_accuracy: 0.3249\n",
            "Epoch 18/200\n",
            "1/1 [==============================] - 0s 173ms/step - loss: 1.1984 - accuracy: 0.3826 - val_loss: 1.0905 - val_accuracy: 0.2785\n",
            "Epoch 19/200\n",
            "1/1 [==============================] - 0s 166ms/step - loss: 1.1631 - accuracy: 0.3179 - val_loss: 1.1277 - val_accuracy: 0.3966\n",
            "Epoch 20/200\n",
            "1/1 [==============================] - 0s 189ms/step - loss: 1.2313 - accuracy: 0.3615 - val_loss: 1.0776 - val_accuracy: 0.2827\n",
            "Epoch 21/200\n",
            "1/1 [==============================] - 0s 195ms/step - loss: 1.1397 - accuracy: 0.3080 - val_loss: 1.1790 - val_accuracy: 0.3249\n",
            "Epoch 22/200\n",
            "1/1 [==============================] - 0s 178ms/step - loss: 1.2045 - accuracy: 0.3488 - val_loss: 1.0769 - val_accuracy: 0.3966\n",
            "Epoch 23/200\n",
            "1/1 [==============================] - 0s 193ms/step - loss: 1.1421 - accuracy: 0.3812 - val_loss: 1.0667 - val_accuracy: 0.3966\n",
            "Epoch 24/200\n",
            "1/1 [==============================] - 0s 200ms/step - loss: 1.1298 - accuracy: 0.3769 - val_loss: 1.1122 - val_accuracy: 0.2911\n",
            "Epoch 25/200\n",
            "1/1 [==============================] - 0s 176ms/step - loss: 1.1553 - accuracy: 0.3235 - val_loss: 1.0829 - val_accuracy: 0.3544\n",
            "Epoch 26/200\n",
            "1/1 [==============================] - 0s 173ms/step - loss: 1.1127 - accuracy: 0.3418 - val_loss: 1.0577 - val_accuracy: 0.3966\n",
            "Epoch 27/200\n",
            "1/1 [==============================] - 0s 167ms/step - loss: 1.1080 - accuracy: 0.3924 - val_loss: 1.0549 - val_accuracy: 0.4093\n",
            "Epoch 28/200\n",
            "1/1 [==============================] - 0s 165ms/step - loss: 1.0998 - accuracy: 0.3966 - val_loss: 1.1086 - val_accuracy: 0.3249\n",
            "Epoch 29/200\n",
            "1/1 [==============================] - 0s 189ms/step - loss: 1.1114 - accuracy: 0.4051 - val_loss: 1.0597 - val_accuracy: 0.3713\n",
            "Epoch 30/200\n",
            "1/1 [==============================] - 0s 163ms/step - loss: 1.0635 - accuracy: 0.3938 - val_loss: 1.0527 - val_accuracy: 0.3966\n",
            "Epoch 31/200\n",
            "1/1 [==============================] - 0s 172ms/step - loss: 1.1013 - accuracy: 0.3685 - val_loss: 1.0309 - val_accuracy: 0.4093\n",
            "Epoch 32/200\n",
            "1/1 [==============================] - 0s 167ms/step - loss: 1.0581 - accuracy: 0.4276 - val_loss: 1.0401 - val_accuracy: 0.5359\n",
            "Epoch 33/200\n",
            "1/1 [==============================] - 0s 182ms/step - loss: 1.0690 - accuracy: 0.4571 - val_loss: 1.0026 - val_accuracy: 0.5232\n",
            "Epoch 34/200\n",
            "1/1 [==============================] - 0s 197ms/step - loss: 1.0562 - accuracy: 0.4627 - val_loss: 1.0197 - val_accuracy: 0.4051\n",
            "Epoch 35/200\n",
            "1/1 [==============================] - 0s 167ms/step - loss: 1.0402 - accuracy: 0.4374 - val_loss: 0.9899 - val_accuracy: 0.5612\n",
            "Epoch 36/200\n",
            "1/1 [==============================] - 0s 175ms/step - loss: 1.0207 - accuracy: 0.4627 - val_loss: 1.0102 - val_accuracy: 0.4895\n",
            "Epoch 37/200\n",
            "1/1 [==============================] - 0s 167ms/step - loss: 1.0365 - accuracy: 0.4824 - val_loss: 0.9678 - val_accuracy: 0.5232\n",
            "Epoch 38/200\n",
            "1/1 [==============================] - 0s 172ms/step - loss: 1.0087 - accuracy: 0.4993 - val_loss: 0.9817 - val_accuracy: 0.4810\n",
            "Epoch 39/200\n",
            "1/1 [==============================] - 0s 166ms/step - loss: 1.0100 - accuracy: 0.4712 - val_loss: 0.9549 - val_accuracy: 0.5190\n",
            "Epoch 40/200\n",
            "1/1 [==============================] - 0s 167ms/step - loss: 0.9799 - accuracy: 0.5359 - val_loss: 0.9579 - val_accuracy: 0.5696\n",
            "Epoch 41/200\n",
            "1/1 [==============================] - 0s 168ms/step - loss: 0.9760 - accuracy: 0.5204 - val_loss: 0.9424 - val_accuracy: 0.5021\n",
            "Epoch 42/200\n",
            "1/1 [==============================] - 0s 179ms/step - loss: 0.9627 - accuracy: 0.5120 - val_loss: 0.9364 - val_accuracy: 0.5190\n",
            "Epoch 43/200\n",
            "1/1 [==============================] - 0s 193ms/step - loss: 0.9633 - accuracy: 0.5204 - val_loss: 0.9256 - val_accuracy: 0.5232\n",
            "Epoch 44/200\n",
            "1/1 [==============================] - 0s 164ms/step - loss: 0.9395 - accuracy: 0.5457 - val_loss: 0.9117 - val_accuracy: 0.5232\n",
            "Epoch 45/200\n",
            "1/1 [==============================] - 0s 171ms/step - loss: 0.9253 - accuracy: 0.5612 - val_loss: 0.9117 - val_accuracy: 0.5190\n",
            "Epoch 46/200\n",
            "1/1 [==============================] - 0s 172ms/step - loss: 0.9421 - accuracy: 0.5260 - val_loss: 0.8997 - val_accuracy: 0.5485\n",
            "Epoch 47/200\n",
            "1/1 [==============================] - 0s 162ms/step - loss: 0.9110 - accuracy: 0.5682 - val_loss: 0.8960 - val_accuracy: 0.5527\n",
            "Epoch 48/200\n",
            "1/1 [==============================] - 0s 191ms/step - loss: 0.9162 - accuracy: 0.5612 - val_loss: 0.8879 - val_accuracy: 0.5190\n",
            "Epoch 49/200\n",
            "1/1 [==============================] - 0s 167ms/step - loss: 0.8971 - accuracy: 0.5654 - val_loss: 0.8810 - val_accuracy: 0.5232\n",
            "Epoch 50/200\n",
            "1/1 [==============================] - 0s 167ms/step - loss: 0.9117 - accuracy: 0.5626 - val_loss: 0.8707 - val_accuracy: 0.5274\n",
            "Epoch 51/200\n",
            "1/1 [==============================] - 0s 170ms/step - loss: 0.9080 - accuracy: 0.5598 - val_loss: 0.8695 - val_accuracy: 0.6709\n",
            "Epoch 52/200\n",
            "1/1 [==============================] - 0s 177ms/step - loss: 0.8913 - accuracy: 0.5485 - val_loss: 0.8592 - val_accuracy: 0.5485\n",
            "Epoch 53/200\n",
            "1/1 [==============================] - 0s 176ms/step - loss: 0.8611 - accuracy: 0.5949 - val_loss: 0.8520 - val_accuracy: 0.5359\n",
            "Epoch 54/200\n",
            "1/1 [==============================] - 0s 197ms/step - loss: 0.8642 - accuracy: 0.5935 - val_loss: 0.8408 - val_accuracy: 0.5781\n",
            "Epoch 55/200\n",
            "1/1 [==============================] - 0s 168ms/step - loss: 0.8799 - accuracy: 0.5935 - val_loss: 0.8447 - val_accuracy: 0.6793\n",
            "Epoch 56/200\n",
            "1/1 [==============================] - 0s 159ms/step - loss: 0.8584 - accuracy: 0.5921 - val_loss: 0.8405 - val_accuracy: 0.6878\n",
            "Epoch 57/200\n",
            "1/1 [==============================] - 0s 193ms/step - loss: 0.8482 - accuracy: 0.5935 - val_loss: 0.8264 - val_accuracy: 0.6076\n",
            "Epoch 58/200\n",
            "1/1 [==============================] - 0s 168ms/step - loss: 0.8434 - accuracy: 0.6048 - val_loss: 0.8200 - val_accuracy: 0.5696\n",
            "Epoch 59/200\n",
            "1/1 [==============================] - 0s 190ms/step - loss: 0.8249 - accuracy: 0.6428 - val_loss: 0.8148 - val_accuracy: 0.6160\n",
            "Epoch 60/200\n",
            "1/1 [==============================] - 0s 171ms/step - loss: 0.8315 - accuracy: 0.6231 - val_loss: 0.8117 - val_accuracy: 0.6751\n",
            "Epoch 61/200\n",
            "1/1 [==============================] - 0s 198ms/step - loss: 0.8140 - accuracy: 0.6273 - val_loss: 0.8031 - val_accuracy: 0.6878\n",
            "Epoch 62/200\n",
            "1/1 [==============================] - 0s 277ms/step - loss: 0.8151 - accuracy: 0.6217 - val_loss: 0.7834 - val_accuracy: 0.6920\n",
            "Epoch 63/200\n",
            "1/1 [==============================] - 0s 169ms/step - loss: 0.7962 - accuracy: 0.6357 - val_loss: 0.7651 - val_accuracy: 0.6667\n",
            "Epoch 64/200\n",
            "1/1 [==============================] - 0s 165ms/step - loss: 0.7812 - accuracy: 0.6470 - val_loss: 0.7573 - val_accuracy: 0.7173\n",
            "Epoch 65/200\n",
            "1/1 [==============================] - 0s 171ms/step - loss: 0.7947 - accuracy: 0.6512 - val_loss: 0.7560 - val_accuracy: 0.7131\n",
            "Epoch 66/200\n",
            "1/1 [==============================] - 0s 171ms/step - loss: 0.7710 - accuracy: 0.6399 - val_loss: 0.7471 - val_accuracy: 0.7131\n",
            "Epoch 67/200\n",
            "1/1 [==============================] - 0s 172ms/step - loss: 0.7703 - accuracy: 0.6709 - val_loss: 0.7285 - val_accuracy: 0.7300\n",
            "Epoch 68/200\n",
            "1/1 [==============================] - 0s 191ms/step - loss: 0.7401 - accuracy: 0.6653 - val_loss: 0.7179 - val_accuracy: 0.7215\n",
            "Epoch 69/200\n",
            "1/1 [==============================] - 0s 199ms/step - loss: 0.7606 - accuracy: 0.6554 - val_loss: 0.7164 - val_accuracy: 0.6793\n",
            "Epoch 70/200\n",
            "1/1 [==============================] - 0s 172ms/step - loss: 0.7519 - accuracy: 0.6582 - val_loss: 0.7240 - val_accuracy: 0.7173\n",
            "Epoch 71/200\n",
            "1/1 [==============================] - 0s 179ms/step - loss: 0.7587 - accuracy: 0.6484 - val_loss: 0.7259 - val_accuracy: 0.7257\n",
            "Epoch 72/200\n",
            "1/1 [==============================] - 0s 167ms/step - loss: 0.7450 - accuracy: 0.6484 - val_loss: 0.7173 - val_accuracy: 0.6920\n",
            "Epoch 73/200\n",
            "1/1 [==============================] - 0s 167ms/step - loss: 0.7340 - accuracy: 0.6807 - val_loss: 0.6900 - val_accuracy: 0.7511\n",
            "Epoch 74/200\n",
            "1/1 [==============================] - 0s 167ms/step - loss: 0.7321 - accuracy: 0.6906 - val_loss: 0.6785 - val_accuracy: 0.7553\n",
            "Epoch 75/200\n",
            "1/1 [==============================] - 0s 168ms/step - loss: 0.6909 - accuracy: 0.6892 - val_loss: 0.7091 - val_accuracy: 0.6962\n",
            "Epoch 76/200\n",
            "1/1 [==============================] - 0s 169ms/step - loss: 0.7283 - accuracy: 0.6681 - val_loss: 0.6976 - val_accuracy: 0.7215\n",
            "Epoch 77/200\n",
            "1/1 [==============================] - 0s 179ms/step - loss: 0.7092 - accuracy: 0.6850 - val_loss: 0.6774 - val_accuracy: 0.7637\n",
            "Epoch 78/200\n",
            "1/1 [==============================] - 0s 164ms/step - loss: 0.6973 - accuracy: 0.7018 - val_loss: 0.6754 - val_accuracy: 0.7173\n",
            "Epoch 79/200\n",
            "1/1 [==============================] - 0s 167ms/step - loss: 0.7050 - accuracy: 0.6582 - val_loss: 0.6549 - val_accuracy: 0.7637\n",
            "Epoch 80/200\n",
            "1/1 [==============================] - 0s 178ms/step - loss: 0.6875 - accuracy: 0.7187 - val_loss: 0.6576 - val_accuracy: 0.7764\n",
            "Epoch 81/200\n",
            "1/1 [==============================] - 0s 186ms/step - loss: 0.6867 - accuracy: 0.7187 - val_loss: 0.6673 - val_accuracy: 0.7722\n",
            "Epoch 82/200\n",
            "1/1 [==============================] - 0s 167ms/step - loss: 0.6707 - accuracy: 0.7201 - val_loss: 0.6551 - val_accuracy: 0.7764\n",
            "Epoch 83/200\n",
            "1/1 [==============================] - 0s 198ms/step - loss: 0.6448 - accuracy: 0.7215 - val_loss: 0.6509 - val_accuracy: 0.7806\n",
            "Epoch 84/200\n",
            "1/1 [==============================] - 0s 175ms/step - loss: 0.6686 - accuracy: 0.7243 - val_loss: 0.6501 - val_accuracy: 0.7848\n",
            "Epoch 85/200\n",
            "1/1 [==============================] - 0s 191ms/step - loss: 0.6422 - accuracy: 0.7243 - val_loss: 0.6426 - val_accuracy: 0.7932\n",
            "Epoch 86/200\n",
            "1/1 [==============================] - 0s 195ms/step - loss: 0.6307 - accuracy: 0.7342 - val_loss: 0.6387 - val_accuracy: 0.7890\n",
            "Epoch 87/200\n",
            "1/1 [==============================] - 0s 202ms/step - loss: 0.6368 - accuracy: 0.7328 - val_loss: 0.6397 - val_accuracy: 0.7890\n",
            "Epoch 88/200\n",
            "1/1 [==============================] - 0s 170ms/step - loss: 0.6555 - accuracy: 0.7314 - val_loss: 0.6415 - val_accuracy: 0.7975\n",
            "Epoch 89/200\n",
            "1/1 [==============================] - 0s 168ms/step - loss: 0.6399 - accuracy: 0.7314 - val_loss: 0.6359 - val_accuracy: 0.7932\n",
            "Epoch 90/200\n",
            "1/1 [==============================] - 0s 165ms/step - loss: 0.6178 - accuracy: 0.7581 - val_loss: 0.6410 - val_accuracy: 0.8101\n",
            "Epoch 91/200\n",
            "1/1 [==============================] - 0s 201ms/step - loss: 0.6317 - accuracy: 0.7426 - val_loss: 0.6282 - val_accuracy: 0.7722\n",
            "Epoch 92/200\n",
            "1/1 [==============================] - 0s 166ms/step - loss: 0.6202 - accuracy: 0.7342 - val_loss: 0.6272 - val_accuracy: 0.7932\n",
            "Epoch 93/200\n",
            "1/1 [==============================] - 0s 188ms/step - loss: 0.5975 - accuracy: 0.7637 - val_loss: 0.6350 - val_accuracy: 0.8143\n",
            "Epoch 94/200\n",
            "1/1 [==============================] - 0s 176ms/step - loss: 0.5990 - accuracy: 0.7623 - val_loss: 0.6109 - val_accuracy: 0.7848\n",
            "Epoch 95/200\n",
            "1/1 [==============================] - 0s 175ms/step - loss: 0.6231 - accuracy: 0.7525 - val_loss: 0.6105 - val_accuracy: 0.8101\n",
            "Epoch 96/200\n",
            "1/1 [==============================] - 0s 192ms/step - loss: 0.5919 - accuracy: 0.7806 - val_loss: 0.6155 - val_accuracy: 0.8101\n",
            "Epoch 97/200\n",
            "1/1 [==============================] - 0s 194ms/step - loss: 0.5949 - accuracy: 0.7581 - val_loss: 0.6177 - val_accuracy: 0.7637\n",
            "Epoch 98/200\n",
            "1/1 [==============================] - 0s 171ms/step - loss: 0.5868 - accuracy: 0.7722 - val_loss: 0.6275 - val_accuracy: 0.7764\n",
            "Epoch 99/200\n",
            "1/1 [==============================] - 0s 181ms/step - loss: 0.5716 - accuracy: 0.7736 - val_loss: 0.6192 - val_accuracy: 0.7932\n",
            "Epoch 100/200\n",
            "1/1 [==============================] - 0s 166ms/step - loss: 0.5684 - accuracy: 0.7792 - val_loss: 0.6132 - val_accuracy: 0.7890\n",
            "Epoch 101/200\n",
            "1/1 [==============================] - 0s 181ms/step - loss: 0.5531 - accuracy: 0.7918 - val_loss: 0.6100 - val_accuracy: 0.7637\n",
            "Epoch 102/200\n",
            "1/1 [==============================] - 0s 176ms/step - loss: 0.5499 - accuracy: 0.7918 - val_loss: 0.6468 - val_accuracy: 0.8017\n",
            "Epoch 103/200\n",
            "1/1 [==============================] - 0s 195ms/step - loss: 0.5829 - accuracy: 0.7637 - val_loss: 0.6198 - val_accuracy: 0.7932\n",
            "Epoch 104/200\n",
            "1/1 [==============================] - 0s 204ms/step - loss: 0.5656 - accuracy: 0.7736 - val_loss: 0.5966 - val_accuracy: 0.7848\n",
            "Epoch 105/200\n",
            "1/1 [==============================] - 0s 171ms/step - loss: 0.5728 - accuracy: 0.7820 - val_loss: 0.6528 - val_accuracy: 0.7722\n",
            "Epoch 106/200\n",
            "1/1 [==============================] - 0s 190ms/step - loss: 0.5473 - accuracy: 0.7820 - val_loss: 0.5987 - val_accuracy: 0.7722\n",
            "Epoch 107/200\n",
            "1/1 [==============================] - 0s 195ms/step - loss: 0.5467 - accuracy: 0.7932 - val_loss: 0.5990 - val_accuracy: 0.7975\n",
            "Epoch 108/200\n",
            "1/1 [==============================] - 0s 185ms/step - loss: 0.5337 - accuracy: 0.7820 - val_loss: 0.6196 - val_accuracy: 0.8101\n",
            "Epoch 109/200\n",
            "1/1 [==============================] - 0s 173ms/step - loss: 0.5387 - accuracy: 0.8003 - val_loss: 0.5808 - val_accuracy: 0.7848\n",
            "Epoch 110/200\n",
            "1/1 [==============================] - 0s 171ms/step - loss: 0.5239 - accuracy: 0.8017 - val_loss: 0.5779 - val_accuracy: 0.7806\n",
            "Epoch 111/200\n",
            "1/1 [==============================] - 0s 174ms/step - loss: 0.5296 - accuracy: 0.8059 - val_loss: 0.6193 - val_accuracy: 0.8017\n",
            "Epoch 112/200\n",
            "1/1 [==============================] - 0s 181ms/step - loss: 0.5447 - accuracy: 0.7834 - val_loss: 0.5833 - val_accuracy: 0.7764\n",
            "Epoch 113/200\n",
            "1/1 [==============================] - 0s 181ms/step - loss: 0.5207 - accuracy: 0.7820 - val_loss: 0.5711 - val_accuracy: 0.7932\n",
            "Epoch 114/200\n",
            "1/1 [==============================] - 0s 170ms/step - loss: 0.5133 - accuracy: 0.7947 - val_loss: 0.6129 - val_accuracy: 0.7975\n",
            "Epoch 115/200\n",
            "1/1 [==============================] - 0s 171ms/step - loss: 0.5354 - accuracy: 0.7792 - val_loss: 0.5683 - val_accuracy: 0.7975\n",
            "Epoch 116/200\n",
            "1/1 [==============================] - 0s 168ms/step - loss: 0.5204 - accuracy: 0.8129 - val_loss: 0.5766 - val_accuracy: 0.7679\n",
            "Epoch 117/200\n",
            "1/1 [==============================] - 0s 186ms/step - loss: 0.5166 - accuracy: 0.7989 - val_loss: 0.5994 - val_accuracy: 0.8059\n",
            "Epoch 118/200\n",
            "1/1 [==============================] - 0s 191ms/step - loss: 0.5438 - accuracy: 0.7862 - val_loss: 0.5699 - val_accuracy: 0.7806\n",
            "Epoch 119/200\n",
            "1/1 [==============================] - 0s 193ms/step - loss: 0.4987 - accuracy: 0.7961 - val_loss: 0.5658 - val_accuracy: 0.7806\n",
            "Epoch 120/200\n",
            "1/1 [==============================] - 0s 196ms/step - loss: 0.4722 - accuracy: 0.8368 - val_loss: 0.5625 - val_accuracy: 0.8101\n",
            "Epoch 121/200\n",
            "1/1 [==============================] - 0s 198ms/step - loss: 0.4815 - accuracy: 0.8256 - val_loss: 0.5940 - val_accuracy: 0.8059\n",
            "Epoch 122/200\n",
            "1/1 [==============================] - 0s 167ms/step - loss: 0.4564 - accuracy: 0.8214 - val_loss: 0.5740 - val_accuracy: 0.7806\n",
            "Epoch 123/200\n",
            "1/1 [==============================] - 0s 170ms/step - loss: 0.4984 - accuracy: 0.7975 - val_loss: 0.5646 - val_accuracy: 0.7975\n",
            "Epoch 124/200\n",
            "1/1 [==============================] - 0s 166ms/step - loss: 0.4702 - accuracy: 0.8158 - val_loss: 0.5776 - val_accuracy: 0.8143\n",
            "Epoch 125/200\n",
            "1/1 [==============================] - 0s 175ms/step - loss: 0.4762 - accuracy: 0.8284 - val_loss: 0.5687 - val_accuracy: 0.8059\n",
            "Epoch 126/200\n",
            "1/1 [==============================] - 0s 197ms/step - loss: 0.4550 - accuracy: 0.8312 - val_loss: 0.5708 - val_accuracy: 0.7975\n",
            "Epoch 127/200\n",
            "1/1 [==============================] - 0s 178ms/step - loss: 0.4652 - accuracy: 0.8186 - val_loss: 0.5609 - val_accuracy: 0.8059\n",
            "Epoch 128/200\n",
            "1/1 [==============================] - 0s 176ms/step - loss: 0.4391 - accuracy: 0.8481 - val_loss: 0.5608 - val_accuracy: 0.8186\n",
            "Epoch 129/200\n",
            "1/1 [==============================] - 0s 196ms/step - loss: 0.4503 - accuracy: 0.8242 - val_loss: 0.5500 - val_accuracy: 0.8017\n",
            "Epoch 130/200\n",
            "1/1 [==============================] - 0s 168ms/step - loss: 0.4399 - accuracy: 0.8425 - val_loss: 0.5615 - val_accuracy: 0.8101\n",
            "Epoch 131/200\n",
            "1/1 [==============================] - 0s 173ms/step - loss: 0.4671 - accuracy: 0.8200 - val_loss: 0.5646 - val_accuracy: 0.8101\n",
            "Epoch 132/200\n",
            "1/1 [==============================] - 0s 172ms/step - loss: 0.4472 - accuracy: 0.8284 - val_loss: 0.5758 - val_accuracy: 0.8017\n",
            "Epoch 133/200\n",
            "1/1 [==============================] - 0s 195ms/step - loss: 0.4622 - accuracy: 0.8200 - val_loss: 0.5782 - val_accuracy: 0.8017\n",
            "Epoch 134/200\n",
            "1/1 [==============================] - 0s 176ms/step - loss: 0.4217 - accuracy: 0.8523 - val_loss: 0.5927 - val_accuracy: 0.8059\n",
            "Epoch 135/200\n",
            "1/1 [==============================] - 0s 169ms/step - loss: 0.4205 - accuracy: 0.8467 - val_loss: 0.5723 - val_accuracy: 0.8101\n",
            "Epoch 136/200\n",
            "1/1 [==============================] - 0s 191ms/step - loss: 0.4309 - accuracy: 0.8228 - val_loss: 0.5700 - val_accuracy: 0.8270\n",
            "Epoch 137/200\n",
            "1/1 [==============================] - 0s 187ms/step - loss: 0.4271 - accuracy: 0.8453 - val_loss: 0.5512 - val_accuracy: 0.8186\n",
            "Epoch 138/200\n",
            "1/1 [==============================] - 0s 176ms/step - loss: 0.4335 - accuracy: 0.8467 - val_loss: 0.5442 - val_accuracy: 0.8186\n",
            "Epoch 139/200\n",
            "1/1 [==============================] - 0s 175ms/step - loss: 0.4274 - accuracy: 0.8509 - val_loss: 0.5526 - val_accuracy: 0.8186\n",
            "Epoch 140/200\n",
            "1/1 [==============================] - 0s 197ms/step - loss: 0.4076 - accuracy: 0.8439 - val_loss: 0.5485 - val_accuracy: 0.8228\n",
            "Epoch 141/200\n",
            "1/1 [==============================] - 0s 199ms/step - loss: 0.4210 - accuracy: 0.8481 - val_loss: 0.5442 - val_accuracy: 0.8186\n",
            "Epoch 142/200\n",
            "1/1 [==============================] - 0s 196ms/step - loss: 0.3900 - accuracy: 0.8551 - val_loss: 0.5566 - val_accuracy: 0.8059\n",
            "Epoch 143/200\n",
            "1/1 [==============================] - 0s 167ms/step - loss: 0.4122 - accuracy: 0.8622 - val_loss: 0.5724 - val_accuracy: 0.8186\n",
            "Epoch 144/200\n",
            "1/1 [==============================] - 0s 192ms/step - loss: 0.4195 - accuracy: 0.8551 - val_loss: 0.5588 - val_accuracy: 0.8143\n",
            "Epoch 145/200\n",
            "1/1 [==============================] - 0s 176ms/step - loss: 0.4088 - accuracy: 0.8411 - val_loss: 0.5550 - val_accuracy: 0.8143\n",
            "Epoch 146/200\n",
            "1/1 [==============================] - 0s 192ms/step - loss: 0.3836 - accuracy: 0.8551 - val_loss: 0.5697 - val_accuracy: 0.8228\n",
            "Epoch 147/200\n",
            "1/1 [==============================] - 0s 167ms/step - loss: 0.3869 - accuracy: 0.8594 - val_loss: 0.5487 - val_accuracy: 0.8101\n",
            "Epoch 148/200\n",
            "1/1 [==============================] - 0s 193ms/step - loss: 0.4143 - accuracy: 0.8495 - val_loss: 0.5498 - val_accuracy: 0.8312\n",
            "Epoch 149/200\n",
            "1/1 [==============================] - 0s 172ms/step - loss: 0.3916 - accuracy: 0.8579 - val_loss: 0.5550 - val_accuracy: 0.8228\n",
            "Epoch 150/200\n",
            "1/1 [==============================] - 0s 180ms/step - loss: 0.3638 - accuracy: 0.8579 - val_loss: 0.5560 - val_accuracy: 0.8017\n",
            "Epoch 151/200\n",
            "1/1 [==============================] - 0s 170ms/step - loss: 0.3747 - accuracy: 0.8509 - val_loss: 0.5523 - val_accuracy: 0.8143\n",
            "Epoch 152/200\n",
            "1/1 [==============================] - 0s 174ms/step - loss: 0.3442 - accuracy: 0.8748 - val_loss: 0.5665 - val_accuracy: 0.8186\n",
            "Epoch 153/200\n",
            "1/1 [==============================] - 0s 178ms/step - loss: 0.3887 - accuracy: 0.8537 - val_loss: 0.5582 - val_accuracy: 0.8017\n",
            "Epoch 154/200\n",
            "1/1 [==============================] - 0s 195ms/step - loss: 0.3702 - accuracy: 0.8509 - val_loss: 0.5491 - val_accuracy: 0.8270\n",
            "Epoch 155/200\n",
            "1/1 [==============================] - 0s 190ms/step - loss: 0.3783 - accuracy: 0.8565 - val_loss: 0.5807 - val_accuracy: 0.8101\n",
            "Epoch 156/200\n",
            "1/1 [==============================] - 0s 175ms/step - loss: 0.3787 - accuracy: 0.8762 - val_loss: 0.5594 - val_accuracy: 0.8017\n",
            "Epoch 157/200\n",
            "1/1 [==============================] - 0s 187ms/step - loss: 0.3539 - accuracy: 0.8692 - val_loss: 0.5419 - val_accuracy: 0.8186\n",
            "Epoch 158/200\n",
            "1/1 [==============================] - 0s 169ms/step - loss: 0.3503 - accuracy: 0.8734 - val_loss: 0.5640 - val_accuracy: 0.8143\n",
            "Epoch 159/200\n",
            "1/1 [==============================] - 0s 207ms/step - loss: 0.3454 - accuracy: 0.8748 - val_loss: 0.5469 - val_accuracy: 0.7975\n",
            "Epoch 160/200\n",
            "1/1 [==============================] - 0s 186ms/step - loss: 0.3575 - accuracy: 0.8664 - val_loss: 0.5355 - val_accuracy: 0.8270\n",
            "Epoch 161/200\n",
            "1/1 [==============================] - 0s 193ms/step - loss: 0.3095 - accuracy: 0.9001 - val_loss: 0.5727 - val_accuracy: 0.8059\n",
            "Epoch 162/200\n",
            "1/1 [==============================] - 0s 168ms/step - loss: 0.3379 - accuracy: 0.8776 - val_loss: 0.5492 - val_accuracy: 0.8228\n",
            "Epoch 163/200\n",
            "1/1 [==============================] - 0s 167ms/step - loss: 0.3681 - accuracy: 0.8608 - val_loss: 0.5530 - val_accuracy: 0.8186\n",
            "Epoch 164/200\n",
            "1/1 [==============================] - 0s 167ms/step - loss: 0.3620 - accuracy: 0.8678 - val_loss: 0.5604 - val_accuracy: 0.8143\n",
            "Epoch 165/200\n",
            "1/1 [==============================] - 0s 179ms/step - loss: 0.3380 - accuracy: 0.8692 - val_loss: 0.5393 - val_accuracy: 0.8186\n",
            "Epoch 166/200\n",
            "1/1 [==============================] - 0s 192ms/step - loss: 0.3564 - accuracy: 0.8706 - val_loss: 0.5480 - val_accuracy: 0.8017\n",
            "Epoch 167/200\n",
            "1/1 [==============================] - 0s 194ms/step - loss: 0.3408 - accuracy: 0.8805 - val_loss: 0.5695 - val_accuracy: 0.8101\n",
            "Epoch 168/200\n",
            "1/1 [==============================] - 0s 173ms/step - loss: 0.3604 - accuracy: 0.8622 - val_loss: 0.5238 - val_accuracy: 0.8354\n",
            "Epoch 169/200\n",
            "1/1 [==============================] - 0s 207ms/step - loss: 0.3382 - accuracy: 0.8833 - val_loss: 0.5294 - val_accuracy: 0.8186\n",
            "Epoch 170/200\n",
            "1/1 [==============================] - 0s 194ms/step - loss: 0.3073 - accuracy: 0.8805 - val_loss: 0.5804 - val_accuracy: 0.8059\n",
            "Epoch 171/200\n",
            "1/1 [==============================] - 0s 172ms/step - loss: 0.3419 - accuracy: 0.8790 - val_loss: 0.5685 - val_accuracy: 0.8017\n",
            "Epoch 172/200\n",
            "1/1 [==============================] - 0s 199ms/step - loss: 0.3299 - accuracy: 0.8762 - val_loss: 0.5532 - val_accuracy: 0.8101\n",
            "Epoch 173/200\n",
            "1/1 [==============================] - 0s 194ms/step - loss: 0.2960 - accuracy: 0.9030 - val_loss: 0.5833 - val_accuracy: 0.7975\n",
            "Epoch 174/200\n",
            "1/1 [==============================] - 0s 168ms/step - loss: 0.3207 - accuracy: 0.8861 - val_loss: 0.5632 - val_accuracy: 0.8228\n",
            "Epoch 175/200\n",
            "1/1 [==============================] - 0s 181ms/step - loss: 0.2879 - accuracy: 0.9030 - val_loss: 0.5831 - val_accuracy: 0.8186\n",
            "Epoch 176/200\n",
            "1/1 [==============================] - 0s 165ms/step - loss: 0.2841 - accuracy: 0.9058 - val_loss: 0.5763 - val_accuracy: 0.8186\n",
            "Epoch 177/200\n",
            "1/1 [==============================] - 0s 191ms/step - loss: 0.3057 - accuracy: 0.8903 - val_loss: 0.5401 - val_accuracy: 0.8312\n",
            "Epoch 178/200\n",
            "1/1 [==============================] - 0s 192ms/step - loss: 0.3042 - accuracy: 0.8833 - val_loss: 0.5268 - val_accuracy: 0.8228\n",
            "Epoch 179/200\n",
            "1/1 [==============================] - 0s 170ms/step - loss: 0.2871 - accuracy: 0.9015 - val_loss: 0.5837 - val_accuracy: 0.8101\n",
            "Epoch 180/200\n",
            "1/1 [==============================] - 0s 181ms/step - loss: 0.2909 - accuracy: 0.8917 - val_loss: 0.6033 - val_accuracy: 0.7848\n",
            "Epoch 181/200\n",
            "1/1 [==============================] - 0s 188ms/step - loss: 0.3362 - accuracy: 0.8748 - val_loss: 0.5465 - val_accuracy: 0.8186\n",
            "Epoch 182/200\n",
            "1/1 [==============================] - 0s 172ms/step - loss: 0.3078 - accuracy: 0.8819 - val_loss: 0.5418 - val_accuracy: 0.8186\n",
            "Epoch 183/200\n",
            "1/1 [==============================] - 0s 163ms/step - loss: 0.2772 - accuracy: 0.9030 - val_loss: 0.5653 - val_accuracy: 0.8101\n",
            "Epoch 184/200\n",
            "1/1 [==============================] - 0s 170ms/step - loss: 0.2868 - accuracy: 0.8973 - val_loss: 0.5661 - val_accuracy: 0.8059\n",
            "Epoch 185/200\n",
            "1/1 [==============================] - 0s 168ms/step - loss: 0.2785 - accuracy: 0.8945 - val_loss: 0.5263 - val_accuracy: 0.8228\n",
            "Epoch 186/200\n",
            "1/1 [==============================] - 0s 165ms/step - loss: 0.2822 - accuracy: 0.9030 - val_loss: 0.5341 - val_accuracy: 0.8228\n",
            "Epoch 187/200\n",
            "1/1 [==============================] - 0s 191ms/step - loss: 0.3086 - accuracy: 0.8748 - val_loss: 0.5744 - val_accuracy: 0.8186\n",
            "Epoch 188/200\n",
            "1/1 [==============================] - 0s 189ms/step - loss: 0.3030 - accuracy: 0.8917 - val_loss: 0.6223 - val_accuracy: 0.7806\n",
            "Epoch 189/200\n",
            "1/1 [==============================] - 0s 165ms/step - loss: 0.3117 - accuracy: 0.8847 - val_loss: 0.5696 - val_accuracy: 0.8143\n",
            "Epoch 190/200\n",
            "1/1 [==============================] - 0s 170ms/step - loss: 0.2783 - accuracy: 0.9015 - val_loss: 0.5615 - val_accuracy: 0.8186\n",
            "Epoch 191/200\n",
            "1/1 [==============================] - 0s 183ms/step - loss: 0.3033 - accuracy: 0.8875 - val_loss: 0.5851 - val_accuracy: 0.8228\n",
            "Epoch 192/200\n",
            "1/1 [==============================] - 0s 168ms/step - loss: 0.3121 - accuracy: 0.8861 - val_loss: 0.6382 - val_accuracy: 0.8017\n",
            "Epoch 193/200\n",
            "1/1 [==============================] - 0s 172ms/step - loss: 0.3169 - accuracy: 0.8833 - val_loss: 0.5931 - val_accuracy: 0.8101\n",
            "Epoch 194/200\n",
            "1/1 [==============================] - 0s 176ms/step - loss: 0.2759 - accuracy: 0.9015 - val_loss: 0.5319 - val_accuracy: 0.8186\n",
            "Epoch 195/200\n",
            "1/1 [==============================] - 0s 193ms/step - loss: 0.2770 - accuracy: 0.9015 - val_loss: 0.5415 - val_accuracy: 0.8228\n",
            "Epoch 196/200\n",
            "1/1 [==============================] - 0s 192ms/step - loss: 0.3076 - accuracy: 0.8917 - val_loss: 0.5700 - val_accuracy: 0.8143\n",
            "Epoch 197/200\n",
            "1/1 [==============================] - 0s 192ms/step - loss: 0.2517 - accuracy: 0.9128 - val_loss: 0.6110 - val_accuracy: 0.8143\n",
            "Epoch 198/200\n",
            "1/1 [==============================] - 0s 197ms/step - loss: 0.2928 - accuracy: 0.8875 - val_loss: 0.5668 - val_accuracy: 0.8143\n",
            "Epoch 199/200\n",
            "1/1 [==============================] - 0s 168ms/step - loss: 0.2752 - accuracy: 0.8861 - val_loss: 0.5903 - val_accuracy: 0.7932\n",
            "Epoch 200/200\n",
            "1/1 [==============================] - 0s 164ms/step - loss: 0.2957 - accuracy: 0.8805 - val_loss: 0.5553 - val_accuracy: 0.8228\n"
          ],
          "name": "stdout"
        }
      ]
    },
    {
      "cell_type": "code",
      "metadata": {
        "id": "AAcheQE6nCeZ",
        "colab": {
          "base_uri": "https://localhost:8080/",
          "height": 590
        },
        "outputId": "e7be1d7c-de45-402a-d6aa-621930c7d08c"
      },
      "source": [
        "import matplotlib.pyplot as plt\n",
        "\n",
        "print(H.history.keys())\n",
        "# summarize history for accuracy\n",
        "plt.plot(H.history['accuracy'])\n",
        "plt.plot(H.history['val_accuracy'])\n",
        "plt.title('model accuracy')\n",
        "plt.ylabel('accuracy')\n",
        "plt.xlabel('epoch')\n",
        "plt.legend(['train', 'test'], loc='upper left')\n",
        "plt.show()\n",
        "# summarize history for loss\n",
        "plt.plot(H.history['loss'])\n",
        "plt.plot(H.history['val_loss'])\n",
        "plt.title('model loss')\n",
        "plt.ylabel('loss')\n",
        "plt.xlabel('epoch')\n",
        "plt.legend(['train', 'test'], loc='upper left')\n",
        "plt.show()"
      ],
      "execution_count": 29,
      "outputs": [
        {
          "output_type": "stream",
          "text": [
            "dict_keys(['loss', 'accuracy', 'val_loss', 'val_accuracy'])\n"
          ],
          "name": "stdout"
        },
        {
          "output_type": "display_data",
          "data": {
            "image/png": "[encoded data removed]",
            "text/plain": [
              "<Figure size 432x288 with 1 Axes>"
            ]
          },
          "metadata": {
            "tags": [],
            "needs_background": "light"
          }
        },
        {
          "output_type": "display_data",
          "data": {
            "image/png": "[encoded data removed]",
            "text/plain": [
              "<Figure size 432x288 with 1 Axes>"
            ]
          },
          "metadata": {
            "tags": [],
            "needs_background": "light"
          }
        }
      ]
    },
    {
      "cell_type": "code",
      "metadata": {
        "colab": {
          "base_uri": "https://localhost:8080/"
        },
        "id": "rzEe_ys4bUhj",
        "outputId": "c12a2fa8-e6d4-4d4d-fa6b-f3df131fd7f9"
      },
      "source": [
        "# evaluate the network\n",
        "print(\"[INFO] evaluating network...\")\n",
        "predictions = model.predict(testX, batch_size=32)\n",
        "print(classification_report(testY.argmax(axis=1),\n",
        "\tpredictions.argmax(axis=1), target_names=lb.classes_))"
      ],
      "execution_count": 30,
      "outputs": [
        {
          "output_type": "stream",
          "text": [
            "[INFO] evaluating network...\n",
            "WARNING:tensorflow:Model was constructed with shape (None, 49152) for input KerasTensor(type_spec=TensorSpec(shape=(None, 49152), dtype=tf.float32, name='flatten_1_input'), name='flatten_1_input', description=\"created by layer 'flatten_1_input'\"), but it was called on an input with incompatible shape (None, 128, 128, 3).\n",
            "              precision    recall  f1-score   support\n",
            "\n",
            "       coast       0.83      0.82      0.82        94\n",
            "      forest       0.85      0.86      0.85        77\n",
            "     highway       0.79      0.79      0.79        66\n",
            "\n",
            "    accuracy                           0.82       237\n",
            "   macro avg       0.82      0.82      0.82       237\n",
            "weighted avg       0.82      0.82      0.82       237\n",
            "\n"
          ],
          "name": "stdout"
        }
      ]
    }
  ]
}
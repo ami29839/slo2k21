{
  "nbformat": 4,
  "nbformat_minor": 0,
  "metadata": {
    "colab": {
      "name": "UTS_AryaMaulanaI_2101202079.ipynb",
      "provenance": [],
      "collapsed_sections": [],
      "authorship_tag": "ABX9TyNOppZJEkRN3Dn7m6JCvD0h",
      "include_colab_link": true
    },
    "kernelspec": {
      "name": "python3",
      "display_name": "Python 3"
    },
    "language_info": {
      "name": "python"
    },
    "accelerator": "GPU"
  },
  "cells": [
    {
      "cell_type": "markdown",
      "metadata": {
        "id": "view-in-github",
        "colab_type": "text"
      },
      "source": [
        "<a href=\"https://colab.research.google.com/github/ami29839/slo2k21/blob/main/UTS_AryaMaulanaI_2101202079.ipynb\" target=\"_parent\"><img src=\"https://colab.research.google.com/assets/colab-badge.svg\" alt=\"Open In Colab\"/></a>"
      ]
    },
    {
      "cell_type": "code",
      "metadata": {
        "colab": {
          "base_uri": "https://localhost:8080/"
        },
        "id": "h6Atl4-ff-VP",
        "outputId": "cbcbb5ee-de98-4be8-ae62-3f10f0a898a8"
      },
      "source": [
        "from google.colab import drive\n",
        "drive.mount('/content/drive')"
      ],
      "execution_count": 268,
      "outputs": [
        {
          "output_type": "stream",
          "text": [
            "Drive already mounted at /content/drive; to attempt to forcibly remount, call drive.mount(\"/content/drive\", force_remount=True).\n"
          ],
          "name": "stdout"
        }
      ]
    },
    {
      "cell_type": "code",
      "metadata": {
        "colab": {
          "base_uri": "https://localhost:8080/"
        },
        "id": "5ewU6PzPgALp",
        "outputId": "0218d41a-cf68-443d-cceb-96942a7bca91"
      },
      "source": [
        "cd /content/drive/MyDrive/Colab"
      ],
      "execution_count": 269,
      "outputs": [
        {
          "output_type": "stream",
          "text": [
            "/content/drive/MyDrive/Colab\n"
          ],
          "name": "stdout"
        }
      ]
    },
    {
      "cell_type": "code",
      "metadata": {
        "id": "HcQ_0LGugAkP"
      },
      "source": [
        "from keras.models import Sequential\n",
        "from keras.layers.core import Activation\n",
        "from keras.layers.core import Flatten\n",
        "from keras.layers.core import Dense\n",
        "from keras.optimizers import Adam\n",
        "from sklearn.preprocessing import LabelBinarizer\n",
        "from sklearn.model_selection import train_test_split\n",
        "from sklearn.metrics import classification_report\n",
        "from PIL import Image\n",
        "from imutils import paths\n",
        "import numpy as np\n",
        "import os"
      ],
      "execution_count": 270,
      "outputs": []
    },
    {
      "cell_type": "code",
      "metadata": {
        "colab": {
          "base_uri": "https://localhost:8080/"
        },
        "id": "7DK5hvDVgDJH",
        "outputId": "109252a9-671c-46ce-9f45-d86581d514fe"
      },
      "source": [
        "print(\"(INFO) loading images...\")\n",
        "imagePaths=paths.list_images(\"3scene\")\n",
        "data=[]\n",
        "labels=[]"
      ],
      "execution_count": 271,
      "outputs": [
        {
          "output_type": "stream",
          "text": [
            "(INFO) loading images...\n"
          ],
          "name": "stdout"
        }
      ]
    },
    {
      "cell_type": "code",
      "metadata": {
        "id": "pTIVcLYygEwq"
      },
      "source": [
        "for imagePath in imagePaths:\n",
        "  image=Image.open(imagePath)\n",
        "  image=np.array(image.resize((128,128))) / 255.0\n",
        "  data.append(image)\n",
        "  label=imagePath.split(os.path.sep)[-2]\n",
        "  labels.append(label)"
      ],
      "execution_count": 272,
      "outputs": []
    },
    {
      "cell_type": "code",
      "metadata": {
        "colab": {
          "base_uri": "https://localhost:8080/"
        },
        "id": "UbeJzyrqhwQC",
        "outputId": "9bbba30c-8980-4688-8a11-483c6bb88256"
      },
      "source": [
        "print(labels)"
      ],
      "execution_count": 273,
      "outputs": [
        {
          "output_type": "stream",
          "text": [
            "['coast', 'coast', 'coast', 'coast', 'coast', 'coast', 'coast', 'coast', 'coast', 'coast', 'coast', 'coast', 'coast', 'coast', 'coast', 'coast', 'coast', 'coast', 'coast', 'coast', 'coast', 'coast', 'coast', 'coast', 'coast', 'coast', 'coast', 'coast', 'coast', 'coast', 'coast', 'coast', 'coast', 'coast', 'coast', 'coast', 'coast', 'coast', 'coast', 'coast', 'coast', 'coast', 'coast', 'coast', 'coast', 'coast', 'coast', 'coast', 'coast', 'coast', 'coast', 'coast', 'coast', 'coast', 'coast', 'coast', 'coast', 'coast', 'coast', 'coast', 'coast', 'coast', 'coast', 'coast', 'coast', 'coast', 'coast', 'coast', 'coast', 'coast', 'coast', 'coast', 'coast', 'coast', 'coast', 'coast', 'coast', 'coast', 'coast', 'coast', 'coast', 'coast', 'coast', 'coast', 'coast', 'coast', 'coast', 'coast', 'coast', 'coast', 'coast', 'coast', 'coast', 'coast', 'coast', 'coast', 'coast', 'coast', 'coast', 'coast', 'coast', 'coast', 'coast', 'coast', 'coast', 'coast', 'coast', 'coast', 'coast', 'coast', 'coast', 'coast', 'coast', 'coast', 'coast', 'coast', 'coast', 'coast', 'coast', 'coast', 'coast', 'coast', 'coast', 'coast', 'coast', 'coast', 'coast', 'coast', 'coast', 'coast', 'coast', 'coast', 'coast', 'coast', 'coast', 'coast', 'coast', 'coast', 'coast', 'coast', 'coast', 'coast', 'coast', 'coast', 'coast', 'coast', 'coast', 'coast', 'coast', 'coast', 'coast', 'coast', 'coast', 'coast', 'coast', 'coast', 'coast', 'coast', 'coast', 'coast', 'coast', 'coast', 'coast', 'coast', 'coast', 'coast', 'coast', 'coast', 'coast', 'coast', 'coast', 'coast', 'coast', 'coast', 'coast', 'coast', 'coast', 'coast', 'coast', 'coast', 'coast', 'coast', 'coast', 'coast', 'coast', 'coast', 'coast', 'coast', 'coast', 'coast', 'coast', 'coast', 'coast', 'coast', 'coast', 'coast', 'coast', 'coast', 'coast', 'coast', 'coast', 'coast', 'coast', 'coast', 'coast', 'coast', 'coast', 'coast', 'coast', 'coast', 'coast', 'coast', 'coast', 'coast', 'coast', 'coast', 'coast', 'coast', 'coast', 'coast', 'coast', 'coast', 'coast', 'coast', 'coast', 'coast', 'coast', 'coast', 'coast', 'coast', 'coast', 'coast', 'coast', 'coast', 'coast', 'coast', 'coast', 'coast', 'coast', 'coast', 'coast', 'coast', 'coast', 'coast', 'coast', 'coast', 'coast', 'coast', 'coast', 'coast', 'coast', 'coast', 'coast', 'coast', 'coast', 'coast', 'coast', 'coast', 'coast', 'coast', 'coast', 'coast', 'coast', 'coast', 'coast', 'coast', 'coast', 'coast', 'coast', 'coast', 'coast', 'coast', 'coast', 'coast', 'coast', 'coast', 'coast', 'coast', 'coast', 'coast', 'coast', 'coast', 'coast', 'coast', 'coast', 'coast', 'coast', 'coast', 'coast', 'coast', 'coast', 'coast', 'coast', 'coast', 'coast', 'coast', 'coast', 'coast', 'coast', 'coast', 'coast', 'coast', 'coast', 'coast', 'coast', 'coast', 'coast', 'coast', 'coast', 'coast', 'coast', 'coast', 'coast', 'coast', 'coast', 'coast', 'coast', 'coast', 'coast', 'coast', 'coast', 'coast', 'coast', 'coast', 'coast', 'coast', 'coast', 'coast', 'coast', 'coast', 'coast', 'coast', 'coast', 'coast', 'coast', 'coast', 'coast', 'coast', 'coast', 'coast', 'coast', 'coast', 'coast', 'coast', 'coast', 'coast', 'coast', 'coast', 'coast', 'coast', 'coast', 'coast', 'coast', 'coast', 'coast', 'coast', 'coast', 'coast', 'coast', 'coast', 'highway', 'highway', 'highway', 'highway', 'highway', 'highway', 'highway', 'highway', 'highway', 'highway', 'highway', 'highway', 'highway', 'highway', 'highway', 'highway', 'highway', 'highway', 'highway', 'highway', 'highway', 'highway', 'highway', 'highway', 'highway', 'highway', 'highway', 'highway', 'highway', 'highway', 'highway', 'highway', 'highway', 'highway', 'highway', 'highway', 'highway', 'highway', 'highway', 'highway', 'highway', 'highway', 'highway', 'highway', 'highway', 'highway', 'highway', 'highway', 'highway', 'highway', 'highway', 'highway', 'highway', 'highway', 'highway', 'highway', 'highway', 'highway', 'highway', 'highway', 'highway', 'highway', 'highway', 'highway', 'highway', 'highway', 'highway', 'highway', 'highway', 'highway', 'highway', 'highway', 'highway', 'highway', 'highway', 'highway', 'highway', 'highway', 'highway', 'highway', 'highway', 'highway', 'highway', 'highway', 'highway', 'highway', 'highway', 'highway', 'highway', 'highway', 'highway', 'highway', 'highway', 'highway', 'highway', 'highway', 'highway', 'highway', 'highway', 'highway', 'highway', 'highway', 'highway', 'highway', 'highway', 'highway', 'highway', 'highway', 'highway', 'highway', 'highway', 'highway', 'highway', 'highway', 'highway', 'highway', 'highway', 'highway', 'highway', 'highway', 'highway', 'highway', 'highway', 'highway', 'highway', 'highway', 'highway', 'highway', 'highway', 'highway', 'highway', 'highway', 'highway', 'highway', 'highway', 'highway', 'highway', 'highway', 'highway', 'highway', 'highway', 'highway', 'highway', 'highway', 'highway', 'highway', 'highway', 'highway', 'highway', 'highway', 'highway', 'highway', 'highway', 'highway', 'highway', 'highway', 'highway', 'highway', 'highway', 'highway', 'highway', 'highway', 'highway', 'highway', 'highway', 'highway', 'highway', 'highway', 'highway', 'highway', 'highway', 'highway', 'highway', 'highway', 'highway', 'highway', 'highway', 'highway', 'highway', 'highway', 'highway', 'highway', 'highway', 'highway', 'highway', 'highway', 'highway', 'highway', 'highway', 'highway', 'highway', 'highway', 'highway', 'highway', 'highway', 'highway', 'highway', 'highway', 'highway', 'highway', 'highway', 'highway', 'highway', 'highway', 'highway', 'highway', 'highway', 'highway', 'highway', 'highway', 'highway', 'highway', 'highway', 'highway', 'highway', 'highway', 'highway', 'highway', 'highway', 'highway', 'highway', 'highway', 'highway', 'highway', 'highway', 'highway', 'highway', 'highway', 'highway', 'highway', 'highway', 'highway', 'highway', 'highway', 'highway', 'highway', 'highway', 'highway', 'highway', 'highway', 'highway', 'highway', 'highway', 'highway', 'highway', 'highway', 'highway', 'highway', 'highway', 'highway', 'highway', 'highway', 'highway', 'highway', 'highway', 'highway', 'highway', 'highway', 'highway', 'highway', 'forest', 'forest', 'forest', 'forest', 'forest', 'forest', 'forest', 'forest', 'forest', 'forest', 'forest', 'forest', 'forest', 'forest', 'forest', 'forest', 'forest', 'forest', 'forest', 'forest', 'forest', 'forest', 'forest', 'forest', 'forest', 'forest', 'forest', 'forest', 'forest', 'forest', 'forest', 'forest', 'forest', 'forest', 'forest', 'forest', 'forest', 'forest', 'forest', 'forest', 'forest', 'forest', 'forest', 'forest', 'forest', 'forest', 'forest', 'forest', 'forest', 'forest', 'forest', 'forest', 'forest', 'forest', 'forest', 'forest', 'forest', 'forest', 'forest', 'forest', 'forest', 'forest', 'forest', 'forest', 'forest', 'forest', 'forest', 'forest', 'forest', 'forest', 'forest', 'forest', 'forest', 'forest', 'forest', 'forest', 'forest', 'forest', 'forest', 'forest', 'forest', 'forest', 'forest', 'forest', 'forest', 'forest', 'forest', 'forest', 'forest', 'forest', 'forest', 'forest', 'forest', 'forest', 'forest', 'forest', 'forest', 'forest', 'forest', 'forest', 'forest', 'forest', 'forest', 'forest', 'forest', 'forest', 'forest', 'forest', 'forest', 'forest', 'forest', 'forest', 'forest', 'forest', 'forest', 'forest', 'forest', 'forest', 'forest', 'forest', 'forest', 'forest', 'forest', 'forest', 'forest', 'forest', 'forest', 'forest', 'forest', 'forest', 'forest', 'forest', 'forest', 'forest', 'forest', 'forest', 'forest', 'forest', 'forest', 'forest', 'forest', 'forest', 'forest', 'forest', 'forest', 'forest', 'forest', 'forest', 'forest', 'forest', 'forest', 'forest', 'forest', 'forest', 'forest', 'forest', 'forest', 'forest', 'forest', 'forest', 'forest', 'forest', 'forest', 'forest', 'forest', 'forest', 'forest', 'forest', 'forest', 'forest', 'forest', 'forest', 'forest', 'forest', 'forest', 'forest', 'forest', 'forest', 'forest', 'forest', 'forest', 'forest', 'forest', 'forest', 'forest', 'forest', 'forest', 'forest', 'forest', 'forest', 'forest', 'forest', 'forest', 'forest', 'forest', 'forest', 'forest', 'forest', 'forest', 'forest', 'forest', 'forest', 'forest', 'forest', 'forest', 'forest', 'forest', 'forest', 'forest', 'forest', 'forest', 'forest', 'forest', 'forest', 'forest', 'forest', 'forest', 'forest', 'forest', 'forest', 'forest', 'forest', 'forest', 'forest', 'forest', 'forest', 'forest', 'forest', 'forest', 'forest', 'forest', 'forest', 'forest', 'forest', 'forest', 'forest', 'forest', 'forest', 'forest', 'forest', 'forest', 'forest', 'forest', 'forest', 'forest', 'forest', 'forest', 'forest', 'forest', 'forest', 'forest', 'forest', 'forest', 'forest', 'forest', 'forest', 'forest', 'forest', 'forest', 'forest', 'forest', 'forest', 'forest', 'forest', 'forest', 'forest', 'forest', 'forest', 'forest', 'forest', 'forest', 'forest', 'forest', 'forest', 'forest', 'forest', 'forest', 'forest', 'forest', 'forest', 'forest', 'forest', 'forest', 'forest', 'forest', 'forest', 'forest', 'forest', 'forest', 'forest', 'forest', 'forest', 'forest', 'forest', 'forest', 'forest', 'forest', 'forest', 'forest', 'forest', 'forest', 'forest', 'forest', 'forest', 'forest', 'forest', 'forest', 'forest', 'forest', 'forest', 'forest', 'forest', 'forest', 'forest', 'forest', 'forest', 'forest', 'forest', 'forest', 'forest', 'forest', 'forest', 'forest', 'forest', 'forest', 'forest', 'forest', 'forest']\n"
          ],
          "name": "stdout"
        }
      ]
    },
    {
      "cell_type": "code",
      "metadata": {
        "id": "l-W_gkkyh4b4"
      },
      "source": [
        "lb=LabelBinarizer()\n",
        "labels=lb.fit_transform(labels)"
      ],
      "execution_count": 274,
      "outputs": []
    },
    {
      "cell_type": "code",
      "metadata": {
        "colab": {
          "base_uri": "https://localhost:8080/"
        },
        "id": "I1BIYSgKjdkD",
        "outputId": "6ec6b5df-cf24-43e6-d90e-496993be5c67"
      },
      "source": [
        "print(labels)"
      ],
      "execution_count": 275,
      "outputs": [
        {
          "output_type": "stream",
          "text": [
            "[[1 0 0]\n",
            " [1 0 0]\n",
            " [1 0 0]\n",
            " ...\n",
            " [0 1 0]\n",
            " [0 1 0]\n",
            " [0 1 0]]\n"
          ],
          "name": "stdout"
        }
      ]
    },
    {
      "cell_type": "code",
      "metadata": {
        "colab": {
          "base_uri": "https://localhost:8080/"
        },
        "id": "4zZP9QpZjqIz",
        "outputId": "3f539917-3809-45b3-d293-b28b2953292b"
      },
      "source": [
        "print(np.array(data).shape)"
      ],
      "execution_count": 276,
      "outputs": [
        {
          "output_type": "stream",
          "text": [
            "(948, 128, 128, 3)\n"
          ],
          "name": "stdout"
        }
      ]
    },
    {
      "cell_type": "code",
      "metadata": {
        "colab": {
          "base_uri": "https://localhost:8080/"
        },
        "id": "nW3kNy5Oj4Ce",
        "outputId": "5d977985-6ba5-47f4-d954-080a459b3513"
      },
      "source": [
        "(trainX, testX, trainY, testY)=train_test_split(np.array(data), np.array(labels), test_size=0.25)\n",
        "print(trainX.shape)\n",
        "print(testX.shape)"
      ],
      "execution_count": 277,
      "outputs": [
        {
          "output_type": "stream",
          "text": [
            "(711, 128, 128, 3)\n",
            "(237, 128, 128, 3)\n"
          ],
          "name": "stdout"
        }
      ]
    },
    {
      "cell_type": "code",
      "metadata": {
        "id": "OoDliYHtkdhB"
      },
      "source": [
        "from keras.models import Sequential\n",
        "from keras.layers.core import Flatten\n",
        "from keras.layers.core import Dense, Dropout\n",
        "model=Sequential(\n",
        "    [\n",
        "     Flatten(input_shape=(128*128*3,)),\n",
        "     Dense(1024, activation=\"relu\"),\n",
        "     Dense(512, activation=\"relu\"),\n",
        "     Dense(256, activation=\"relu\"),\n",
        "     Dense(128, activation=\"relu\"),\n",
        "     #Dropout(0.25),\n",
        "     Dense(64, activation=\"relu\"),\n",
        "     Dense(32, activation=\"relu\"),\n",
        "     Dense(16, activation=\"relu\"),\n",
        "     Dense(8, activation=\"relu\"),\n",
        "     #Dense(4, activation=\"relu\"),\n",
        "     Dense(3, activation=\"softmax\"),\n",
        "    ]\n",
        ")"
      ],
      "execution_count": 278,
      "outputs": []
    },
    {
      "cell_type": "code",
      "metadata": {
        "colab": {
          "base_uri": "https://localhost:8080/"
        },
        "id": "b_WeSv7nl1Ou",
        "outputId": "fcee9dd4-0a79-4431-b6ba-3caa19f28b02"
      },
      "source": [
        "model.summary()"
      ],
      "execution_count": 279,
      "outputs": [
        {
          "output_type": "stream",
          "text": [
            "Model: \"sequential_19\"\n",
            "_________________________________________________________________\n",
            "Layer (type)                 Output Shape              Param #   \n",
            "=================================================================\n",
            "flatten_19 (Flatten)         (None, 49152)             0         \n",
            "_________________________________________________________________\n",
            "dense_56 (Dense)             (None, 1024)              50332672  \n",
            "_________________________________________________________________\n",
            "dense_57 (Dense)             (None, 512)               524800    \n",
            "_________________________________________________________________\n",
            "dense_58 (Dense)             (None, 256)               131328    \n",
            "_________________________________________________________________\n",
            "dense_59 (Dense)             (None, 128)               32896     \n",
            "_________________________________________________________________\n",
            "dense_60 (Dense)             (None, 64)                8256      \n",
            "_________________________________________________________________\n",
            "dense_61 (Dense)             (None, 32)                2080      \n",
            "_________________________________________________________________\n",
            "dense_62 (Dense)             (None, 16)                528       \n",
            "_________________________________________________________________\n",
            "dense_63 (Dense)             (None, 8)                 136       \n",
            "_________________________________________________________________\n",
            "dense_64 (Dense)             (None, 3)                 27        \n",
            "=================================================================\n",
            "Total params: 51,032,723\n",
            "Trainable params: 51,032,723\n",
            "Non-trainable params: 0\n",
            "_________________________________________________________________\n"
          ],
          "name": "stdout"
        }
      ]
    },
    {
      "cell_type": "code",
      "metadata": {
        "colab": {
          "base_uri": "https://localhost:8080/"
        },
        "id": "r-WsWlFSmBLv",
        "outputId": "1ad19867-3d6d-4c64-8b11-d67e9a655951"
      },
      "source": [
        "print(\"(INFO) training network.....\")\n",
        "opt = Adam(lr=1e-3, decay=1e-3 )\n",
        "model.compile(loss=\"categorical_crossentropy\", optimizer=opt,\n",
        "\tmetrics=[\"accuracy\"])\n",
        "H = model.fit(trainX, trainY, validation_data=(testX, testY), epochs=100, batch_size=300)"
      ],
      "execution_count": 280,
      "outputs": [
        {
          "output_type": "stream",
          "text": [
            "(INFO) training network.....\n",
            "Epoch 1/100\n",
            "WARNING:tensorflow:Model was constructed with shape (None, 49152) for input KerasTensor(type_spec=TensorSpec(shape=(None, 49152), dtype=tf.float32, name='flatten_19_input'), name='flatten_19_input', description=\"created by layer 'flatten_19_input'\"), but it was called on an input with incompatible shape (None, 128, 128, 3).\n",
            "WARNING:tensorflow:Model was constructed with shape (None, 49152) for input KerasTensor(type_spec=TensorSpec(shape=(None, 49152), dtype=tf.float32, name='flatten_19_input'), name='flatten_19_input', description=\"created by layer 'flatten_19_input'\"), but it was called on an input with incompatible shape (None, 128, 128, 3).\n",
            "3/3 [==============================] - ETA: 0s - loss: 2.7405 - accuracy: 0.3365WARNING:tensorflow:Model was constructed with shape (None, 49152) for input KerasTensor(type_spec=TensorSpec(shape=(None, 49152), dtype=tf.float32, name='flatten_19_input'), name='flatten_19_input', description=\"created by layer 'flatten_19_input'\"), but it was called on an input with incompatible shape (None, 128, 128, 3).\n",
            "3/3 [==============================] - 1s 230ms/step - loss: 3.0802 - accuracy: 0.3297 - val_loss: 1.1429 - val_accuracy: 0.2827\n",
            "Epoch 2/100\n",
            "3/3 [==============================] - 0s 120ms/step - loss: 2.1310 - accuracy: 0.2956 - val_loss: 6.6224 - val_accuracy: 0.2827\n",
            "Epoch 3/100\n",
            "3/3 [==============================] - 0s 111ms/step - loss: 8.1253 - accuracy: 0.2961 - val_loss: 3.7727 - val_accuracy: 0.2827\n",
            "Epoch 4/100\n",
            "3/3 [==============================] - 0s 115ms/step - loss: 3.6413 - accuracy: 0.3288 - val_loss: 5.8089 - val_accuracy: 0.3924\n",
            "Epoch 5/100\n",
            "3/3 [==============================] - 0s 105ms/step - loss: 5.2542 - accuracy: 0.3570 - val_loss: 1.1644 - val_accuracy: 0.5063\n",
            "Epoch 6/100\n",
            "3/3 [==============================] - 0s 90ms/step - loss: 1.6583 - accuracy: 0.4165 - val_loss: 1.2021 - val_accuracy: 0.3966\n",
            "Epoch 7/100\n",
            "3/3 [==============================] - 0s 97ms/step - loss: 1.2515 - accuracy: 0.3714 - val_loss: 1.0734 - val_accuracy: 0.3586\n",
            "Epoch 8/100\n",
            "3/3 [==============================] - 0s 102ms/step - loss: 1.1199 - accuracy: 0.3658 - val_loss: 1.1159 - val_accuracy: 0.4937\n",
            "Epoch 9/100\n",
            "3/3 [==============================] - 0s 94ms/step - loss: 1.0756 - accuracy: 0.4259 - val_loss: 1.1115 - val_accuracy: 0.4937\n",
            "Epoch 10/100\n",
            "3/3 [==============================] - 0s 97ms/step - loss: 1.0727 - accuracy: 0.4948 - val_loss: 0.9568 - val_accuracy: 0.5063\n",
            "Epoch 11/100\n",
            "3/3 [==============================] - 0s 83ms/step - loss: 1.0109 - accuracy: 0.5413 - val_loss: 1.0281 - val_accuracy: 0.4093\n",
            "Epoch 12/100\n",
            "3/3 [==============================] - 0s 87ms/step - loss: 1.0077 - accuracy: 0.4549 - val_loss: 0.9167 - val_accuracy: 0.5359\n",
            "Epoch 13/100\n",
            "3/3 [==============================] - 0s 98ms/step - loss: 0.9538 - accuracy: 0.4946 - val_loss: 0.9621 - val_accuracy: 0.5570\n",
            "Epoch 14/100\n",
            "3/3 [==============================] - 0s 90ms/step - loss: 0.9375 - accuracy: 0.5546 - val_loss: 0.8919 - val_accuracy: 0.5527\n",
            "Epoch 15/100\n",
            "3/3 [==============================] - 0s 95ms/step - loss: 0.9011 - accuracy: 0.5875 - val_loss: 0.9253 - val_accuracy: 0.5021\n",
            "Epoch 16/100\n",
            "3/3 [==============================] - 0s 89ms/step - loss: 0.8886 - accuracy: 0.5717 - val_loss: 0.9026 - val_accuracy: 0.6076\n",
            "Epoch 17/100\n",
            "3/3 [==============================] - 0s 102ms/step - loss: 0.8775 - accuracy: 0.6135 - val_loss: 0.8270 - val_accuracy: 0.7004\n",
            "Epoch 18/100\n",
            "3/3 [==============================] - 0s 94ms/step - loss: 0.8386 - accuracy: 0.6643 - val_loss: 0.8321 - val_accuracy: 0.5738\n",
            "Epoch 19/100\n",
            "3/3 [==============================] - 0s 94ms/step - loss: 0.8271 - accuracy: 0.6004 - val_loss: 0.8173 - val_accuracy: 0.5696\n",
            "Epoch 20/100\n",
            "3/3 [==============================] - 0s 113ms/step - loss: 0.8314 - accuracy: 0.6146 - val_loss: 0.8765 - val_accuracy: 0.5485\n",
            "Epoch 21/100\n",
            "3/3 [==============================] - 0s 90ms/step - loss: 0.8191 - accuracy: 0.6028 - val_loss: 0.7860 - val_accuracy: 0.6498\n",
            "Epoch 22/100\n",
            "3/3 [==============================] - 0s 88ms/step - loss: 0.7766 - accuracy: 0.6585 - val_loss: 0.7699 - val_accuracy: 0.6582\n",
            "Epoch 23/100\n",
            "3/3 [==============================] - 0s 84ms/step - loss: 0.7837 - accuracy: 0.6447 - val_loss: 0.8905 - val_accuracy: 0.5823\n",
            "Epoch 24/100\n",
            "3/3 [==============================] - 0s 87ms/step - loss: 0.8328 - accuracy: 0.6350 - val_loss: 0.7438 - val_accuracy: 0.7173\n",
            "Epoch 25/100\n",
            "3/3 [==============================] - 0s 85ms/step - loss: 0.7629 - accuracy: 0.6551 - val_loss: 0.8425 - val_accuracy: 0.5865\n",
            "Epoch 26/100\n",
            "3/3 [==============================] - 0s 92ms/step - loss: 0.7937 - accuracy: 0.6283 - val_loss: 0.7784 - val_accuracy: 0.6456\n",
            "Epoch 27/100\n",
            "3/3 [==============================] - 0s 88ms/step - loss: 0.7498 - accuracy: 0.6755 - val_loss: 0.7176 - val_accuracy: 0.7384\n",
            "Epoch 28/100\n",
            "3/3 [==============================] - 0s 91ms/step - loss: 0.7125 - accuracy: 0.7128 - val_loss: 0.7673 - val_accuracy: 0.7089\n",
            "Epoch 29/100\n",
            "3/3 [==============================] - 0s 95ms/step - loss: 0.7857 - accuracy: 0.6801 - val_loss: 0.7829 - val_accuracy: 0.6076\n",
            "Epoch 30/100\n",
            "3/3 [==============================] - 0s 94ms/step - loss: 0.7152 - accuracy: 0.6742 - val_loss: 0.6844 - val_accuracy: 0.7553\n",
            "Epoch 31/100\n",
            "3/3 [==============================] - 0s 86ms/step - loss: 0.7046 - accuracy: 0.7042 - val_loss: 0.6777 - val_accuracy: 0.7468\n",
            "Epoch 32/100\n",
            "3/3 [==============================] - 0s 94ms/step - loss: 0.6625 - accuracy: 0.7521 - val_loss: 0.7443 - val_accuracy: 0.6414\n",
            "Epoch 33/100\n",
            "3/3 [==============================] - 0s 99ms/step - loss: 0.7006 - accuracy: 0.6882 - val_loss: 0.6543 - val_accuracy: 0.7764\n",
            "Epoch 34/100\n",
            "3/3 [==============================] - 0s 95ms/step - loss: 0.6219 - accuracy: 0.7737 - val_loss: 0.6467 - val_accuracy: 0.7806\n",
            "Epoch 35/100\n",
            "3/3 [==============================] - 0s 86ms/step - loss: 0.6119 - accuracy: 0.7666 - val_loss: 0.7083 - val_accuracy: 0.6709\n",
            "Epoch 36/100\n",
            "3/3 [==============================] - 0s 83ms/step - loss: 0.6545 - accuracy: 0.7382 - val_loss: 0.7648 - val_accuracy: 0.6709\n",
            "Epoch 37/100\n",
            "3/3 [==============================] - 0s 93ms/step - loss: 0.6825 - accuracy: 0.7057 - val_loss: 0.6922 - val_accuracy: 0.6751\n",
            "Epoch 38/100\n",
            "3/3 [==============================] - 0s 90ms/step - loss: 0.6611 - accuracy: 0.7047 - val_loss: 0.6773 - val_accuracy: 0.7384\n",
            "Epoch 39/100\n",
            "3/3 [==============================] - 0s 90ms/step - loss: 0.6220 - accuracy: 0.7475 - val_loss: 0.6883 - val_accuracy: 0.7046\n",
            "Epoch 40/100\n",
            "3/3 [==============================] - 0s 85ms/step - loss: 0.6534 - accuracy: 0.7442 - val_loss: 0.7177 - val_accuracy: 0.7046\n",
            "Epoch 41/100\n",
            "3/3 [==============================] - 0s 92ms/step - loss: 0.6691 - accuracy: 0.7254 - val_loss: 0.6487 - val_accuracy: 0.7932\n",
            "Epoch 42/100\n",
            "3/3 [==============================] - 0s 91ms/step - loss: 0.5813 - accuracy: 0.7766 - val_loss: 0.7231 - val_accuracy: 0.6371\n",
            "Epoch 43/100\n",
            "3/3 [==============================] - 0s 89ms/step - loss: 0.6167 - accuracy: 0.7103 - val_loss: 0.7569 - val_accuracy: 0.6962\n",
            "Epoch 44/100\n",
            "3/3 [==============================] - 0s 89ms/step - loss: 0.6167 - accuracy: 0.7701 - val_loss: 0.6027 - val_accuracy: 0.7890\n",
            "Epoch 45/100\n",
            "3/3 [==============================] - 0s 102ms/step - loss: 0.5641 - accuracy: 0.7795 - val_loss: 0.6244 - val_accuracy: 0.7806\n",
            "Epoch 46/100\n",
            "3/3 [==============================] - 0s 88ms/step - loss: 0.5628 - accuracy: 0.8095 - val_loss: 0.5835 - val_accuracy: 0.8017\n",
            "Epoch 47/100\n",
            "3/3 [==============================] - 0s 96ms/step - loss: 0.4982 - accuracy: 0.8363 - val_loss: 0.5820 - val_accuracy: 0.8228\n",
            "Epoch 48/100\n",
            "3/3 [==============================] - 0s 86ms/step - loss: 0.5057 - accuracy: 0.8344 - val_loss: 0.6175 - val_accuracy: 0.8059\n",
            "Epoch 49/100\n",
            "3/3 [==============================] - 0s 87ms/step - loss: 0.5056 - accuracy: 0.8292 - val_loss: 0.5726 - val_accuracy: 0.8059\n",
            "Epoch 50/100\n",
            "3/3 [==============================] - 0s 86ms/step - loss: 0.4978 - accuracy: 0.8352 - val_loss: 0.5788 - val_accuracy: 0.8354\n",
            "Epoch 51/100\n",
            "3/3 [==============================] - 0s 94ms/step - loss: 0.4882 - accuracy: 0.8199 - val_loss: 0.6138 - val_accuracy: 0.7848\n",
            "Epoch 52/100\n",
            "3/3 [==============================] - 0s 92ms/step - loss: 0.4993 - accuracy: 0.8156 - val_loss: 0.5798 - val_accuracy: 0.7806\n",
            "Epoch 53/100\n",
            "3/3 [==============================] - 0s 99ms/step - loss: 0.4776 - accuracy: 0.8304 - val_loss: 0.7537 - val_accuracy: 0.6878\n",
            "Epoch 54/100\n",
            "3/3 [==============================] - 0s 89ms/step - loss: 0.5644 - accuracy: 0.7727 - val_loss: 0.5566 - val_accuracy: 0.8059\n",
            "Epoch 55/100\n",
            "3/3 [==============================] - 0s 86ms/step - loss: 0.4605 - accuracy: 0.8371 - val_loss: 0.5543 - val_accuracy: 0.8354\n",
            "Epoch 56/100\n",
            "3/3 [==============================] - 0s 87ms/step - loss: 0.4356 - accuracy: 0.8641 - val_loss: 0.5665 - val_accuracy: 0.8270\n",
            "Epoch 57/100\n",
            "3/3 [==============================] - 0s 91ms/step - loss: 0.4419 - accuracy: 0.8478 - val_loss: 0.6205 - val_accuracy: 0.7679\n",
            "Epoch 58/100\n",
            "3/3 [==============================] - 0s 87ms/step - loss: 0.4779 - accuracy: 0.8174 - val_loss: 0.5494 - val_accuracy: 0.8397\n",
            "Epoch 59/100\n",
            "3/3 [==============================] - 0s 89ms/step - loss: 0.4262 - accuracy: 0.8662 - val_loss: 0.5491 - val_accuracy: 0.8143\n",
            "Epoch 60/100\n",
            "3/3 [==============================] - 0s 84ms/step - loss: 0.3938 - accuracy: 0.8744 - val_loss: 0.5738 - val_accuracy: 0.7722\n",
            "Epoch 61/100\n",
            "3/3 [==============================] - 0s 97ms/step - loss: 0.4271 - accuracy: 0.8588 - val_loss: 0.5790 - val_accuracy: 0.8186\n",
            "Epoch 62/100\n",
            "3/3 [==============================] - 0s 91ms/step - loss: 0.3962 - accuracy: 0.8553 - val_loss: 0.5447 - val_accuracy: 0.8143\n",
            "Epoch 63/100\n",
            "3/3 [==============================] - 0s 89ms/step - loss: 0.3914 - accuracy: 0.8829 - val_loss: 0.6209 - val_accuracy: 0.7722\n",
            "Epoch 64/100\n",
            "3/3 [==============================] - 0s 85ms/step - loss: 0.4330 - accuracy: 0.8543 - val_loss: 0.5535 - val_accuracy: 0.7932\n",
            "Epoch 65/100\n",
            "3/3 [==============================] - 0s 83ms/step - loss: 0.3960 - accuracy: 0.8697 - val_loss: 0.5407 - val_accuracy: 0.8354\n",
            "Epoch 66/100\n",
            "3/3 [==============================] - 0s 99ms/step - loss: 0.3592 - accuracy: 0.8929 - val_loss: 0.5430 - val_accuracy: 0.8143\n",
            "Epoch 67/100\n",
            "3/3 [==============================] - 0s 88ms/step - loss: 0.3634 - accuracy: 0.8822 - val_loss: 0.5448 - val_accuracy: 0.8101\n",
            "Epoch 68/100\n",
            "3/3 [==============================] - 0s 90ms/step - loss: 0.3514 - accuracy: 0.8887 - val_loss: 0.5976 - val_accuracy: 0.7637\n",
            "Epoch 69/100\n",
            "3/3 [==============================] - 0s 92ms/step - loss: 0.3871 - accuracy: 0.8689 - val_loss: 0.5760 - val_accuracy: 0.7890\n",
            "Epoch 70/100\n",
            "3/3 [==============================] - 0s 96ms/step - loss: 0.3807 - accuracy: 0.8610 - val_loss: 0.5936 - val_accuracy: 0.7511\n",
            "Epoch 71/100\n",
            "3/3 [==============================] - 0s 94ms/step - loss: 0.4003 - accuracy: 0.8564 - val_loss: 0.6109 - val_accuracy: 0.8143\n",
            "Epoch 72/100\n",
            "3/3 [==============================] - 0s 86ms/step - loss: 0.3850 - accuracy: 0.8601 - val_loss: 0.5467 - val_accuracy: 0.8270\n",
            "Epoch 73/100\n",
            "3/3 [==============================] - 0s 88ms/step - loss: 0.3444 - accuracy: 0.8934 - val_loss: 0.5444 - val_accuracy: 0.8228\n",
            "Epoch 74/100\n",
            "3/3 [==============================] - 0s 101ms/step - loss: 0.3587 - accuracy: 0.8800 - val_loss: 0.6204 - val_accuracy: 0.7975\n",
            "Epoch 75/100\n",
            "3/3 [==============================] - 0s 98ms/step - loss: 0.3805 - accuracy: 0.8593 - val_loss: 0.5625 - val_accuracy: 0.7890\n",
            "Epoch 76/100\n",
            "3/3 [==============================] - 0s 93ms/step - loss: 0.3265 - accuracy: 0.8994 - val_loss: 0.5387 - val_accuracy: 0.8228\n",
            "Epoch 77/100\n",
            "3/3 [==============================] - 0s 86ms/step - loss: 0.3071 - accuracy: 0.9044 - val_loss: 0.5507 - val_accuracy: 0.8397\n",
            "Epoch 78/100\n",
            "3/3 [==============================] - 0s 104ms/step - loss: 0.3115 - accuracy: 0.9070 - val_loss: 0.5530 - val_accuracy: 0.8186\n",
            "Epoch 79/100\n",
            "3/3 [==============================] - 0s 87ms/step - loss: 0.3114 - accuracy: 0.9041 - val_loss: 0.5878 - val_accuracy: 0.8059\n",
            "Epoch 80/100\n",
            "3/3 [==============================] - 0s 90ms/step - loss: 0.3367 - accuracy: 0.8837 - val_loss: 0.6755 - val_accuracy: 0.7384\n",
            "Epoch 81/100\n",
            "3/3 [==============================] - 0s 85ms/step - loss: 0.3446 - accuracy: 0.8666 - val_loss: 0.5722 - val_accuracy: 0.7890\n",
            "Epoch 82/100\n",
            "3/3 [==============================] - 0s 90ms/step - loss: 0.3087 - accuracy: 0.8859 - val_loss: 0.5553 - val_accuracy: 0.8397\n",
            "Epoch 83/100\n",
            "3/3 [==============================] - 0s 88ms/step - loss: 0.3620 - accuracy: 0.8732 - val_loss: 0.5695 - val_accuracy: 0.8650\n",
            "Epoch 84/100\n",
            "3/3 [==============================] - 0s 86ms/step - loss: 0.2845 - accuracy: 0.9019 - val_loss: 0.5843 - val_accuracy: 0.8397\n",
            "Epoch 85/100\n",
            "3/3 [==============================] - 0s 85ms/step - loss: 0.3016 - accuracy: 0.8956 - val_loss: 0.6160 - val_accuracy: 0.7468\n",
            "Epoch 86/100\n",
            "3/3 [==============================] - 0s 102ms/step - loss: 0.3183 - accuracy: 0.8832 - val_loss: 0.7523 - val_accuracy: 0.7215\n",
            "Epoch 87/100\n",
            "3/3 [==============================] - 0s 95ms/step - loss: 0.3701 - accuracy: 0.8677 - val_loss: 0.5649 - val_accuracy: 0.8101\n",
            "Epoch 88/100\n",
            "3/3 [==============================] - 0s 91ms/step - loss: 0.2940 - accuracy: 0.9119 - val_loss: 0.6589 - val_accuracy: 0.7932\n",
            "Epoch 89/100\n",
            "3/3 [==============================] - 0s 87ms/step - loss: 0.3617 - accuracy: 0.8688 - val_loss: 0.6162 - val_accuracy: 0.8143\n",
            "Epoch 90/100\n",
            "3/3 [==============================] - 0s 84ms/step - loss: 0.2964 - accuracy: 0.9033 - val_loss: 0.5462 - val_accuracy: 0.8186\n",
            "Epoch 91/100\n",
            "3/3 [==============================] - 0s 88ms/step - loss: 0.2360 - accuracy: 0.9301 - val_loss: 0.5596 - val_accuracy: 0.8523\n",
            "Epoch 92/100\n",
            "3/3 [==============================] - 0s 92ms/step - loss: 0.2364 - accuracy: 0.9330 - val_loss: 0.6031 - val_accuracy: 0.7806\n",
            "Epoch 93/100\n",
            "3/3 [==============================] - 0s 101ms/step - loss: 0.2651 - accuracy: 0.9131 - val_loss: 0.5514 - val_accuracy: 0.8270\n",
            "Epoch 94/100\n",
            "3/3 [==============================] - 0s 102ms/step - loss: 0.2336 - accuracy: 0.9325 - val_loss: 0.5963 - val_accuracy: 0.8228\n",
            "Epoch 95/100\n",
            "3/3 [==============================] - 0s 89ms/step - loss: 0.2565 - accuracy: 0.9078 - val_loss: 0.5625 - val_accuracy: 0.8523\n",
            "Epoch 96/100\n",
            "3/3 [==============================] - 0s 93ms/step - loss: 0.2464 - accuracy: 0.9231 - val_loss: 0.6324 - val_accuracy: 0.7722\n",
            "Epoch 97/100\n",
            "3/3 [==============================] - 0s 94ms/step - loss: 0.2745 - accuracy: 0.8931 - val_loss: 0.7006 - val_accuracy: 0.7300\n",
            "Epoch 98/100\n",
            "3/3 [==============================] - 0s 96ms/step - loss: 0.2827 - accuracy: 0.9096 - val_loss: 0.5826 - val_accuracy: 0.8143\n",
            "Epoch 99/100\n",
            "3/3 [==============================] - 0s 100ms/step - loss: 0.2248 - accuracy: 0.9399 - val_loss: 0.5511 - val_accuracy: 0.8565\n",
            "Epoch 100/100\n",
            "3/3 [==============================] - 0s 84ms/step - loss: 0.1984 - accuracy: 0.9419 - val_loss: 0.5431 - val_accuracy: 0.8354\n"
          ],
          "name": "stdout"
        }
      ]
    },
    {
      "cell_type": "code",
      "metadata": {
        "colab": {
          "base_uri": "https://localhost:8080/",
          "height": 590
        },
        "id": "AAcheQE6nCeZ",
        "outputId": "783e6754-cfaf-4119-e38c-b3d5607d09d3"
      },
      "source": [
        "import matplotlib.pyplot as plt\n",
        "\n",
        "print(H.history.keys())\n",
        "# summarize history for accuracy\n",
        "plt.plot(H.history['accuracy'])\n",
        "plt.plot(H.history['val_accuracy'])\n",
        "plt.title('model accuracy')\n",
        "plt.ylabel('accuracy')\n",
        "plt.xlabel('epoch')\n",
        "plt.legend(['train', 'test'], loc='upper left')\n",
        "plt.show()\n",
        "# summarize history for loss\n",
        "plt.plot(H.history['loss'])\n",
        "plt.plot(H.history['val_loss'])\n",
        "plt.title('model loss')\n",
        "plt.ylabel('loss')\n",
        "plt.xlabel('epoch')\n",
        "plt.legend(['train', 'test'], loc='upper left')\n",
        "plt.show()"
      ],
      "execution_count": 281,
      "outputs": [
        {
          "output_type": "stream",
          "text": [
            "dict_keys(['loss', 'accuracy', 'val_loss', 'val_accuracy'])\n"
          ],
          "name": "stdout"
        },
        {
          "output_type": "display_data",
          "data": {
            "image/png": "[encoded data removed]",
            "text/plain": [
              "<Figure size 432x288 with 1 Axes>"
            ]
          },
          "metadata": {
            "tags": [],
            "needs_background": "light"
          }
        },
        {
          "output_type": "display_data",
          "data": {
            "image/png": "[encoded data removed]",
            "text/plain": [
              "<Figure size 432x288 with 1 Axes>"
            ]
          },
          "metadata": {
            "tags": [],
            "needs_background": "light"
          }
        }
      ]
    }
  ]
}